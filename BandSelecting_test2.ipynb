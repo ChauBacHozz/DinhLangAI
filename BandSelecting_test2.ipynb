{
 "cells": [
  {
   "cell_type": "code",
   "execution_count": 575,
   "metadata": {},
   "outputs": [],
   "source": [
    "import os\n",
    "import pandas as pd\n",
    "import numpy as np\n",
    "import matplotlib.pyplot as plt\n",
    "from scipy.signal import savgol_filter\n",
    "import matplotlib.lines as mlines\n",
    "from sklearn.model_selection import cross_val_score\n",
    "from sklearn.metrics import mean_squared_error, r2_score\n",
    "from sys import stdout\n",
    "import pickle"
   ]
  },
  {
   "cell_type": "code",
   "execution_count": 576,
   "metadata": {},
   "outputs": [],
   "source": [
    "deriv_num = 1\n",
    "window_len = 25\n",
    "poly_or = 5"
   ]
  },
  {
   "cell_type": "markdown",
   "metadata": {},
   "source": [
    "### Hỗn hợp"
   ]
  },
  {
   "cell_type": "code",
   "execution_count": 577,
   "metadata": {},
   "outputs": [],
   "source": [
    "honhop_folder = \"data2/Honhop\"\n",
    "data_frames = []\n",
    "file_names = []\n",
    "for index, file_name in enumerate(os.listdir(honhop_folder)):\n",
    "    if file_name.endswith(\".CSV\"):  # Check if the file is a CSV\n",
    "        file_path = os.path.join(honhop_folder, file_name)\n",
    "        df = pd.read_csv(file_path, header=None).values\n",
    "        if index == 0:\n",
    "            data_frames.append(df[:, 0].reshape(1, -1))\n",
    "        data_frames.append(df[:, 1].reshape(1, -1))\n",
    "        file_names.append(file_name)\n",
    "honhop = pd.DataFrame(np.concatenate(data_frames[1:]), columns=list(data_frames[0]))\n",
    "honhop.columns = ['_'.join(map(str, col)) for col in honhop.columns]\n",
    "honhop[\"File name\"] = file_names\n",
    "honhop[\"Type\"] = honhop[\"File name\"].str.split(\"-\", expand=True)[0].str[0]"
   ]
  },
  {
   "cell_type": "markdown",
   "metadata": {},
   "source": [
    "### Rễ"
   ]
  },
  {
   "cell_type": "code",
   "execution_count": 578,
   "metadata": {},
   "outputs": [],
   "source": [
    "re_folder = \"data2/Re\"\n",
    "data_frames = []\n",
    "file_names = []\n",
    "for index, file_name in enumerate(os.listdir(re_folder)):\n",
    "    if file_name.endswith(\".CSV\"):  # Check if the file is a CSV\n",
    "        file_path = os.path.join(re_folder, file_name)\n",
    "        df = pd.read_csv(file_path, header=None).values\n",
    "        if index == 0:\n",
    "            data_frames.append(df[:, 0].reshape(1, -1))\n",
    "        data_frames.append(df[:, 1].reshape(1, -1))\n",
    "        file_names.append(file_name)\n",
    "re = pd.DataFrame(np.concatenate(data_frames[1:]), columns=list(data_frames[0]))\n",
    "re.columns = ['_'.join(map(str, col)) for col in re.columns]\n",
    "re[\"File name\"] = file_names\n",
    "re[\"Type\"] = re[\"File name\"].str.split(\"-\", expand=True)[0].str[0]"
   ]
  },
  {
   "cell_type": "markdown",
   "metadata": {},
   "source": [
    "### Thân"
   ]
  },
  {
   "cell_type": "code",
   "execution_count": 579,
   "metadata": {},
   "outputs": [],
   "source": [
    "than_folder = \"data2/Than\"\n",
    "data_frames = []\n",
    "file_names = []\n",
    "for index, file_name in enumerate(os.listdir(than_folder)):\n",
    "    if file_name.endswith(\".CSV\"):  # Check if the file is a CSV\n",
    "        file_path = os.path.join(than_folder, file_name)\n",
    "        df = pd.read_csv(file_path, header=None).values\n",
    "        if index == 0:\n",
    "            data_frames.append(df[:, 0].reshape(1, -1))\n",
    "        data_frames.append(df[:, 1].reshape(1, -1))\n",
    "        file_names.append(file_name)\n",
    "than = pd.DataFrame(np.concatenate(data_frames[1:]), columns=list(data_frames[0]))\n",
    "than.columns = ['_'.join(map(str, col)) for col in than.columns]\n",
    "than[\"File name\"] = file_names\n",
    "than[\"Type\"] = than[\"File name\"].str.split(\"-\", expand=True)[0].str[0]"
   ]
  },
  {
   "cell_type": "code",
   "execution_count": 580,
   "metadata": {},
   "outputs": [],
   "source": [
    "honhop_folder = \"data2/testHonhop\"\n",
    "data_frames = []\n",
    "file_names = []\n",
    "for index, file_name in enumerate(os.listdir(honhop_folder)):\n",
    "    if file_name.endswith(\".CSV\"):  # Check if the file is a CSV\n",
    "        file_path = os.path.join(honhop_folder, file_name)\n",
    "        df = pd.read_csv(file_path, header=None).values\n",
    "        if index == 0:\n",
    "            data_frames.append(df[:, 0].reshape(1, -1))\n",
    "        data_frames.append(df[:, 1].reshape(1, -1))\n",
    "        file_names.append(file_name + \"new\")\n",
    "honhop_test = pd.DataFrame(np.concatenate(data_frames[1:]), columns=list(data_frames[0]))\n",
    "honhop_test.columns = ['_'.join(map(str, col)) for col in honhop_test.columns]\n",
    "honhop_test[\"File name\"] = file_names\n",
    "honhop_test[\"Type\"] = honhop_test[\"File name\"].str.split(\"-\", expand=True)[0].str[0]"
   ]
  },
  {
   "cell_type": "code",
   "execution_count": 581,
   "metadata": {},
   "outputs": [],
   "source": [
    "\n",
    "def snv(input_data):\n",
    "  \n",
    "    # Define a new array and populate it with the corrected data  \n",
    "    output_data = np.zeros_like(input_data)\n",
    "    for i in range(input_data.shape[0]):\n",
    " \n",
    "        # Apply correction\n",
    "        output_data[i,:] = (input_data[i,:] - np.mean(input_data[i,:])) / np.std(input_data[i,:])\n",
    " \n",
    "    return output_data"
   ]
  },
  {
   "cell_type": "code",
   "execution_count": 582,
   "metadata": {},
   "outputs": [
    {
     "data": {
      "text/plain": [
       "(159, 1871)"
      ]
     },
     "execution_count": 582,
     "metadata": {},
     "output_type": "execute_result"
    }
   ],
   "source": [
    "data = pd.concat([honhop, re, than, honhop_test], axis=0)\n",
    "data.shape"
   ]
  },
  {
   "cell_type": "code",
   "execution_count": 583,
   "metadata": {},
   "outputs": [],
   "source": [
    "from sklearn.preprocessing import LabelEncoder\n",
    "le = LabelEncoder()\n",
    "y = le.fit_transform(data[\"Type\"])"
   ]
  },
  {
   "cell_type": "code",
   "execution_count": 584,
   "metadata": {},
   "outputs": [
    {
     "data": {
      "image/png": "[encoded data removed]",
      "text/plain": [
       "<Figure size 640x480 with 1 Axes>"
      ]
     },
     "metadata": {},
     "output_type": "display_data"
    }
   ],
   "source": [
    "X = data.iloc[:, :-2]\n",
    "wl = X.columns\n",
    "\n",
    "Xsnv = snv(X.values)\n",
    "plt.plot(X.T, linewidth = 0.7)\n",
    "plt.show()"
   ]
  },
  {
   "cell_type": "code",
   "execution_count": 585,
   "metadata": {},
   "outputs": [],
   "source": [
    "X = savgol_filter(Xsnv, window_length = window_len,  polyorder=poly_or, deriv = deriv_num)"
   ]
  },
  {
   "cell_type": "code",
   "execution_count": 586,
   "metadata": {},
   "outputs": [
    {
     "data": {
      "image/png": "[encoded data removed]",
      "text/plain": [
       "<Figure size 1200x1200 with 2 Axes>"
      ]
     },
     "metadata": {},
     "output_type": "display_data"
    }
   ],
   "source": [
    "from sklearn.cross_decomposition import PLSRegression\n",
    "pls = PLSRegression(8)\n",
    "pls.fit(X, y)\n",
    "\n",
    "\n",
    "# print(np.abs(pls.coef_)reshape(-1,1))\n",
    "plt.figure(figsize=(12,12))\n",
    "with plt.style.context(('ggplot')):\n",
    "    ax1 = plt.subplot(211)\n",
    "    plt.plot(wl, X.T)\n",
    "    plt.ylabel('First derivative absorbance spectra')\n",
    "    plt.gca().set_xticks(np.arange(0, len(wl), 100))\n",
    "    plt.xticks(rotation=90)\n",
    " \n",
    "    ax2 = plt.subplot(212, sharex=ax1)\n",
    "    plt.plot(wl, np.abs(pls.coef_).reshape(-1,1))\n",
    "    plt.xlabel('Wavelength (nm)')\n",
    "    plt.ylabel('Absolute value of PLS coefficients')\n",
    "    plt.gca().set_xticks(np.arange(0, len(wl), 100))\n",
    "    plt.xticks(rotation=90)\n",
    " \n",
    "    plt.show()"
   ]
  },
  {
   "cell_type": "code",
   "execution_count": 587,
   "metadata": {},
   "outputs": [
    {
     "name": "stdout",
     "output_type": "stream",
     "text": [
      "{'wav': 1785, 'sorted_ind': array([ 416, 1196, 1801, ...,  637,  636,  493], dtype=int64)}\n"
     ]
    }
   ],
   "source": [
    "# Open the file in binary mode \n",
    "with open('file.pkl', 'rb') as file: \n",
    "      \n",
    "    # Call load method to deserialze \n",
    "    params = pickle.load(file) \n",
    "  \n",
    "    print(params) "
   ]
  },
  {
   "cell_type": "code",
   "execution_count": 588,
   "metadata": {},
   "outputs": [],
   "source": [
    "sorted_ind = params['sorted_ind']\n",
    "wav = params['wav']\n",
    "X_new = X[:,sorted_ind][:, wav:]"
   ]
  },
  {
   "cell_type": "code",
   "execution_count": 589,
   "metadata": {},
   "outputs": [],
   "source": [
    "# load\n",
    "with open('model.pkl', 'rb') as f:\n",
    "    clf2 = pickle.load(f)\n",
    "with open('scaler.pkl', 'rb') as f:\n",
    "    scale = pickle.load(f)\n",
    "\n",
    "X_scaled = scale.transform(X_new)\n",
    "X_lda = clf2.transform(X_scaled)"
   ]
  },
  {
   "cell_type": "code",
   "execution_count": 590,
   "metadata": {},
   "outputs": [
    {
     "data": {
      "application/vnd.plotly.v1+json": {
       "config": {
        "plotlyServerURL": "https://plot.ly"
       },
       "data": [
        {
         "hovertemplate": [
          "D10_-1-1.CSV",
          "D10_-1-2.CSV",
          "D10_-1-3.CSV",
          "D10_-1-4.CSV",
          "D10_-1-5.CSV",
          "D10_-2-1.CSV",
          "D10_-2-2.CSV",
          "D10_-2-3.CSV",
          "D10_-2-4.CSV",
          "D10_-2-5.CSV",
          "D3-1-1.CSV",
          "D3-1-2.CSV",
          "D3-1-3.CSV",
          "D3-1-4.CSV",
          "D3-1-5.CSV",
          "D5_-1-1.CSV",
          "D5_-1-2.CSV",
          "D5_-1-3.CSV",
          "D5_-1-4.CSV",
          "D5_-1-5.CSV",
          "D5_-2-1.CSV",
          "D5_-2-2.CSV",
          "D5_-2-3.CSV",
          "D5_-2-4.CSV",
          "D5_-2-5.CSV",
          "R-DLS1-1.CSV",
          "R-DLS1-2.CSV",
          "R-DLS1-3.CSV",
          "R-DLS1-4.CSV",
          "R-DLS1-5.CSV",
          "R-PF1-1.CSV",
          "R-PF1-2.CSV",
          "R-PF1-3.CSV",
          "R-PF1-4.CSV",
          "R-PF1-5.CSV",
          "R1-DLS1-1.CSV",
          "R1-DLS1-2.CSV",
          "R1-DLS1-3.CSV",
          "R1-DLS1-4.CSV",
          "R1-DLS5-1.CSV",
          "R1-DLS5-2.CSV",
          "R1-DLS5-3.CSV",
          "R1-DLS5-4.CSV",
          "R1-DLS5-5.CSV",
          "R10-1.CSV",
          "R10-2.CSV",
          "R10-3.CSV",
          "R10-4.CSV",
          "R10-5.CSV",
          "R16-1.CSV",
          "R16-2.CSV",
          "R16-3.CSV",
          "R16-4.CSV",
          "R16-5.CSV",
          "R2-DLS1-1.CSV",
          "R2-DLS1-2.CSV",
          "R2-DLS1-3.CSV",
          "R2-DLS1-4.CSV",
          "R2-DLS1-5.CSV",
          "R3-1.CSV",
          "R3-2.CSV",
          "R3-3.CSV",
          "R3-4.CSV",
          "R3-5.CSV",
          "R3_New-1.CSV",
          "R3_New-2.CSV",
          "R3_New-3.CSV",
          "R3_New-4.CSV",
          "R3_New-5.CSV",
          "R4-1.CSV",
          "R4-2.CSV",
          "R4-3.CSV",
          "R4-4.CSV",
          "R4-5.CSV",
          "T1-1.CSV",
          "T1-2.CSV",
          "T1-3.CSV",
          "T1-4.CSV",
          "T1-5.CSV",
          "T10-1.CSV",
          "T10-2.CSV",
          "T10-3.CSV",
          "T10-4.CSV",
          "T10-5.CSV",
          "T2-1.CSV",
          "T2-2.CSV",
          "T2-3.CSV",
          "T2-4.CSV",
          "T2-5.CSV",
          "T4-1.CSV",
          "T4-2.CSV",
          "T4-3.CSV",
          "T4-4.CSV",
          "T4-5.CSV",
          "T5-1.CSV",
          "T5-2.CSV",
          "T5-3.CSV",
          "T5-4.CSV",
          "T5-5.CSV",
          "T6-1.CSV",
          "T6-2.CSV",
          "T6-3.CSV",
          "T6-4.CSV",
          "T6-5.CSV",
          "T7-1.CSV",
          "T7-2.CSV",
          "T7-3.CSV",
          "T7-4.CSV",
          "T7-5.CSV",
          "T9-1.CSV",
          "T9-2.CSV",
          "T9-3.CSV",
          "T9-4.CSV",
          "T9-5.CSV",
          "TC-DLS5-1.CSV",
          "TC-DLS5-2.CSV",
          "TC-DLS5-3.CSV",
          "TC-DLS5-4.CSV",
          "TC-DLS5-5.CSV",
          "D1-1.CSVnew",
          "D1-2.CSVnew",
          "D1-3.CSVnew",
          "D1-4.CSVnew",
          "D1-5.CSVnew",
          "D1_-1-1.CSVnew",
          "D1_-1-2.CSVnew",
          "D1_-1-3.CSVnew",
          "D1_-1-4.CSVnew",
          "D1_-1-5.CSVnew",
          "D1_-2-1.CSVnew",
          "D1_-2-2.CSVnew",
          "D1_-2-3.CSVnew",
          "D1_-2-4.CSVnew",
          "D1_-2-5.CSVnew",
          "D2_-1-1.CSVnew",
          "D2_-1-2.CSVnew",
          "D2_-1-3.CSVnew",
          "D2_-1-4.CSVnew",
          "D2_-1-5.CSVnew",
          "D2_-2-1.CSVnew",
          "D2_-2-2.CSVnew",
          "D2_-2-3.CSVnew",
          "D2_-2-4.CSVnew",
          "D2_-2-5.CSVnew",
          "D2_-3-1.CSVnew",
          "D2_-3-2.CSVnew",
          "D2_-3-3.CSVnew",
          "D2_-3-4.CSVnew",
          "D2_-3-5.CSVnew",
          "D5_-3-1.CSVnew",
          "D5_-3-2.CSVnew",
          "D5_-3-3.CSVnew",
          "D5_-3-4.CSVnew",
          "D5_-3-5.CSVnew",
          "D9_-1-1.CSVnew",
          "D9_-1-2.CSVnew",
          "D9_-1-3.CSVnew",
          "D9_-1-4.CSVnew",
          "D9_-1-5.CSVnew"
         ],
         "marker": {
          "color": [
           0,
           0,
           0,
           0,
           0,
           0,
           0,
           0,
           0,
           0,
           0,
           0,
           0,
           0,
           0,
           0,
           0,
           0,
           0,
           0,
           0,
           0,
           0,
           0,
           0,
           1,
           1,
           1,
           1,
           1,
           1,
           1,
           1,
           1,
           1,
           1,
           1,
           1,
           1,
           1,
           1,
           1,
           1,
           1,
           1,
           1,
           1,
           1,
           1,
           1,
           1,
           1,
           1,
           1,
           1,
           1,
           1,
           1,
           1,
           1,
           1,
           1,
           1,
           1,
           1,
           1,
           1,
           1,
           1,
           1,
           1,
           1,
           1,
           1,
           2,
           2,
           2,
           2,
           2,
           2,
           2,
           2,
           2,
           2,
           2,
           2,
           2,
           2,
           2,
           2,
           2,
           2,
           2,
           2,
           2,
           2,
           2,
           2,
           2,
           2,
           2,
           2,
           2,
           2,
           2,
           2,
           2,
           2,
           2,
           2,
           2,
           2,
           2,
           2,
           2,
           2,
           2,
           2,
           2,
           0,
           0,
           0,
           0,
           0,
           0,
           0,
           0,
           0,
           0,
           0,
           0,
           0,
           0,
           0,
           0,
           0,
           0,
           0,
           0,
           0,
           0,
           0,
           0,
           0,
           0,
           0,
           0,
           0,
           0,
           0,
           0,
           0,
           0,
           0,
           0,
           0,
           0,
           0,
           0
          ],
          "colorbar": {
           "ticktext": [
            "Hỗn hợp",
            "Rễ",
            "Thân"
           ],
           "tickvals": [
            0,
            1,
            2
           ],
           "title": {
            "text": "Type"
           }
          },
          "colorscale": [
           [
            0,
            "#440154"
           ],
           [
            0.1111111111111111,
            "#482878"
           ],
           [
            0.2222222222222222,
            "#3e4989"
           ],
           [
            0.3333333333333333,
            "#31688e"
           ],
           [
            0.4444444444444444,
            "#26828e"
           ],
           [
            0.5555555555555556,
            "#1f9e89"
           ],
           [
            0.6666666666666666,
            "#35b779"
           ],
           [
            0.7777777777777778,
            "#6ece58"
           ],
           [
            0.8888888888888888,
            "#b5de2b"
           ],
           [
            1,
            "#fde725"
           ]
          ],
          "line": {
           "color": "black",
           "width": 2
          },
          "showscale": true,
          "size": 10
         },
         "mode": "markers",
         "type": "scatter",
         "x": [
          -3.500937740443427,
          -5.075081666680387,
          -3.601149084002257,
          -2.79181960887262,
          -2.994207150717536,
          -2.547198985474432,
          -2.973274921191949,
          -2.8943228450527583,
          -3.8610072931470483,
          -0.27153423108914765,
          -4.494322626405736,
          -1.6836380578542975,
          -3.7296478908189767,
          -4.3409979782572305,
          -2.328804763665151,
          -4.184287627838821,
          -4.704032974174391,
          -2.7159548220787713,
          -3.568842789194067,
          -3.116826669776203,
          -2.3088985749739788,
          -3.452480341552878,
          -3.1369811467457005,
          -4.692850327998613,
          -5.059446316725151,
          8.53076013637386,
          7.215752761640986,
          7.901926645805983,
          8.678778443992222,
          8.776477944398877,
          8.763584882723395,
          8.29234181237361,
          8.480162451864663,
          6.964193372510769,
          6.772750917617307,
          8.187460849065593,
          7.885930622770871,
          8.545411413862606,
          8.720913191704337,
          8.924054301184437,
          9.351703223365258,
          9.870715461274173,
          8.868910749882735,
          9.22730687388706,
          7.938208343473843,
          7.548249703229662,
          8.470748348523296,
          10.593156094327995,
          8.386340911014859,
          8.386340911014859,
          8.765130451718054,
          9.578362948744468,
          11.347555803263452,
          9.687584281846233,
          7.411539282809586,
          9.206641500335703,
          9.373748299747966,
          8.854321997828068,
          8.800680740339875,
          7.608591076122901,
          10.34568963027653,
          8.556855555496949,
          8.284339429956743,
          7.687827833791042,
          8.636470552725957,
          5.573777420468204,
          9.170226257925762,
          8.031151734423778,
          8.016464101118535,
          9.586881595102858,
          8.83960354697584,
          8.694008317185956,
          9.800694004773357,
          10.024432265481188,
          -4.621441701080366,
          -3.2324226426693397,
          -2.278821721455699,
          -3.229676131972519,
          -6.820691507754907,
          -6.202728845802695,
          -5.116273226531723,
          -4.511815873669918,
          -4.022748727350422,
          -5.259067093139066,
          -3.773652671077872,
          -4.9591295137633855,
          -6.527133957385798,
          -3.1814709924488227,
          -3.740771849599255,
          -6.09024042460551,
          -6.433191200628223,
          -4.4118434590639435,
          -4.47145344274414,
          -3.562477816284402,
          -4.7713077320326445,
          -4.676325140770272,
          -3.109843078421423,
          -5.025706079558962,
          -4.218424214770307,
          -4.828976064288738,
          -3.793977490218237,
          -4.9248966405738,
          -5.715177371463179,
          -3.9825183619598388,
          -3.1897822794881705,
          -4.924826939928908,
          -4.124226512418911,
          -3.5605972438940645,
          -4.253500602425204,
          -4.061327416590603,
          -5.835063801867317,
          -4.242057178556738,
          -4.038192452095959,
          -3.239073006795989,
          -5.115717576305122,
          -4.370844946666467,
          -4.652959295040727,
          -4.057175542016667,
          -6.331922263146647,
          -2.602299680695119,
          -2.8525943359987145,
          -3.6464866015978505,
          -2.554065554880457,
          -3.5476590422194803,
          -3.4114600401171726,
          -3.1759730183474004,
          -3.3578042801903023,
          -3.543002248930606,
          -4.152611404260645,
          -3.307545812576483,
          -4.295605520455453,
          -0.8633951737133574,
          -2.7138655933299978,
          -3.051993487061632,
          -3.5669342936890702,
          -3.4807449560689814,
          -4.091674150651152,
          -3.749011613042323,
          -3.266904834466543,
          -5.5041073711568185,
          -4.961407818418888,
          -2.589737625512905,
          -4.14203523920712,
          -3.701054848237846,
          -4.488919557358833,
          -4.5163865974693485,
          -2.6506101282000842,
          -4.591463425620146,
          -3.9436442921422943,
          -2.4047195025830703,
          -3.594878414469627,
          -2.502197270441973,
          -3.5356921465978712,
          -2.9120038019338175,
          -2.4013856795301285,
          -3.7197392652294528,
          -2.242013812070825,
          -3.6932536911212743,
          -2.317858401692855
         ],
         "y": [
          -4.754921803058545,
          -2.502961111951749,
          -4.04476195381038,
          -2.837226731901277,
          -5.283165283563048,
          -3.5913295091104653,
          -4.965995700093075,
          -4.82267131962414,
          -3.909250711502786,
          -4.740087079060733,
          -5.2066883612933115,
          -3.6128337831668027,
          -4.942111920969312,
          -3.8537654542839848,
          -4.090588651882211,
          -4.861992152097977,
          -2.897111277036755,
          -4.06106148578172,
          -3.1582452649374124,
          -3.621220054926232,
          -3.8499166938340754,
          -2.0155815066534513,
          -3.003356750302203,
          -3.4815360430080178,
          -3.7317925870341644,
          1.3759980761585076,
          2.5723074334600766,
          -1.0873842575284136,
          1.793925362810042,
          0.9773958434978927,
          0.8691014463084353,
          0.642580045175561,
          -1.047588139246797,
          0.4099619324180841,
          0.23404995116629676,
          -0.971210534793612,
          0.49419908326359296,
          1.7006337926757848,
          0.5422545082082916,
          -0.48143983619025343,
          -0.2679593593667678,
          1.7516883841274642,
          1.1191492823603195,
          0.6704557031514247,
          1.299578054503303,
          -0.06005519014890133,
          0.13105755326858695,
          0.44081518964047534,
          1.0500475397833435,
          1.0500475397833435,
          -0.34949935721109693,
          1.1431794055518683,
          0.7809153312041004,
          -0.0944818418312812,
          -0.617545193574167,
          0.5037694142203557,
          1.0614769819945966,
          -0.14175048459421782,
          0.003362688639274291,
          0.2134448587657271,
          0.2788741583712698,
          0.1951308677877039,
          1.4117831835520012,
          1.2270930363161507,
          -0.23663000910082338,
          -0.5820413105408226,
          0.02360566394049,
          0.661432924217891,
          -0.18167932314700605,
          -1.0613134125249173,
          -0.3460467256197733,
          -0.0012049107944486453,
          0.8704136081316021,
          0.5517324903126789,
          6.312058604512529,
          5.868648982928732,
          3.2145770745335076,
          5.54934752662865,
          4.244679431249731,
          4.053211785424254,
          6.056825926596151,
          5.3764557274758165,
          3.0109349042433364,
          4.5353445121444,
          5.307067584578963,
          4.0452671766251616,
          2.5702824864644707,
          6.6168387955265,
          4.924879913353995,
          4.667779710858709,
          3.9567043077116715,
          5.3847268374940835,
          5.975341435769355,
          5.365652612639956,
          3.9942119015085473,
          6.2417037215958855,
          2.9586657101230314,
          5.679528979027483,
          5.792326564493469,
          4.922138335311156,
          5.072812019772092,
          5.495438270533818,
          4.271385542393696,
          6.841324187732182,
          2.4630198334203843,
          3.6516696089132625,
          3.9158757935516695,
          5.492655802475641,
          6.737250339305128,
          4.217730577317756,
          3.8831815815209456,
          4.240738560513731,
          2.9896521513042904,
          3.412027670112858,
          4.934267770028881,
          4.6498537418101735,
          5.4523707303737865,
          5.284377595706962,
          6.225618880191002,
          -3.07271493157424,
          -2.5831713485174213,
          -2.643424280422671,
          -3.3584333394951376,
          -4.239698331930277,
          -4.231043310509858,
          -3.685216617022504,
          -2.764770052576485,
          -4.116045422691265,
          -3.8743859050353757,
          -4.866345286376532,
          -2.5631526863143055,
          -3.6665548755018795,
          -4.556826711603921,
          -3.204320197029599,
          -3.415281482346848,
          -5.056261844071418,
          -4.336294233869339,
          -3.115917008612332,
          -2.701596557716496,
          -3.7026814991736896,
          -3.268292719414228,
          -3.2661933305353803,
          -2.4262242956945945,
          0.6984789030569744,
          -2.028769746961217,
          -3.803949946957754,
          -2.4203015811121364,
          -3.157243081816321,
          -3.1857307424802137,
          -2.9566349226144135,
          -4.015880774701789,
          -3.5511969443183338,
          -4.5812885393901395,
          -4.348707918513311,
          -3.537916270287144,
          -5.587257188833731,
          -4.046991596466234,
          -4.709166918715527,
          -2.592505925320299
         ]
        }
       ],
       "layout": {
        "height": 600,
        "template": {
         "data": {
          "bar": [
           {
            "error_x": {
             "color": "#2a3f5f"
            },
            "error_y": {
             "color": "#2a3f5f"
            },
            "marker": {
             "line": {
              "color": "#E5ECF6",
              "width": 0.5
             },
             "pattern": {
              "fillmode": "overlay",
              "size": 10,
              "solidity": 0.2
             }
            },
            "type": "bar"
           }
          ],
          "barpolar": [
           {
            "marker": {
             "line": {
              "color": "#E5ECF6",
              "width": 0.5
             },
             "pattern": {
              "fillmode": "overlay",
              "size": 10,
              "solidity": 0.2
             }
            },
            "type": "barpolar"
           }
          ],
          "carpet": [
           {
            "aaxis": {
             "endlinecolor": "#2a3f5f",
             "gridcolor": "white",
             "linecolor": "white",
             "minorgridcolor": "white",
             "startlinecolor": "#2a3f5f"
            },
            "baxis": {
             "endlinecolor": "#2a3f5f",
             "gridcolor": "white",
             "linecolor": "white",
             "minorgridcolor": "white",
             "startlinecolor": "#2a3f5f"
            },
            "type": "carpet"
           }
          ],
          "choropleth": [
           {
            "colorbar": {
             "outlinewidth": 0,
             "ticks": ""
            },
            "type": "choropleth"
           }
          ],
          "contour": [
           {
            "colorbar": {
             "outlinewidth": 0,
             "ticks": ""
            },
            "colorscale": [
             [
              0,
              "#0d0887"
             ],
             [
              0.1111111111111111,
              "#46039f"
             ],
             [
              0.2222222222222222,
              "#7201a8"
             ],
             [
              0.3333333333333333,
              "#9c179e"
             ],
             [
              0.4444444444444444,
              "#bd3786"
             ],
             [
              0.5555555555555556,
              "#d8576b"
             ],
             [
              0.6666666666666666,
              "#ed7953"
             ],
             [
              0.7777777777777778,
              "#fb9f3a"
             ],
             [
              0.8888888888888888,
              "#fdca26"
             ],
             [
              1,
              "#f0f921"
             ]
            ],
            "type": "contour"
           }
          ],
          "contourcarpet": [
           {
            "colorbar": {
             "outlinewidth": 0,
             "ticks": ""
            },
            "type": "contourcarpet"
           }
          ],
          "heatmap": [
           {
            "colorbar": {
             "outlinewidth": 0,
             "ticks": ""
            },
            "colorscale": [
             [
              0,
              "#0d0887"
             ],
             [
              0.1111111111111111,
              "#46039f"
             ],
             [
              0.2222222222222222,
              "#7201a8"
             ],
             [
              0.3333333333333333,
              "#9c179e"
             ],
             [
              0.4444444444444444,
              "#bd3786"
             ],
             [
              0.5555555555555556,
              "#d8576b"
             ],
             [
              0.6666666666666666,
              "#ed7953"
             ],
             [
              0.7777777777777778,
              "#fb9f3a"
             ],
             [
              0.8888888888888888,
              "#fdca26"
             ],
             [
              1,
              "#f0f921"
             ]
            ],
            "type": "heatmap"
           }
          ],
          "heatmapgl": [
           {
            "colorbar": {
             "outlinewidth": 0,
             "ticks": ""
            },
            "colorscale": [
             [
              0,
              "#0d0887"
             ],
             [
              0.1111111111111111,
              "#46039f"
             ],
             [
              0.2222222222222222,
              "#7201a8"
             ],
             [
              0.3333333333333333,
              "#9c179e"
             ],
             [
              0.4444444444444444,
              "#bd3786"
             ],
             [
              0.5555555555555556,
              "#d8576b"
             ],
             [
              0.6666666666666666,
              "#ed7953"
             ],
             [
              0.7777777777777778,
              "#fb9f3a"
             ],
             [
              0.8888888888888888,
              "#fdca26"
             ],
             [
              1,
              "#f0f921"
             ]
            ],
            "type": "heatmapgl"
           }
          ],
          "histogram": [
           {
            "marker": {
             "pattern": {
              "fillmode": "overlay",
              "size": 10,
              "solidity": 0.2
             }
            },
            "type": "histogram"
           }
          ],
          "histogram2d": [
           {
            "colorbar": {
             "outlinewidth": 0,
             "ticks": ""
            },
            "colorscale": [
             [
              0,
              "#0d0887"
             ],
             [
              0.1111111111111111,
              "#46039f"
             ],
             [
              0.2222222222222222,
              "#7201a8"
             ],
             [
              0.3333333333333333,
              "#9c179e"
             ],
             [
              0.4444444444444444,
              "#bd3786"
             ],
             [
              0.5555555555555556,
              "#d8576b"
             ],
             [
              0.6666666666666666,
              "#ed7953"
             ],
             [
              0.7777777777777778,
              "#fb9f3a"
             ],
             [
              0.8888888888888888,
              "#fdca26"
             ],
             [
              1,
              "#f0f921"
             ]
            ],
            "type": "histogram2d"
           }
          ],
          "histogram2dcontour": [
           {
            "colorbar": {
             "outlinewidth": 0,
             "ticks": ""
            },
            "colorscale": [
             [
              0,
              "#0d0887"
             ],
             [
              0.1111111111111111,
              "#46039f"
             ],
             [
              0.2222222222222222,
              "#7201a8"
             ],
             [
              0.3333333333333333,
              "#9c179e"
             ],
             [
              0.4444444444444444,
              "#bd3786"
             ],
             [
              0.5555555555555556,
              "#d8576b"
             ],
             [
              0.6666666666666666,
              "#ed7953"
             ],
             [
              0.7777777777777778,
              "#fb9f3a"
             ],
             [
              0.8888888888888888,
              "#fdca26"
             ],
             [
              1,
              "#f0f921"
             ]
            ],
            "type": "histogram2dcontour"
           }
          ],
          "mesh3d": [
           {
            "colorbar": {
             "outlinewidth": 0,
             "ticks": ""
            },
            "type": "mesh3d"
           }
          ],
          "parcoords": [
           {
            "line": {
             "colorbar": {
              "outlinewidth": 0,
              "ticks": ""
             }
            },
            "type": "parcoords"
           }
          ],
          "pie": [
           {
            "automargin": true,
            "type": "pie"
           }
          ],
          "scatter": [
           {
            "fillpattern": {
             "fillmode": "overlay",
             "size": 10,
             "solidity": 0.2
            },
            "type": "scatter"
           }
          ],
          "scatter3d": [
           {
            "line": {
             "colorbar": {
              "outlinewidth": 0,
              "ticks": ""
             }
            },
            "marker": {
             "colorbar": {
              "outlinewidth": 0,
              "ticks": ""
             }
            },
            "type": "scatter3d"
           }
          ],
          "scattercarpet": [
           {
            "marker": {
             "colorbar": {
              "outlinewidth": 0,
              "ticks": ""
             }
            },
            "type": "scattercarpet"
           }
          ],
          "scattergeo": [
           {
            "marker": {
             "colorbar": {
              "outlinewidth": 0,
              "ticks": ""
             }
            },
            "type": "scattergeo"
           }
          ],
          "scattergl": [
           {
            "marker": {
             "colorbar": {
              "outlinewidth": 0,
              "ticks": ""
             }
            },
            "type": "scattergl"
           }
          ],
          "scattermapbox": [
           {
            "marker": {
             "colorbar": {
              "outlinewidth": 0,
              "ticks": ""
             }
            },
            "type": "scattermapbox"
           }
          ],
          "scatterpolar": [
           {
            "marker": {
             "colorbar": {
              "outlinewidth": 0,
              "ticks": ""
             }
            },
            "type": "scatterpolar"
           }
          ],
          "scatterpolargl": [
           {
            "marker": {
             "colorbar": {
              "outlinewidth": 0,
              "ticks": ""
             }
            },
            "type": "scatterpolargl"
           }
          ],
          "scatterternary": [
           {
            "marker": {
             "colorbar": {
              "outlinewidth": 0,
              "ticks": ""
             }
            },
            "type": "scatterternary"
           }
          ],
          "surface": [
           {
            "colorbar": {
             "outlinewidth": 0,
             "ticks": ""
            },
            "colorscale": [
             [
              0,
              "#0d0887"
             ],
             [
              0.1111111111111111,
              "#46039f"
             ],
             [
              0.2222222222222222,
              "#7201a8"
             ],
             [
              0.3333333333333333,
              "#9c179e"
             ],
             [
              0.4444444444444444,
              "#bd3786"
             ],
             [
              0.5555555555555556,
              "#d8576b"
             ],
             [
              0.6666666666666666,
              "#ed7953"
             ],
             [
              0.7777777777777778,
              "#fb9f3a"
             ],
             [
              0.8888888888888888,
              "#fdca26"
             ],
             [
              1,
              "#f0f921"
             ]
            ],
            "type": "surface"
           }
          ],
          "table": [
           {
            "cells": {
             "fill": {
              "color": "#EBF0F8"
             },
             "line": {
              "color": "white"
             }
            },
            "header": {
             "fill": {
              "color": "#C8D4E3"
             },
             "line": {
              "color": "white"
             }
            },
            "type": "table"
           }
          ]
         },
         "layout": {
          "annotationdefaults": {
           "arrowcolor": "#2a3f5f",
           "arrowhead": 0,
           "arrowwidth": 1
          },
          "autotypenumbers": "strict",
          "coloraxis": {
           "colorbar": {
            "outlinewidth": 0,
            "ticks": ""
           }
          },
          "colorscale": {
           "diverging": [
            [
             0,
             "#8e0152"
            ],
            [
             0.1,
             "#c51b7d"
            ],
            [
             0.2,
             "#de77ae"
            ],
            [
             0.3,
             "#f1b6da"
            ],
            [
             0.4,
             "#fde0ef"
            ],
            [
             0.5,
             "#f7f7f7"
            ],
            [
             0.6,
             "#e6f5d0"
            ],
            [
             0.7,
             "#b8e186"
            ],
            [
             0.8,
             "#7fbc41"
            ],
            [
             0.9,
             "#4d9221"
            ],
            [
             1,
             "#276419"
            ]
           ],
           "sequential": [
            [
             0,
             "#0d0887"
            ],
            [
             0.1111111111111111,
             "#46039f"
            ],
            [
             0.2222222222222222,
             "#7201a8"
            ],
            [
             0.3333333333333333,
             "#9c179e"
            ],
            [
             0.4444444444444444,
             "#bd3786"
            ],
            [
             0.5555555555555556,
             "#d8576b"
            ],
            [
             0.6666666666666666,
             "#ed7953"
            ],
            [
             0.7777777777777778,
             "#fb9f3a"
            ],
            [
             0.8888888888888888,
             "#fdca26"
            ],
            [
             1,
             "#f0f921"
            ]
           ],
           "sequentialminus": [
            [
             0,
             "#0d0887"
            ],
            [
             0.1111111111111111,
             "#46039f"
            ],
            [
             0.2222222222222222,
             "#7201a8"
            ],
            [
             0.3333333333333333,
             "#9c179e"
            ],
            [
             0.4444444444444444,
             "#bd3786"
            ],
            [
             0.5555555555555556,
             "#d8576b"
            ],
            [
             0.6666666666666666,
             "#ed7953"
            ],
            [
             0.7777777777777778,
             "#fb9f3a"
            ],
            [
             0.8888888888888888,
             "#fdca26"
            ],
            [
             1,
             "#f0f921"
            ]
           ]
          },
          "colorway": [
           "#636efa",
           "#EF553B",
           "#00cc96",
           "#ab63fa",
           "#FFA15A",
           "#19d3f3",
           "#FF6692",
           "#B6E880",
           "#FF97FF",
           "#FECB52"
          ],
          "font": {
           "color": "#2a3f5f"
          },
          "geo": {
           "bgcolor": "white",
           "lakecolor": "white",
           "landcolor": "#E5ECF6",
           "showlakes": true,
           "showland": true,
           "subunitcolor": "white"
          },
          "hoverlabel": {
           "align": "left"
          },
          "hovermode": "closest",
          "mapbox": {
           "style": "light"
          },
          "paper_bgcolor": "white",
          "plot_bgcolor": "#E5ECF6",
          "polar": {
           "angularaxis": {
            "gridcolor": "white",
            "linecolor": "white",
            "ticks": ""
           },
           "bgcolor": "#E5ECF6",
           "radialaxis": {
            "gridcolor": "white",
            "linecolor": "white",
            "ticks": ""
           }
          },
          "scene": {
           "xaxis": {
            "backgroundcolor": "#E5ECF6",
            "gridcolor": "white",
            "gridwidth": 2,
            "linecolor": "white",
            "showbackground": true,
            "ticks": "",
            "zerolinecolor": "white"
           },
           "yaxis": {
            "backgroundcolor": "#E5ECF6",
            "gridcolor": "white",
            "gridwidth": 2,
            "linecolor": "white",
            "showbackground": true,
            "ticks": "",
            "zerolinecolor": "white"
           },
           "zaxis": {
            "backgroundcolor": "#E5ECF6",
            "gridcolor": "white",
            "gridwidth": 2,
            "linecolor": "white",
            "showbackground": true,
            "ticks": "",
            "zerolinecolor": "white"
           }
          },
          "shapedefaults": {
           "line": {
            "color": "#2a3f5f"
           }
          },
          "ternary": {
           "aaxis": {
            "gridcolor": "white",
            "linecolor": "white",
            "ticks": ""
           },
           "baxis": {
            "gridcolor": "white",
            "linecolor": "white",
            "ticks": ""
           },
           "bgcolor": "#E5ECF6",
           "caxis": {
            "gridcolor": "white",
            "linecolor": "white",
            "ticks": ""
           }
          },
          "title": {
           "x": 0.05
          },
          "xaxis": {
           "automargin": true,
           "gridcolor": "white",
           "linecolor": "white",
           "ticks": "",
           "title": {
            "standoff": 15
           },
           "zerolinecolor": "white",
           "zerolinewidth": 2
          },
          "yaxis": {
           "automargin": true,
           "gridcolor": "white",
           "linecolor": "white",
           "ticks": "",
           "title": {
            "standoff": 15
           },
           "zerolinecolor": "white",
           "zerolinewidth": 2
          }
         }
        },
        "title": {
         "text": "2D Scatter Plot Example"
        },
        "width": 600,
        "xaxis": {
         "title": {
          "text": "X Axis"
         }
        },
        "yaxis": {
         "title": {
          "text": "Y Axis"
         }
        }
       }
      }
     },
     "metadata": {},
     "output_type": "display_data"
    }
   ],
   "source": [
    "import plotly.graph_objects as go\n",
    "\n",
    "\n",
    "# Create a scatter plot\n",
    "fig = go.Figure()\n",
    "hover_text = data[\"File name\"].values\n",
    "color_map = {\n",
    "    0: 'orange',\n",
    "    1: 'blue',\n",
    "    2: 'red'\n",
    "}\n",
    "# Add scatter trace\n",
    "fig.add_trace(go.Scatter(\n",
    "    x=X_lda[:, 0],\n",
    "    y=X_lda[:, 1],\n",
    "    mode='markers',  # Display markers and text\n",
    "    marker=dict(\n",
    "        size=10, \n",
    "        color = y,\n",
    "        colorscale='Viridis', \n",
    "        colorbar=dict(title='Type', tickvals = [0,1,2], ticktext = ['Hỗn hợp', 'Rễ', 'Thân']),  \n",
    "        showscale=True,\n",
    "        line=dict(\n",
    "            width=2,  # Width of the border\n",
    "            color='black'  # Border color\n",
    "        )\n",
    "        ),\n",
    "    hovertemplate = hover_text,\n",
    "\n",
    "))\n",
    "\n",
    "# Update layout\n",
    "fig.update_layout(\n",
    "    title='2D Scatter Plot Example',\n",
    "    xaxis_title='X Axis',\n",
    "    yaxis_title='Y Axis',\n",
    "    width = 600,\n",
    "    height = 600,\n",
    ")\n",
    "\n",
    "# Show the plot\n",
    "fig.show()"
   ]
  },
  {
   "cell_type": "code",
   "execution_count": 591,
   "metadata": {},
   "outputs": [],
   "source": [
    "test_folder = \"data2/Test\"\n",
    "data_frames = []\n",
    "file_names = []\n",
    "for index, file_name in enumerate(os.listdir(test_folder)):\n",
    "    if file_name.endswith(\".CSV\"):  # Check if the file is a CSV\n",
    "        file_path = os.path.join(test_folder, file_name)\n",
    "        df = pd.read_csv(file_path, header=None).values\n",
    "        if index == 0:\n",
    "            data_frames.append(df[:, 0].reshape(1, -1))\n",
    "        data_frames.append(df[:, 1].reshape(1, -1))\n",
    "        file_names.append(file_name)\n",
    "test = pd.DataFrame(np.concatenate(data_frames[1:]), columns=list(data_frames[0]))\n",
    "test.columns = ['_'.join(map(str, col)) for col in test.columns]\n",
    "test[\"File name\"] = file_names\n",
    "test[\"Type\"] = test[\"File name\"].str.split(\"-\", expand=True)[0].str[0]"
   ]
  },
  {
   "cell_type": "code",
   "execution_count": 592,
   "metadata": {},
   "outputs": [],
   "source": [
    "# plt.plot(test.iloc[:, :-2].T, linewidth = 0.7, color = 'green')\n",
    "# plt.plot(snv(data.iloc[:, :-2].values).T, linewidth = 0.7, color = 'red')\n",
    "# plt.show()"
   ]
  },
  {
   "cell_type": "code",
   "execution_count": 593,
   "metadata": {},
   "outputs": [],
   "source": [
    "X_test = test.iloc[:, :-2]\n",
    "X_test_snv = snv(X_test.values)\n",
    "X_test = savgol_filter(X_test_snv, window_length = window_len,  polyorder=poly_or, deriv = deriv_num)\n",
    "X_test = X_test[:,sorted_ind][:, wav:]"
   ]
  },
  {
   "cell_type": "code",
   "execution_count": 594,
   "metadata": {},
   "outputs": [
    {
     "data": {
      "image/png": "[encoded data removed]",
      "text/plain": [
       "<Figure size 640x480 with 1 Axes>"
      ]
     },
     "metadata": {},
     "output_type": "display_data"
    }
   ],
   "source": [
    "plt.plot(X_test_snv.T, color = 'r', linewidth = 0.7)\n",
    "plt.plot(Xsnv.T, color = 'b', linewidth = 0.7)\n",
    "plt.show()"
   ]
  },
  {
   "cell_type": "code",
   "execution_count": 595,
   "metadata": {},
   "outputs": [],
   "source": [
    "X_test_scaled = scale.transform(X_test)\n",
    "X_test_lda = clf2.transform(X_test_scaled)"
   ]
  },
  {
   "cell_type": "code",
   "execution_count": 596,
   "metadata": {},
   "outputs": [],
   "source": [
    "import numpy as np"
   ]
  },
  {
   "cell_type": "code",
   "execution_count": 597,
   "metadata": {},
   "outputs": [],
   "source": [
    "label = {\n",
    "    0: \"Hỗn hợp\",\n",
    "    1: \"Rễ\",\n",
    "    2: \"Thân\"\n",
    "}"
   ]
  },
  {
   "cell_type": "code",
   "execution_count": 598,
   "metadata": {},
   "outputs": [],
   "source": [
    "predict = clf2.predict(X_test_scaled)\n",
    "pred_label = np.array([label[i] for i in predict])"
   ]
  },
  {
   "cell_type": "code",
   "execution_count": 599,
   "metadata": {},
   "outputs": [
    {
     "data": {
      "text/html": [
       "<div>\n",
       "<style scoped>\n",
       "    .dataframe tbody tr th:only-of-type {\n",
       "        vertical-align: middle;\n",
       "    }\n",
       "\n",
       "    .dataframe tbody tr th {\n",
       "        vertical-align: top;\n",
       "    }\n",
       "\n",
       "    .dataframe thead th {\n",
       "        text-align: right;\n",
       "    }\n",
       "</style>\n",
       "<table border=\"1\" class=\"dataframe\">\n",
       "  <thead>\n",
       "    <tr style=\"text-align: right;\">\n",
       "      <th></th>\n",
       "      <th>Mẫu đo</th>\n",
       "      <th>Dự đoán</th>\n",
       "    </tr>\n",
       "  </thead>\n",
       "  <tbody>\n",
       "    <tr>\n",
       "      <th>0</th>\n",
       "      <td>M1.CSV</td>\n",
       "      <td>Hỗn hợp</td>\n",
       "    </tr>\n",
       "    <tr>\n",
       "      <th>1</th>\n",
       "      <td>M2.CSV</td>\n",
       "      <td>Rễ</td>\n",
       "    </tr>\n",
       "    <tr>\n",
       "      <th>2</th>\n",
       "      <td>M3.CSV</td>\n",
       "      <td>Hỗn hợp</td>\n",
       "    </tr>\n",
       "    <tr>\n",
       "      <th>3</th>\n",
       "      <td>M4.CSV</td>\n",
       "      <td>Hỗn hợp</td>\n",
       "    </tr>\n",
       "    <tr>\n",
       "      <th>4</th>\n",
       "      <td>M5-1.CSV</td>\n",
       "      <td>Thân</td>\n",
       "    </tr>\n",
       "    <tr>\n",
       "      <th>5</th>\n",
       "      <td>M5-2.CSV</td>\n",
       "      <td>Thân</td>\n",
       "    </tr>\n",
       "    <tr>\n",
       "      <th>6</th>\n",
       "      <td>M5-3.CSV</td>\n",
       "      <td>Thân</td>\n",
       "    </tr>\n",
       "    <tr>\n",
       "      <th>7</th>\n",
       "      <td>M5-4.CSV</td>\n",
       "      <td>Thân</td>\n",
       "    </tr>\n",
       "    <tr>\n",
       "      <th>8</th>\n",
       "      <td>M5-5.CSV</td>\n",
       "      <td>Thân</td>\n",
       "    </tr>\n",
       "  </tbody>\n",
       "</table>\n",
       "</div>"
      ],
      "text/plain": [
       "     Mẫu đo  Dự đoán\n",
       "0    M1.CSV  Hỗn hợp\n",
       "1    M2.CSV       Rễ\n",
       "2    M3.CSV  Hỗn hợp\n",
       "3    M4.CSV  Hỗn hợp\n",
       "4  M5-1.CSV     Thân\n",
       "5  M5-2.CSV     Thân\n",
       "6  M5-3.CSV     Thân\n",
       "7  M5-4.CSV     Thân\n",
       "8  M5-5.CSV     Thân"
      ]
     },
     "execution_count": 599,
     "metadata": {},
     "output_type": "execute_result"
    }
   ],
   "source": [
    "pd.DataFrame(np.concatenate([test[\"File name\"].values.reshape(-1,1)\n",
    "                             ,pred_label.reshape(-1,1)], axis = 1), columns=[\"Mẫu đo\", \"Dự đoán\"])"
   ]
  },
  {
   "cell_type": "code",
   "execution_count": 600,
   "metadata": {},
   "outputs": [
    {
     "data": {
      "application/vnd.plotly.v1+json": {
       "config": {
        "plotlyServerURL": "https://plot.ly"
       },
       "data": [
        {
         "hovertemplate": [
          "D10_-1-1.CSV",
          "D10_-1-2.CSV",
          "D10_-1-3.CSV",
          "D10_-1-4.CSV",
          "D10_-1-5.CSV",
          "D10_-2-1.CSV",
          "D10_-2-2.CSV",
          "D10_-2-3.CSV",
          "D10_-2-4.CSV",
          "D10_-2-5.CSV",
          "D3-1-1.CSV",
          "D3-1-2.CSV",
          "D3-1-3.CSV",
          "D3-1-4.CSV",
          "D3-1-5.CSV",
          "D5_-1-1.CSV",
          "D5_-1-2.CSV",
          "D5_-1-3.CSV",
          "D5_-1-4.CSV",
          "D5_-1-5.CSV",
          "D5_-2-1.CSV",
          "D5_-2-2.CSV",
          "D5_-2-3.CSV",
          "D5_-2-4.CSV",
          "D5_-2-5.CSV",
          "R-DLS1-1.CSV",
          "R-DLS1-2.CSV",
          "R-DLS1-3.CSV",
          "R-DLS1-4.CSV",
          "R-DLS1-5.CSV",
          "R-PF1-1.CSV",
          "R-PF1-2.CSV",
          "R-PF1-3.CSV",
          "R-PF1-4.CSV",
          "R-PF1-5.CSV",
          "R1-DLS1-1.CSV",
          "R1-DLS1-2.CSV",
          "R1-DLS1-3.CSV",
          "R1-DLS1-4.CSV",
          "R1-DLS5-1.CSV",
          "R1-DLS5-2.CSV",
          "R1-DLS5-3.CSV",
          "R1-DLS5-4.CSV",
          "R1-DLS5-5.CSV",
          "R10-1.CSV",
          "R10-2.CSV",
          "R10-3.CSV",
          "R10-4.CSV",
          "R10-5.CSV",
          "R16-1.CSV",
          "R16-2.CSV",
          "R16-3.CSV",
          "R16-4.CSV",
          "R16-5.CSV",
          "R2-DLS1-1.CSV",
          "R2-DLS1-2.CSV",
          "R2-DLS1-3.CSV",
          "R2-DLS1-4.CSV",
          "R2-DLS1-5.CSV",
          "R3-1.CSV",
          "R3-2.CSV",
          "R3-3.CSV",
          "R3-4.CSV",
          "R3-5.CSV",
          "R3_New-1.CSV",
          "R3_New-2.CSV",
          "R3_New-3.CSV",
          "R3_New-4.CSV",
          "R3_New-5.CSV",
          "R4-1.CSV",
          "R4-2.CSV",
          "R4-3.CSV",
          "R4-4.CSV",
          "R4-5.CSV",
          "T1-1.CSV",
          "T1-2.CSV",
          "T1-3.CSV",
          "T1-4.CSV",
          "T1-5.CSV",
          "T10-1.CSV",
          "T10-2.CSV",
          "T10-3.CSV",
          "T10-4.CSV",
          "T10-5.CSV",
          "T2-1.CSV",
          "T2-2.CSV",
          "T2-3.CSV",
          "T2-4.CSV",
          "T2-5.CSV",
          "T4-1.CSV",
          "T4-2.CSV",
          "T4-3.CSV",
          "T4-4.CSV",
          "T4-5.CSV",
          "T5-1.CSV",
          "T5-2.CSV",
          "T5-3.CSV",
          "T5-4.CSV",
          "T5-5.CSV",
          "T6-1.CSV",
          "T6-2.CSV",
          "T6-3.CSV",
          "T6-4.CSV",
          "T6-5.CSV",
          "T7-1.CSV",
          "T7-2.CSV",
          "T7-3.CSV",
          "T7-4.CSV",
          "T7-5.CSV",
          "T9-1.CSV",
          "T9-2.CSV",
          "T9-3.CSV",
          "T9-4.CSV",
          "T9-5.CSV",
          "TC-DLS5-1.CSV",
          "TC-DLS5-2.CSV",
          "TC-DLS5-3.CSV",
          "TC-DLS5-4.CSV",
          "TC-DLS5-5.CSV",
          "D1-1.CSVnew",
          "D1-2.CSVnew",
          "D1-3.CSVnew",
          "D1-4.CSVnew",
          "D1-5.CSVnew",
          "D1_-1-1.CSVnew",
          "D1_-1-2.CSVnew",
          "D1_-1-3.CSVnew",
          "D1_-1-4.CSVnew",
          "D1_-1-5.CSVnew",
          "D1_-2-1.CSVnew",
          "D1_-2-2.CSVnew",
          "D1_-2-3.CSVnew",
          "D1_-2-4.CSVnew",
          "D1_-2-5.CSVnew",
          "D2_-1-1.CSVnew",
          "D2_-1-2.CSVnew",
          "D2_-1-3.CSVnew",
          "D2_-1-4.CSVnew",
          "D2_-1-5.CSVnew",
          "D2_-2-1.CSVnew",
          "D2_-2-2.CSVnew",
          "D2_-2-3.CSVnew",
          "D2_-2-4.CSVnew",
          "D2_-2-5.CSVnew",
          "D2_-3-1.CSVnew",
          "D2_-3-2.CSVnew",
          "D2_-3-3.CSVnew",
          "D2_-3-4.CSVnew",
          "D2_-3-5.CSVnew",
          "D5_-3-1.CSVnew",
          "D5_-3-2.CSVnew",
          "D5_-3-3.CSVnew",
          "D5_-3-4.CSVnew",
          "D5_-3-5.CSVnew",
          "D9_-1-1.CSVnew",
          "D9_-1-2.CSVnew",
          "D9_-1-3.CSVnew",
          "D9_-1-4.CSVnew",
          "D9_-1-5.CSVnew"
         ],
         "marker": {
          "color": [
           0,
           0,
           0,
           0,
           0,
           0,
           0,
           0,
           0,
           0,
           0,
           0,
           0,
           0,
           0,
           0,
           0,
           0,
           0,
           0,
           0,
           0,
           0,
           0,
           0,
           1,
           1,
           1,
           1,
           1,
           1,
           1,
           1,
           1,
           1,
           1,
           1,
           1,
           1,
           1,
           1,
           1,
           1,
           1,
           1,
           1,
           1,
           1,
           1,
           1,
           1,
           1,
           1,
           1,
           1,
           1,
           1,
           1,
           1,
           1,
           1,
           1,
           1,
           1,
           1,
           1,
           1,
           1,
           1,
           1,
           1,
           1,
           1,
           1,
           2,
           2,
           2,
           2,
           2,
           2,
           2,
           2,
           2,
           2,
           2,
           2,
           2,
           2,
           2,
           2,
           2,
           2,
           2,
           2,
           2,
           2,
           2,
           2,
           2,
           2,
           2,
           2,
           2,
           2,
           2,
           2,
           2,
           2,
           2,
           2,
           2,
           2,
           2,
           2,
           2,
           2,
           2,
           2,
           2,
           0,
           0,
           0,
           0,
           0,
           0,
           0,
           0,
           0,
           0,
           0,
           0,
           0,
           0,
           0,
           0,
           0,
           0,
           0,
           0,
           0,
           0,
           0,
           0,
           0,
           0,
           0,
           0,
           0,
           0,
           0,
           0,
           0,
           0,
           0,
           0,
           0,
           0,
           0,
           0
          ],
          "colorbar": {
           "ticktext": [
            "Hỗn hợp",
            "Rễ",
            "Thân"
           ],
           "tickvals": [
            0,
            1,
            2
           ],
           "title": {
            "text": "Type"
           }
          },
          "colorscale": [
           [
            0,
            "#440154"
           ],
           [
            0.1111111111111111,
            "#482878"
           ],
           [
            0.2222222222222222,
            "#3e4989"
           ],
           [
            0.3333333333333333,
            "#31688e"
           ],
           [
            0.4444444444444444,
            "#26828e"
           ],
           [
            0.5555555555555556,
            "#1f9e89"
           ],
           [
            0.6666666666666666,
            "#35b779"
           ],
           [
            0.7777777777777778,
            "#6ece58"
           ],
           [
            0.8888888888888888,
            "#b5de2b"
           ],
           [
            1,
            "#fde725"
           ]
          ],
          "line": {
           "color": "black",
           "width": 2
          },
          "showscale": true,
          "size": 10
         },
         "mode": "markers",
         "type": "scatter",
         "x": [
          -3.500937740443427,
          -5.075081666680387,
          -3.601149084002257,
          -2.79181960887262,
          -2.994207150717536,
          -2.547198985474432,
          -2.973274921191949,
          -2.8943228450527583,
          -3.8610072931470483,
          -0.27153423108914765,
          -4.494322626405736,
          -1.6836380578542975,
          -3.7296478908189767,
          -4.3409979782572305,
          -2.328804763665151,
          -4.184287627838821,
          -4.704032974174391,
          -2.7159548220787713,
          -3.568842789194067,
          -3.116826669776203,
          -2.3088985749739788,
          -3.452480341552878,
          -3.1369811467457005,
          -4.692850327998613,
          -5.059446316725151,
          8.53076013637386,
          7.215752761640986,
          7.901926645805983,
          8.678778443992222,
          8.776477944398877,
          8.763584882723395,
          8.29234181237361,
          8.480162451864663,
          6.964193372510769,
          6.772750917617307,
          8.187460849065593,
          7.885930622770871,
          8.545411413862606,
          8.720913191704337,
          8.924054301184437,
          9.351703223365258,
          9.870715461274173,
          8.868910749882735,
          9.22730687388706,
          7.938208343473843,
          7.548249703229662,
          8.470748348523296,
          10.593156094327995,
          8.386340911014859,
          8.386340911014859,
          8.765130451718054,
          9.578362948744468,
          11.347555803263452,
          9.687584281846233,
          7.411539282809586,
          9.206641500335703,
          9.373748299747966,
          8.854321997828068,
          8.800680740339875,
          7.608591076122901,
          10.34568963027653,
          8.556855555496949,
          8.284339429956743,
          7.687827833791042,
          8.636470552725957,
          5.573777420468204,
          9.170226257925762,
          8.031151734423778,
          8.016464101118535,
          9.586881595102858,
          8.83960354697584,
          8.694008317185956,
          9.800694004773357,
          10.024432265481188,
          -4.621441701080366,
          -3.2324226426693397,
          -2.278821721455699,
          -3.229676131972519,
          -6.820691507754907,
          -6.202728845802695,
          -5.116273226531723,
          -4.511815873669918,
          -4.022748727350422,
          -5.259067093139066,
          -3.773652671077872,
          -4.9591295137633855,
          -6.527133957385798,
          -3.1814709924488227,
          -3.740771849599255,
          -6.09024042460551,
          -6.433191200628223,
          -4.4118434590639435,
          -4.47145344274414,
          -3.562477816284402,
          -4.7713077320326445,
          -4.676325140770272,
          -3.109843078421423,
          -5.025706079558962,
          -4.218424214770307,
          -4.828976064288738,
          -3.793977490218237,
          -4.9248966405738,
          -5.715177371463179,
          -3.9825183619598388,
          -3.1897822794881705,
          -4.924826939928908,
          -4.124226512418911,
          -3.5605972438940645,
          -4.253500602425204,
          -4.061327416590603,
          -5.835063801867317,
          -4.242057178556738,
          -4.038192452095959,
          -3.239073006795989,
          -5.115717576305122,
          -4.370844946666467,
          -4.652959295040727,
          -4.057175542016667,
          -6.331922263146647,
          -2.602299680695119,
          -2.8525943359987145,
          -3.6464866015978505,
          -2.554065554880457,
          -3.5476590422194803,
          -3.4114600401171726,
          -3.1759730183474004,
          -3.3578042801903023,
          -3.543002248930606,
          -4.152611404260645,
          -3.307545812576483,
          -4.295605520455453,
          -0.8633951737133574,
          -2.7138655933299978,
          -3.051993487061632,
          -3.5669342936890702,
          -3.4807449560689814,
          -4.091674150651152,
          -3.749011613042323,
          -3.266904834466543,
          -5.5041073711568185,
          -4.961407818418888,
          -2.589737625512905,
          -4.14203523920712,
          -3.701054848237846,
          -4.488919557358833,
          -4.5163865974693485,
          -2.6506101282000842,
          -4.591463425620146,
          -3.9436442921422943,
          -2.4047195025830703,
          -3.594878414469627,
          -2.502197270441973,
          -3.5356921465978712,
          -2.9120038019338175,
          -2.4013856795301285,
          -3.7197392652294528,
          -2.242013812070825,
          -3.6932536911212743,
          -2.317858401692855
         ],
         "y": [
          -4.754921803058545,
          -2.502961111951749,
          -4.04476195381038,
          -2.837226731901277,
          -5.283165283563048,
          -3.5913295091104653,
          -4.965995700093075,
          -4.82267131962414,
          -3.909250711502786,
          -4.740087079060733,
          -5.2066883612933115,
          -3.6128337831668027,
          -4.942111920969312,
          -3.8537654542839848,
          -4.090588651882211,
          -4.861992152097977,
          -2.897111277036755,
          -4.06106148578172,
          -3.1582452649374124,
          -3.621220054926232,
          -3.8499166938340754,
          -2.0155815066534513,
          -3.003356750302203,
          -3.4815360430080178,
          -3.7317925870341644,
          1.3759980761585076,
          2.5723074334600766,
          -1.0873842575284136,
          1.793925362810042,
          0.9773958434978927,
          0.8691014463084353,
          0.642580045175561,
          -1.047588139246797,
          0.4099619324180841,
          0.23404995116629676,
          -0.971210534793612,
          0.49419908326359296,
          1.7006337926757848,
          0.5422545082082916,
          -0.48143983619025343,
          -0.2679593593667678,
          1.7516883841274642,
          1.1191492823603195,
          0.6704557031514247,
          1.299578054503303,
          -0.06005519014890133,
          0.13105755326858695,
          0.44081518964047534,
          1.0500475397833435,
          1.0500475397833435,
          -0.34949935721109693,
          1.1431794055518683,
          0.7809153312041004,
          -0.0944818418312812,
          -0.617545193574167,
          0.5037694142203557,
          1.0614769819945966,
          -0.14175048459421782,
          0.003362688639274291,
          0.2134448587657271,
          0.2788741583712698,
          0.1951308677877039,
          1.4117831835520012,
          1.2270930363161507,
          -0.23663000910082338,
          -0.5820413105408226,
          0.02360566394049,
          0.661432924217891,
          -0.18167932314700605,
          -1.0613134125249173,
          -0.3460467256197733,
          -0.0012049107944486453,
          0.8704136081316021,
          0.5517324903126789,
          6.312058604512529,
          5.868648982928732,
          3.2145770745335076,
          5.54934752662865,
          4.244679431249731,
          4.053211785424254,
          6.056825926596151,
          5.3764557274758165,
          3.0109349042433364,
          4.5353445121444,
          5.307067584578963,
          4.0452671766251616,
          2.5702824864644707,
          6.6168387955265,
          4.924879913353995,
          4.667779710858709,
          3.9567043077116715,
          5.3847268374940835,
          5.975341435769355,
          5.365652612639956,
          3.9942119015085473,
          6.2417037215958855,
          2.9586657101230314,
          5.679528979027483,
          5.792326564493469,
          4.922138335311156,
          5.072812019772092,
          5.495438270533818,
          4.271385542393696,
          6.841324187732182,
          2.4630198334203843,
          3.6516696089132625,
          3.9158757935516695,
          5.492655802475641,
          6.737250339305128,
          4.217730577317756,
          3.8831815815209456,
          4.240738560513731,
          2.9896521513042904,
          3.412027670112858,
          4.934267770028881,
          4.6498537418101735,
          5.4523707303737865,
          5.284377595706962,
          6.225618880191002,
          -3.07271493157424,
          -2.5831713485174213,
          -2.643424280422671,
          -3.3584333394951376,
          -4.239698331930277,
          -4.231043310509858,
          -3.685216617022504,
          -2.764770052576485,
          -4.116045422691265,
          -3.8743859050353757,
          -4.866345286376532,
          -2.5631526863143055,
          -3.6665548755018795,
          -4.556826711603921,
          -3.204320197029599,
          -3.415281482346848,
          -5.056261844071418,
          -4.336294233869339,
          -3.115917008612332,
          -2.701596557716496,
          -3.7026814991736896,
          -3.268292719414228,
          -3.2661933305353803,
          -2.4262242956945945,
          0.6984789030569744,
          -2.028769746961217,
          -3.803949946957754,
          -2.4203015811121364,
          -3.157243081816321,
          -3.1857307424802137,
          -2.9566349226144135,
          -4.015880774701789,
          -3.5511969443183338,
          -4.5812885393901395,
          -4.348707918513311,
          -3.537916270287144,
          -5.587257188833731,
          -4.046991596466234,
          -4.709166918715527,
          -2.592505925320299
         ]
        },
        {
         "marker": {
          "color": "green",
          "line": {
           "color": "black",
           "width": 2
          },
          "size": 10
         },
         "mode": "markers+text",
         "text": [
          "M1.CSV",
          "M2.CSV",
          "M3.CSV",
          "M4.CSV",
          "M5-1.CSV",
          "M5-2.CSV",
          "M5-3.CSV",
          "M5-4.CSV",
          "M5-5.CSV"
         ],
         "textfont": {
          "color": "red",
          "family": "Arial, sans-serif",
          "size": 14
         },
         "textposition": "top right",
         "type": "scatter",
         "x": [
          0.9640012040444208,
          7.839020720460293,
          -4.6832303299423295,
          -4.4013841232927575,
          -13.919473084710773,
          -0.0033115174060318023,
          -4.9658000162280205,
          -10.307567390830446,
          -11.609660048314355
         ],
         "y": [
          -1.4343773648254554,
          -6.160078744706788,
          -1.697972075111208,
          -3.748779768676603,
          1.839044287273066,
          5.441406698726631,
          2.172262026023581,
          1.8982898580860053,
          3.1309800929219103
         ]
        }
       ],
       "layout": {
        "height": 600,
        "showlegend": false,
        "template": {
         "data": {
          "bar": [
           {
            "error_x": {
             "color": "#2a3f5f"
            },
            "error_y": {
             "color": "#2a3f5f"
            },
            "marker": {
             "line": {
              "color": "#E5ECF6",
              "width": 0.5
             },
             "pattern": {
              "fillmode": "overlay",
              "size": 10,
              "solidity": 0.2
             }
            },
            "type": "bar"
           }
          ],
          "barpolar": [
           {
            "marker": {
             "line": {
              "color": "#E5ECF6",
              "width": 0.5
             },
             "pattern": {
              "fillmode": "overlay",
              "size": 10,
              "solidity": 0.2
             }
            },
            "type": "barpolar"
           }
          ],
          "carpet": [
           {
            "aaxis": {
             "endlinecolor": "#2a3f5f",
             "gridcolor": "white",
             "linecolor": "white",
             "minorgridcolor": "white",
             "startlinecolor": "#2a3f5f"
            },
            "baxis": {
             "endlinecolor": "#2a3f5f",
             "gridcolor": "white",
             "linecolor": "white",
             "minorgridcolor": "white",
             "startlinecolor": "#2a3f5f"
            },
            "type": "carpet"
           }
          ],
          "choropleth": [
           {
            "colorbar": {
             "outlinewidth": 0,
             "ticks": ""
            },
            "type": "choropleth"
           }
          ],
          "contour": [
           {
            "colorbar": {
             "outlinewidth": 0,
             "ticks": ""
            },
            "colorscale": [
             [
              0,
              "#0d0887"
             ],
             [
              0.1111111111111111,
              "#46039f"
             ],
             [
              0.2222222222222222,
              "#7201a8"
             ],
             [
              0.3333333333333333,
              "#9c179e"
             ],
             [
              0.4444444444444444,
              "#bd3786"
             ],
             [
              0.5555555555555556,
              "#d8576b"
             ],
             [
              0.6666666666666666,
              "#ed7953"
             ],
             [
              0.7777777777777778,
              "#fb9f3a"
             ],
             [
              0.8888888888888888,
              "#fdca26"
             ],
             [
              1,
              "#f0f921"
             ]
            ],
            "type": "contour"
           }
          ],
          "contourcarpet": [
           {
            "colorbar": {
             "outlinewidth": 0,
             "ticks": ""
            },
            "type": "contourcarpet"
           }
          ],
          "heatmap": [
           {
            "colorbar": {
             "outlinewidth": 0,
             "ticks": ""
            },
            "colorscale": [
             [
              0,
              "#0d0887"
             ],
             [
              0.1111111111111111,
              "#46039f"
             ],
             [
              0.2222222222222222,
              "#7201a8"
             ],
             [
              0.3333333333333333,
              "#9c179e"
             ],
             [
              0.4444444444444444,
              "#bd3786"
             ],
             [
              0.5555555555555556,
              "#d8576b"
             ],
             [
              0.6666666666666666,
              "#ed7953"
             ],
             [
              0.7777777777777778,
              "#fb9f3a"
             ],
             [
              0.8888888888888888,
              "#fdca26"
             ],
             [
              1,
              "#f0f921"
             ]
            ],
            "type": "heatmap"
           }
          ],
          "heatmapgl": [
           {
            "colorbar": {
             "outlinewidth": 0,
             "ticks": ""
            },
            "colorscale": [
             [
              0,
              "#0d0887"
             ],
             [
              0.1111111111111111,
              "#46039f"
             ],
             [
              0.2222222222222222,
              "#7201a8"
             ],
             [
              0.3333333333333333,
              "#9c179e"
             ],
             [
              0.4444444444444444,
              "#bd3786"
             ],
             [
              0.5555555555555556,
              "#d8576b"
             ],
             [
              0.6666666666666666,
              "#ed7953"
             ],
             [
              0.7777777777777778,
              "#fb9f3a"
             ],
             [
              0.8888888888888888,
              "#fdca26"
             ],
             [
              1,
              "#f0f921"
             ]
            ],
            "type": "heatmapgl"
           }
          ],
          "histogram": [
           {
            "marker": {
             "pattern": {
              "fillmode": "overlay",
              "size": 10,
              "solidity": 0.2
             }
            },
            "type": "histogram"
           }
          ],
          "histogram2d": [
           {
            "colorbar": {
             "outlinewidth": 0,
             "ticks": ""
            },
            "colorscale": [
             [
              0,
              "#0d0887"
             ],
             [
              0.1111111111111111,
              "#46039f"
             ],
             [
              0.2222222222222222,
              "#7201a8"
             ],
             [
              0.3333333333333333,
              "#9c179e"
             ],
             [
              0.4444444444444444,
              "#bd3786"
             ],
             [
              0.5555555555555556,
              "#d8576b"
             ],
             [
              0.6666666666666666,
              "#ed7953"
             ],
             [
              0.7777777777777778,
              "#fb9f3a"
             ],
             [
              0.8888888888888888,
              "#fdca26"
             ],
             [
              1,
              "#f0f921"
             ]
            ],
            "type": "histogram2d"
           }
          ],
          "histogram2dcontour": [
           {
            "colorbar": {
             "outlinewidth": 0,
             "ticks": ""
            },
            "colorscale": [
             [
              0,
              "#0d0887"
             ],
             [
              0.1111111111111111,
              "#46039f"
             ],
             [
              0.2222222222222222,
              "#7201a8"
             ],
             [
              0.3333333333333333,
              "#9c179e"
             ],
             [
              0.4444444444444444,
              "#bd3786"
             ],
             [
              0.5555555555555556,
              "#d8576b"
             ],
             [
              0.6666666666666666,
              "#ed7953"
             ],
             [
              0.7777777777777778,
              "#fb9f3a"
             ],
             [
              0.8888888888888888,
              "#fdca26"
             ],
             [
              1,
              "#f0f921"
             ]
            ],
            "type": "histogram2dcontour"
           }
          ],
          "mesh3d": [
           {
            "colorbar": {
             "outlinewidth": 0,
             "ticks": ""
            },
            "type": "mesh3d"
           }
          ],
          "parcoords": [
           {
            "line": {
             "colorbar": {
              "outlinewidth": 0,
              "ticks": ""
             }
            },
            "type": "parcoords"
           }
          ],
          "pie": [
           {
            "automargin": true,
            "type": "pie"
           }
          ],
          "scatter": [
           {
            "fillpattern": {
             "fillmode": "overlay",
             "size": 10,
             "solidity": 0.2
            },
            "type": "scatter"
           }
          ],
          "scatter3d": [
           {
            "line": {
             "colorbar": {
              "outlinewidth": 0,
              "ticks": ""
             }
            },
            "marker": {
             "colorbar": {
              "outlinewidth": 0,
              "ticks": ""
             }
            },
            "type": "scatter3d"
           }
          ],
          "scattercarpet": [
           {
            "marker": {
             "colorbar": {
              "outlinewidth": 0,
              "ticks": ""
             }
            },
            "type": "scattercarpet"
           }
          ],
          "scattergeo": [
           {
            "marker": {
             "colorbar": {
              "outlinewidth": 0,
              "ticks": ""
             }
            },
            "type": "scattergeo"
           }
          ],
          "scattergl": [
           {
            "marker": {
             "colorbar": {
              "outlinewidth": 0,
              "ticks": ""
             }
            },
            "type": "scattergl"
           }
          ],
          "scattermapbox": [
           {
            "marker": {
             "colorbar": {
              "outlinewidth": 0,
              "ticks": ""
             }
            },
            "type": "scattermapbox"
           }
          ],
          "scatterpolar": [
           {
            "marker": {
             "colorbar": {
              "outlinewidth": 0,
              "ticks": ""
             }
            },
            "type": "scatterpolar"
           }
          ],
          "scatterpolargl": [
           {
            "marker": {
             "colorbar": {
              "outlinewidth": 0,
              "ticks": ""
             }
            },
            "type": "scatterpolargl"
           }
          ],
          "scatterternary": [
           {
            "marker": {
             "colorbar": {
              "outlinewidth": 0,
              "ticks": ""
             }
            },
            "type": "scatterternary"
           }
          ],
          "surface": [
           {
            "colorbar": {
             "outlinewidth": 0,
             "ticks": ""
            },
            "colorscale": [
             [
              0,
              "#0d0887"
             ],
             [
              0.1111111111111111,
              "#46039f"
             ],
             [
              0.2222222222222222,
              "#7201a8"
             ],
             [
              0.3333333333333333,
              "#9c179e"
             ],
             [
              0.4444444444444444,
              "#bd3786"
             ],
             [
              0.5555555555555556,
              "#d8576b"
             ],
             [
              0.6666666666666666,
              "#ed7953"
             ],
             [
              0.7777777777777778,
              "#fb9f3a"
             ],
             [
              0.8888888888888888,
              "#fdca26"
             ],
             [
              1,
              "#f0f921"
             ]
            ],
            "type": "surface"
           }
          ],
          "table": [
           {
            "cells": {
             "fill": {
              "color": "#EBF0F8"
             },
             "line": {
              "color": "white"
             }
            },
            "header": {
             "fill": {
              "color": "#C8D4E3"
             },
             "line": {
              "color": "white"
             }
            },
            "type": "table"
           }
          ]
         },
         "layout": {
          "annotationdefaults": {
           "arrowcolor": "#2a3f5f",
           "arrowhead": 0,
           "arrowwidth": 1
          },
          "autotypenumbers": "strict",
          "coloraxis": {
           "colorbar": {
            "outlinewidth": 0,
            "ticks": ""
           }
          },
          "colorscale": {
           "diverging": [
            [
             0,
             "#8e0152"
            ],
            [
             0.1,
             "#c51b7d"
            ],
            [
             0.2,
             "#de77ae"
            ],
            [
             0.3,
             "#f1b6da"
            ],
            [
             0.4,
             "#fde0ef"
            ],
            [
             0.5,
             "#f7f7f7"
            ],
            [
             0.6,
             "#e6f5d0"
            ],
            [
             0.7,
             "#b8e186"
            ],
            [
             0.8,
             "#7fbc41"
            ],
            [
             0.9,
             "#4d9221"
            ],
            [
             1,
             "#276419"
            ]
           ],
           "sequential": [
            [
             0,
             "#0d0887"
            ],
            [
             0.1111111111111111,
             "#46039f"
            ],
            [
             0.2222222222222222,
             "#7201a8"
            ],
            [
             0.3333333333333333,
             "#9c179e"
            ],
            [
             0.4444444444444444,
             "#bd3786"
            ],
            [
             0.5555555555555556,
             "#d8576b"
            ],
            [
             0.6666666666666666,
             "#ed7953"
            ],
            [
             0.7777777777777778,
             "#fb9f3a"
            ],
            [
             0.8888888888888888,
             "#fdca26"
            ],
            [
             1,
             "#f0f921"
            ]
           ],
           "sequentialminus": [
            [
             0,
             "#0d0887"
            ],
            [
             0.1111111111111111,
             "#46039f"
            ],
            [
             0.2222222222222222,
             "#7201a8"
            ],
            [
             0.3333333333333333,
             "#9c179e"
            ],
            [
             0.4444444444444444,
             "#bd3786"
            ],
            [
             0.5555555555555556,
             "#d8576b"
            ],
            [
             0.6666666666666666,
             "#ed7953"
            ],
            [
             0.7777777777777778,
             "#fb9f3a"
            ],
            [
             0.8888888888888888,
             "#fdca26"
            ],
            [
             1,
             "#f0f921"
            ]
           ]
          },
          "colorway": [
           "#636efa",
           "#EF553B",
           "#00cc96",
           "#ab63fa",
           "#FFA15A",
           "#19d3f3",
           "#FF6692",
           "#B6E880",
           "#FF97FF",
           "#FECB52"
          ],
          "font": {
           "color": "#2a3f5f"
          },
          "geo": {
           "bgcolor": "white",
           "lakecolor": "white",
           "landcolor": "#E5ECF6",
           "showlakes": true,
           "showland": true,
           "subunitcolor": "white"
          },
          "hoverlabel": {
           "align": "left"
          },
          "hovermode": "closest",
          "mapbox": {
           "style": "light"
          },
          "paper_bgcolor": "white",
          "plot_bgcolor": "#E5ECF6",
          "polar": {
           "angularaxis": {
            "gridcolor": "white",
            "linecolor": "white",
            "ticks": ""
           },
           "bgcolor": "#E5ECF6",
           "radialaxis": {
            "gridcolor": "white",
            "linecolor": "white",
            "ticks": ""
           }
          },
          "scene": {
           "xaxis": {
            "backgroundcolor": "#E5ECF6",
            "gridcolor": "white",
            "gridwidth": 2,
            "linecolor": "white",
            "showbackground": true,
            "ticks": "",
            "zerolinecolor": "white"
           },
           "yaxis": {
            "backgroundcolor": "#E5ECF6",
            "gridcolor": "white",
            "gridwidth": 2,
            "linecolor": "white",
            "showbackground": true,
            "ticks": "",
            "zerolinecolor": "white"
           },
           "zaxis": {
            "backgroundcolor": "#E5ECF6",
            "gridcolor": "white",
            "gridwidth": 2,
            "linecolor": "white",
            "showbackground": true,
            "ticks": "",
            "zerolinecolor": "white"
           }
          },
          "shapedefaults": {
           "line": {
            "color": "#2a3f5f"
           }
          },
          "ternary": {
           "aaxis": {
            "gridcolor": "white",
            "linecolor": "white",
            "ticks": ""
           },
           "baxis": {
            "gridcolor": "white",
            "linecolor": "white",
            "ticks": ""
           },
           "bgcolor": "#E5ECF6",
           "caxis": {
            "gridcolor": "white",
            "linecolor": "white",
            "ticks": ""
           }
          },
          "title": {
           "x": 0.05
          },
          "xaxis": {
           "automargin": true,
           "gridcolor": "white",
           "linecolor": "white",
           "ticks": "",
           "title": {
            "standoff": 15
           },
           "zerolinecolor": "white",
           "zerolinewidth": 2
          },
          "yaxis": {
           "automargin": true,
           "gridcolor": "white",
           "linecolor": "white",
           "ticks": "",
           "title": {
            "standoff": 15
           },
           "zerolinecolor": "white",
           "zerolinewidth": 2
          }
         }
        },
        "title": {
         "text": "2D Scatter Plot Example"
        },
        "width": 600,
        "xaxis": {
         "range": [
          -24,
          24
         ],
         "title": {
          "text": "X Axis"
         }
        },
        "yaxis": {
         "range": [
          -12,
          12
         ],
         "title": {
          "text": "Y Axis"
         }
        }
       }
      }
     },
     "metadata": {},
     "output_type": "display_data"
    }
   ],
   "source": [
    "import plotly.graph_objects as go\n",
    "\n",
    "\n",
    "# Create a scatter plot\n",
    "fig = go.Figure()\n",
    "hover_text1 = data[\"File name\"].values\n",
    "hover_text2 = test[\"File name\"].values\n",
    "color_map = {\n",
    "    0: 'orange',\n",
    "    1: 'blue',\n",
    "    2: 'red'\n",
    "}\n",
    "# Add scatter trace\n",
    "fig.add_trace(go.Scatter(\n",
    "    x=X_lda[:, 0],\n",
    "    y=X_lda[:, 1],\n",
    "    mode='markers',  # Display markers and text\n",
    "    marker=dict(\n",
    "        size=10, \n",
    "        color = y,\n",
    "        colorscale='Viridis', \n",
    "        colorbar=dict(title='Type', tickvals = [0,1,2], ticktext = ['Hỗn hợp', 'Rễ', 'Thân']),  \n",
    "        showscale=True,\n",
    "        line=dict(\n",
    "            width=2,  # Width of the border\n",
    "            color='black'  # Border color\n",
    "        )\n",
    "        ),\n",
    "    hovertemplate = hover_text1,\n",
    "\n",
    "))\n",
    "fig.add_trace(go.Scatter(\n",
    "    x=X_test_lda[:, 0],\n",
    "    y=X_test_lda[:, 1],\n",
    "    mode='markers + text',  # Display markers and text\n",
    "    marker=dict(\n",
    "        size=10, \n",
    "        color = 'green',\n",
    "        line=dict(\n",
    "            width=2,  # Width of the border\n",
    "            color='black'  # Border color\n",
    "        )\n",
    "        ),\n",
    "    # hovertemplate = hover_text2,\n",
    "    text = hover_text2,\n",
    "    textposition=\"top right\",\n",
    "    textfont=dict(\n",
    "        color='red',  # Change the text color\n",
    "        size=14,      # Change the text size\n",
    "        family='Arial, sans-serif',  # Change the font family\n",
    "        # Set the text to bold\n",
    "        # weight='bold'  \n",
    "    )\n",
    "\n",
    "))\n",
    "fig.update_yaxes(range=[-12, 12])  # Set x-axis limits from 0 to 6\n",
    "fig.update_xaxes(range=[-24, 24])  # Set y-axis limits from 9 to 15\n",
    "# Update layout\n",
    "fig.update_layout(\n",
    "    title='2D Scatter Plot Example',\n",
    "    xaxis_title='X Axis',\n",
    "    yaxis_title='Y Axis',\n",
    "    width = 600,\n",
    "    height = 600,\n",
    "    showlegend=False\n",
    ")\n",
    "\n",
    "# Show the plot\n",
    "fig.show()"
   ]
  }
 ],
 "metadata": {
  "kernelspec": {
   "display_name": "Python 3",
   "language": "python",
   "name": "python3"
  },
  "language_info": {
   "codemirror_mode": {
    "name": "ipython",
    "version": 3
   },
   "file_extension": ".py",
   "mimetype": "text/x-python",
   "name": "python",
   "nbconvert_exporter": "python",
   "pygments_lexer": "ipython3",
   "version": "3.11.6"
  }
 },
 "nbformat": 4,
 "nbformat_minor": 2
}
