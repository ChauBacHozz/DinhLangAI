{
 "cells": [
  {
   "cell_type": "code",
   "execution_count": 133,
   "metadata": {},
   "outputs": [],
   "source": [
    "import os\n",
    "import pandas as pd\n",
    "import numpy as np\n",
    "import matplotlib.pyplot as plt\n",
    "from scipy.signal import savgol_filter\n",
    "import matplotlib.lines as mlines"
   ]
  },
  {
   "cell_type": "markdown",
   "metadata": {},
   "source": [
    "### Hỗn hợp"
   ]
  },
  {
   "cell_type": "code",
   "execution_count": 134,
   "metadata": {},
   "outputs": [],
   "source": [
    "honhop_folder = \"data2/Honhop\"\n",
    "data_frames = []\n",
    "file_names = []\n",
    "for index, file_name in enumerate(os.listdir(honhop_folder)):\n",
    "    if file_name.endswith(\".CSV\"):  # Check if the file is a CSV\n",
    "        file_path = os.path.join(honhop_folder, file_name)\n",
    "        df = pd.read_csv(file_path, header=None).values\n",
    "        if index == 0:\n",
    "            data_frames.append(df[:, 0].reshape(1, -1))\n",
    "        data_frames.append(df[:, 1].reshape(1, -1))\n",
    "        file_names.append(file_name)\n",
    "honhop = pd.DataFrame(np.concatenate(data_frames[1:]), columns=list(data_frames[0]))\n",
    "honhop.columns = ['_'.join(map(str, col)) for col in honhop.columns]\n",
    "honhop[\"File name\"] = file_names\n",
    "honhop[\"Type\"] = honhop[\"File name\"].str.split(\"-\", expand=True)[0].str[0]\n",
    "honhop_deriv = savgol_filter(honhop.iloc[:, :-2], window_length=25, polyorder=5, deriv=2)\n",
    "honhop.iloc[:, :-2] = honhop_deriv"
   ]
  },
  {
   "cell_type": "markdown",
   "metadata": {},
   "source": [
    "### Rễ"
   ]
  },
  {
   "cell_type": "code",
   "execution_count": 135,
   "metadata": {},
   "outputs": [],
   "source": [
    "re_folder = \"data2/Re\"\n",
    "data_frames = []\n",
    "file_names = []\n",
    "for index, file_name in enumerate(os.listdir(re_folder)):\n",
    "    if file_name.endswith(\".CSV\"):  # Check if the file is a CSV\n",
    "        file_path = os.path.join(re_folder, file_name)\n",
    "        df = pd.read_csv(file_path, header=None).values\n",
    "        if index == 0:\n",
    "            data_frames.append(df[:, 0].reshape(1, -1))\n",
    "        data_frames.append(df[:, 1].reshape(1, -1))\n",
    "        file_names.append(file_name)\n",
    "re = pd.DataFrame(np.concatenate(data_frames[1:]), columns=list(data_frames[0]))\n",
    "re.columns = ['_'.join(map(str, col)) for col in re.columns]\n",
    "re[\"File name\"] = file_names\n",
    "re[\"Type\"] = re[\"File name\"].str.split(\"-\", expand=True)[0].str[0]\n",
    "re_deriv = savgol_filter(re.iloc[:, :-2], window_length=25, polyorder=5, deriv=2)\n",
    "re.iloc[:, :-2] = re_deriv"
   ]
  },
  {
   "cell_type": "markdown",
   "metadata": {},
   "source": [
    "### Thân"
   ]
  },
  {
   "cell_type": "code",
   "execution_count": 136,
   "metadata": {},
   "outputs": [],
   "source": [
    "than_folder = \"data2/Than\"\n",
    "data_frames = []\n",
    "file_names = []\n",
    "for index, file_name in enumerate(os.listdir(than_folder)):\n",
    "    if file_name.endswith(\".CSV\"):  # Check if the file is a CSV\n",
    "        file_path = os.path.join(than_folder, file_name)\n",
    "        df = pd.read_csv(file_path, header=None).values\n",
    "        if index == 0:\n",
    "            data_frames.append(df[:, 0].reshape(1, -1))\n",
    "        data_frames.append(df[:, 1].reshape(1, -1))\n",
    "        file_names.append(file_name)\n",
    "than = pd.DataFrame(np.concatenate(data_frames[1:]), columns=list(data_frames[0]))\n",
    "than.columns = ['_'.join(map(str, col)) for col in than.columns]\n",
    "than[\"File name\"] = file_names\n",
    "than[\"Type\"] = than[\"File name\"].str.split(\"-\", expand=True)[0].str[0]\n",
    "than_deriv = savgol_filter(than.iloc[:, :-2], window_length=25, polyorder=5, deriv=2)\n",
    "than.iloc[:, :-2] = than_deriv"
   ]
  },
  {
   "cell_type": "code",
   "execution_count": 137,
   "metadata": {},
   "outputs": [],
   "source": [
    "honhop_folder = \"data2/testHonhop\"\n",
    "data_frames = []\n",
    "file_names = []\n",
    "for index, file_name in enumerate(os.listdir(honhop_folder)):\n",
    "    if file_name.endswith(\".CSV\"):  # Check if the file is a CSV\n",
    "        file_path = os.path.join(honhop_folder, file_name)\n",
    "        df = pd.read_csv(file_path, header=None).values\n",
    "        if index == 0:\n",
    "            data_frames.append(df[:, 0].reshape(1, -1))\n",
    "        data_frames.append(df[:, 1].reshape(1, -1))\n",
    "        file_names.append(file_name)\n",
    "honhop_test = pd.DataFrame(np.concatenate(data_frames[1:]), columns=list(data_frames[0]))\n",
    "honhop_test.columns = ['_'.join(map(str, col)) for col in honhop_test.columns]\n",
    "honhop_test[\"File name\"] = file_names\n",
    "honhop_test[\"Type\"] = honhop_test[\"File name\"].str.split(\"-\", expand=True)[0].str[0]\n",
    "honhop_test_deriv = savgol_filter(honhop_test.iloc[:, :-2], window_length=25, polyorder=5, deriv=2)\n",
    "honhop_test.iloc[:, :-2] = honhop_test_deriv"
   ]
  },
  {
   "cell_type": "code",
   "execution_count": 138,
   "metadata": {},
   "outputs": [],
   "source": [
    "data = pd.concat([honhop, re, than, honhop_test], axis=0)"
   ]
  },
  {
   "cell_type": "code",
   "execution_count": 139,
   "metadata": {},
   "outputs": [],
   "source": [
    "# data[\"Type\"].loc[data[\"Type\"] == 'D'] = \"R\""
   ]
  },
  {
   "cell_type": "code",
   "execution_count": 140,
   "metadata": {},
   "outputs": [],
   "source": [
    "from sklearn.preprocessing import LabelEncoder\n",
    "le = LabelEncoder()\n",
    "y = le.fit_transform(data[\"Type\"])"
   ]
  },
  {
   "cell_type": "code",
   "execution_count": 141,
   "metadata": {},
   "outputs": [],
   "source": [
    "from sklearn.decomposition import PCA\n",
    "from sklearn.discriminant_analysis import LinearDiscriminantAnalysis\n",
    "from sklearn.preprocessing import StandardScaler, MinMaxScaler\n",
    "\n",
    "scaler = StandardScaler()\n",
    "scaled_data = scaler.fit_transform(data.iloc[:, :-2])\n",
    "\n",
    "lda = LinearDiscriminantAnalysis()\n",
    "X_lda = lda.fit_transform(scaled_data, y)"
   ]
  },
  {
   "cell_type": "code",
   "execution_count": 142,
   "metadata": {},
   "outputs": [
    {
     "data": {
      "text/plain": [
       "array(['D', 'R', 'T'], dtype=object)"
      ]
     },
     "execution_count": 142,
     "metadata": {},
     "output_type": "execute_result"
    }
   ],
   "source": [
    "le.classes_"
   ]
  },
  {
   "cell_type": "code",
   "execution_count": 143,
   "metadata": {},
   "outputs": [
    {
     "data": {
      "application/vnd.plotly.v1+json": {
       "config": {
        "plotlyServerURL": "https://plot.ly"
       },
       "data": [
        {
         "hovertemplate": [
          "D10_-1-1.CSV",
          "D10_-1-2.CSV",
          "D10_-1-3.CSV",
          "D10_-1-4.CSV",
          "D10_-1-5.CSV",
          "D10_-2-1.CSV",
          "D10_-2-2.CSV",
          "D10_-2-3.CSV",
          "D10_-2-4.CSV",
          "D10_-2-5.CSV",
          "D3-1-1.CSV",
          "D3-1-2.CSV",
          "D3-1-3.CSV",
          "D3-1-4.CSV",
          "D3-1-5.CSV",
          "D5_-1-1.CSV",
          "D5_-1-2.CSV",
          "D5_-1-3.CSV",
          "D5_-1-4.CSV",
          "D5_-1-5.CSV",
          "D5_-2-1.CSV",
          "D5_-2-2.CSV",
          "D5_-2-3.CSV",
          "D5_-2-4.CSV",
          "D5_-2-5.CSV",
          "R-DLS1-1.CSV",
          "R-DLS1-2.CSV",
          "R-DLS1-3.CSV",
          "R-DLS1-4.CSV",
          "R-DLS1-5.CSV",
          "R-PF1-1.CSV",
          "R-PF1-2.CSV",
          "R-PF1-3.CSV",
          "R-PF1-4.CSV",
          "R-PF1-5.CSV",
          "R1-DLS1-1.CSV",
          "R1-DLS1-2.CSV",
          "R1-DLS1-3.CSV",
          "R1-DLS1-4.CSV",
          "R1-DLS5-1.CSV",
          "R1-DLS5-2.CSV",
          "R1-DLS5-3.CSV",
          "R1-DLS5-4.CSV",
          "R1-DLS5-5.CSV",
          "R10-1.CSV",
          "R10-2.CSV",
          "R10-3.CSV",
          "R10-4.CSV",
          "R10-5.CSV",
          "R16-1.CSV",
          "R16-2.CSV",
          "R16-3.CSV",
          "R16-4.CSV",
          "R16-5.CSV",
          "R2-DLS1-1.CSV",
          "R2-DLS1-2.CSV",
          "R2-DLS1-3.CSV",
          "R2-DLS1-4.CSV",
          "R2-DLS1-5.CSV",
          "R3-1.CSV",
          "R3-2.CSV",
          "R3-3.CSV",
          "R3-4.CSV",
          "R3-5.CSV",
          "R3_New-1.CSV",
          "R3_New-2.CSV",
          "R3_New-3.CSV",
          "R3_New-4.CSV",
          "R3_New-5.CSV",
          "R4-1.CSV",
          "R4-2.CSV",
          "R4-3.CSV",
          "R4-4.CSV",
          "R4-5.CSV",
          "T1-1.CSV",
          "T1-2.CSV",
          "T1-3.CSV",
          "T1-4.CSV",
          "T1-5.CSV",
          "T10-1.CSV",
          "T10-2.CSV",
          "T10-3.CSV",
          "T10-4.CSV",
          "T10-5.CSV",
          "T2-1.CSV",
          "T2-2.CSV",
          "T2-3.CSV",
          "T2-4.CSV",
          "T2-5.CSV",
          "T4-1.CSV",
          "T4-2.CSV",
          "T4-3.CSV",
          "T4-4.CSV",
          "T4-5.CSV",
          "T5-1.CSV",
          "T5-2.CSV",
          "T5-3.CSV",
          "T5-4.CSV",
          "T5-5.CSV",
          "T6-1.CSV",
          "T6-2.CSV",
          "T6-3.CSV",
          "T6-4.CSV",
          "T6-5.CSV",
          "T7-1.CSV",
          "T7-2.CSV",
          "T7-3.CSV",
          "T7-4.CSV",
          "T7-5.CSV",
          "T9-1.CSV",
          "T9-2.CSV",
          "T9-3.CSV",
          "T9-4.CSV",
          "T9-5.CSV",
          "TC-DLS5-1.CSV",
          "TC-DLS5-2.CSV",
          "TC-DLS5-3.CSV",
          "TC-DLS5-4.CSV",
          "TC-DLS5-5.CSV",
          "D1-1.CSV",
          "D1-2.CSV",
          "D1-3.CSV",
          "D1-4.CSV",
          "D1-5.CSV",
          "D1_-1-1.CSV",
          "D1_-1-2.CSV",
          "D1_-1-3.CSV",
          "D1_-1-4.CSV",
          "D1_-1-5.CSV",
          "D1_-2-1.CSV",
          "D1_-2-2.CSV",
          "D1_-2-3.CSV",
          "D1_-2-4.CSV",
          "D1_-2-5.CSV",
          "D2_-1-1.CSV",
          "D2_-1-2.CSV",
          "D2_-1-3.CSV",
          "D2_-1-4.CSV",
          "D2_-1-5.CSV",
          "D2_-2-1.CSV",
          "D2_-2-2.CSV",
          "D2_-2-3.CSV",
          "D2_-2-4.CSV",
          "D2_-2-5.CSV",
          "D2_-3-1.CSV",
          "D2_-3-2.CSV",
          "D2_-3-3.CSV",
          "D2_-3-4.CSV",
          "D2_-3-5.CSV",
          "D5_-3-1.CSV",
          "D5_-3-2.CSV",
          "D5_-3-3.CSV",
          "D5_-3-4.CSV",
          "D5_-3-5.CSV",
          "D9_-1-1.CSV",
          "D9_-1-2.CSV",
          "D9_-1-3.CSV",
          "D9_-1-4.CSV",
          "D9_-1-5.CSV"
         ],
         "marker": {
          "color": [
           0,
           0,
           0,
           0,
           0,
           0,
           0,
           0,
           0,
           0,
           0,
           0,
           0,
           0,
           0,
           0,
           0,
           0,
           0,
           0,
           0,
           0,
           0,
           0,
           0,
           1,
           1,
           1,
           1,
           1,
           1,
           1,
           1,
           1,
           1,
           1,
           1,
           1,
           1,
           1,
           1,
           1,
           1,
           1,
           1,
           1,
           1,
           1,
           1,
           1,
           1,
           1,
           1,
           1,
           1,
           1,
           1,
           1,
           1,
           1,
           1,
           1,
           1,
           1,
           1,
           1,
           1,
           1,
           1,
           1,
           1,
           1,
           1,
           1,
           2,
           2,
           2,
           2,
           2,
           2,
           2,
           2,
           2,
           2,
           2,
           2,
           2,
           2,
           2,
           2,
           2,
           2,
           2,
           2,
           2,
           2,
           2,
           2,
           2,
           2,
           2,
           2,
           2,
           2,
           2,
           2,
           2,
           2,
           2,
           2,
           2,
           2,
           2,
           2,
           2,
           2,
           2,
           2,
           2,
           0,
           0,
           0,
           0,
           0,
           0,
           0,
           0,
           0,
           0,
           0,
           0,
           0,
           0,
           0,
           0,
           0,
           0,
           0,
           0,
           0,
           0,
           0,
           0,
           0,
           0,
           0,
           0,
           0,
           0,
           0,
           0,
           0,
           0,
           0,
           0,
           0,
           0,
           0,
           0
          ],
          "colorbar": {
           "ticktext": [
            "Hỗn hợp",
            "Rễ",
            "Thân"
           ],
           "tickvals": [
            0,
            1,
            2
           ],
           "title": {
            "text": "Type"
           }
          },
          "colorscale": [
           [
            0,
            "#440154"
           ],
           [
            0.1111111111111111,
            "#482878"
           ],
           [
            0.2222222222222222,
            "#3e4989"
           ],
           [
            0.3333333333333333,
            "#31688e"
           ],
           [
            0.4444444444444444,
            "#26828e"
           ],
           [
            0.5555555555555556,
            "#1f9e89"
           ],
           [
            0.6666666666666666,
            "#35b779"
           ],
           [
            0.7777777777777778,
            "#6ece58"
           ],
           [
            0.8888888888888888,
            "#b5de2b"
           ],
           [
            1,
            "#fde725"
           ]
          ],
          "line": {
           "color": "black",
           "width": 2
          },
          "showscale": true,
          "size": 10
         },
         "mode": "markers",
         "type": "scatter",
         "x": [
          -3.0303603998410242,
          -4.68585110792547,
          -3.613380677026604,
          -2.9325925005119404,
          -3.711301942133276,
          -2.9405580334683834,
          -4.445325505053548,
          -1.9206122474333427,
          -6.143990696238399,
          -3.3289171931692008,
          -2.900727155948867,
          -4.462631757100774,
          -3.60900224933022,
          -2.13625186157233,
          -2.163778515737121,
          -3.3383582936745175,
          -5.00322285289921,
          -2.764620301255125,
          -3.9552166831238034,
          -2.404594194734252,
          -3.694715908035013,
          -3.6451796356676187,
          -3.4361088475898685,
          -3.54305675172791,
          -4.505568426639043,
          6.339652643385153,
          6.596478820356311,
          7.230643439329631,
          8.762837180613825,
          9.509171766069644,
          6.47770731007895,
          7.902693632315832,
          8.579718124957841,
          7.110312092356167,
          7.25284550493199,
          8.286756286064634,
          7.262382191322726,
          8.572513811306422,
          7.91302920992736,
          7.521415273449061,
          8.684797337450714,
          8.292383839988963,
          8.929755920051077,
          8.199732404822825,
          9.39650378928,
          7.9131112257378025,
          7.085484380897691,
          7.22253777127097,
          7.832422678945086,
          7.832422678945086,
          6.919424755758612,
          9.510381608200081,
          9.397955881648697,
          10.396338448643696,
          7.137788976631113,
          8.24335457039894,
          7.105829265165381,
          8.040278715977088,
          8.165189075216146,
          8.035056824750082,
          7.548355510228038,
          8.3024612493858,
          7.543955663997447,
          8.327920484139392,
          8.552591204573602,
          6.303629361026487,
          7.5471852871894995,
          7.795985814826093,
          7.191516190278454,
          8.43283340790239,
          7.204403182336952,
          7.663038490806018,
          8.732939259900023,
          9.200375450540097,
          -2.9206264821817998,
          -3.7304787512696476,
          -3.2740960879780707,
          -2.948731681801235,
          -4.8076002401624525,
          -4.031912765076345,
          -3.9504427484643374,
          -5.3649821296101114,
          -2.3080897033821284,
          -1.4046201286273998,
          -3.7678852135523306,
          -2.408013731217035,
          -4.5347261500810045,
          -3.6714349037392293,
          -3.9288501347626625,
          -3.7227795932440944,
          -4.3907881665457715,
          -3.6987505202870476,
          -3.690485304674995,
          -4.701076794320671,
          -3.9130623751040874,
          -3.320590593006923,
          -5.213855110276973,
          -3.2349896586547855,
          -3.168387868934916,
          -2.1150137767779524,
          -5.0737837608718195,
          -3.8922763628347026,
          -5.439983024760375,
          -3.2196531663057,
          -2.62220200321449,
          -3.883470843798622,
          -1.4169423456213794,
          -3.5604564672989247,
          -2.4734457988412863,
          -3.668200327994261,
          -5.527214956948454,
          -4.309877085282484,
          -6.2359641598531015,
          -1.6926835747774056,
          -4.234277017334061,
          -4.1363240295451575,
          -3.555868263272608,
          -3.66489937701719,
          -4.0808332571900525,
          -3.0271569725882417,
          -3.2272700731729,
          -0.8907822612380591,
          -2.959131259145514,
          -2.496767476041078,
          -4.685093776005298,
          -3.4475138282633147,
          -2.8271912864955646,
          -4.091055383670881,
          -3.9645340973787513,
          -5.180104386310401,
          -3.116735567718388,
          -2.7874634526149764,
          -2.309005039060781,
          -6.450219637631164,
          -2.763407052975531,
          -4.125474841432458,
          -3.6366200762128313,
          -3.6317352754336536,
          -3.0149049548128377,
          -4.00496111338489,
          -2.9215187388181403,
          -3.70775812031248,
          -3.4254806220458818,
          -4.828242330775463,
          -3.0609527503545126,
          -4.111740302705765,
          -3.52117603538253,
          -2.579829739775941,
          -5.599946287528711,
          -2.340003577353982,
          -2.8325542884924855,
          -2.6744528253120787,
          -2.6604485723144586,
          -3.9738473913547976,
          -3.2679095923858754,
          -3.5165140166185354,
          -2.03327163674473,
          -1.2456723770051048,
          -3.841100802173922
         ],
         "y": [
          -3.8143932181756233,
          -2.3127178368489556,
          -2.7490099333069673,
          -1.721944685643007,
          -3.3633879440488825,
          -3.1459913640996304,
          -2.934155007844054,
          -2.793823839953039,
          -2.730366495390031,
          -3.032058226729837,
          -3.334167434191668,
          -2.0190855798297087,
          -4.062535224423199,
          -3.089641303872397,
          -2.155525026883825,
          -3.432615379034888,
          -2.6008465109449017,
          -3.277759835088715,
          -2.1576256134128773,
          -3.6888866704117014,
          -2.844890240595887,
          -1.814421657278431,
          -3.204275749072262,
          -1.59106715686751,
          -2.7802795502183786,
          -1.0688530897404163,
          0.046972296719022644,
          -0.28527816457123634,
          1.815812820160917,
          -0.12479973768400887,
          1.2276673929723847,
          0.923167617512527,
          -1.2019926236954654,
          0.8644176937098331,
          0.10039118418572829,
          -0.3751166426369078,
          -0.5653311138440419,
          1.931647549891946,
          -1.292862828136117,
          0.33827097727791056,
          0.9810155546834693,
          -0.5284369498587397,
          1.3944718055492382,
          -0.3629098405303046,
          0.7713963339936112,
          0.6326160389232796,
          0.5712693339132329,
          -0.19530183590094463,
          -0.1564615580493096,
          -0.1564615580493096,
          0.6598037780307858,
          -1.2743635786697807,
          0.36816824861103115,
          -0.6348643749384234,
          0.6772499452755185,
          -1.430386056576992,
          0.9629815117051175,
          -0.045133215412799466,
          -0.17920854924878993,
          0.07405116413191948,
          0.05668154710964446,
          0.11477936385970172,
          0.3348393694429981,
          2.1911339190818824,
          -0.9180426530363119,
          0.18616282277109475,
          -0.0742478865315912,
          -0.6935695172281271,
          -0.1938992323961008,
          0.4970920401943697,
          -1.7302569530380336,
          -0.23553028450724994,
          -0.5492568042674479,
          0.5110363548317399,
          3.7610516733987116,
          4.444523817904463,
          0.9749477828458462,
          3.7679661472241546,
          3.6774061992118465,
          0.10967504659405375,
          4.421533159162395,
          4.651768843289805,
          3.0992823045555,
          4.725974236112228,
          3.671370876957944,
          3.040044546783244,
          1.8865264622367008,
          4.564746329895167,
          3.8680188721143374,
          3.9620031371760573,
          4.016416249389284,
          4.1613652787705195,
          4.831121779768012,
          4.107881407731597,
          3.594526839712599,
          3.1339448659274836,
          2.2255792401252306,
          4.499400295042409,
          7.186291537700193,
          4.4135897096266135,
          2.3844741912710243,
          2.475803190234565,
          3.1235716859525784,
          3.989446710586276,
          2.4330839710117047,
          2.852217733607099,
          2.1686050047200096,
          4.060350106653626,
          5.0434776247930415,
          4.5167626921716995,
          4.55344229088191,
          2.645956052517407,
          3.4489448056474634,
          2.550316962525299,
          2.953014251525451,
          3.7255242088715597,
          4.106597777483957,
          3.6709157625300137,
          5.442739916846959,
          -4.702816962157609,
          -0.8876542215441597,
          -2.1875799714306527,
          -2.2476238728539952,
          -3.7949412305383374,
          -3.6472967854049867,
          -0.15471264134039736,
          -2.7942668128459713,
          -2.4301866909042555,
          -1.864511903065092,
          -2.312157487575156,
          -2.429897819057137,
          -1.9271509164099272,
          -1.9936222916278739,
          -2.728678081743946,
          -2.8705943132770924,
          -3.200956887628152,
          -2.757717717896547,
          -1.8319884407516764,
          -1.4749822378767872,
          -2.729229628660948,
          -1.9926585887433952,
          -2.6844337262870406,
          -1.6552881201046676,
          0.5657558231543838,
          -3.6551612189845795,
          -2.7390507752659126,
          -1.6982617531587096,
          -3.074159564613227,
          -2.791343808474127,
          -2.2928856003874687,
          -3.97725925099969,
          -1.0474872479988564,
          -4.463550083431985,
          -2.5427638388914025,
          -1.2449156845226614,
          -3.3812259581578994,
          -1.9949013541784137,
          -1.6810580200497676,
          -2.932046025225986
         ]
        }
       ],
       "layout": {
        "height": 600,
        "template": {
         "data": {
          "bar": [
           {
            "error_x": {
             "color": "#2a3f5f"
            },
            "error_y": {
             "color": "#2a3f5f"
            },
            "marker": {
             "line": {
              "color": "#E5ECF6",
              "width": 0.5
             },
             "pattern": {
              "fillmode": "overlay",
              "size": 10,
              "solidity": 0.2
             }
            },
            "type": "bar"
           }
          ],
          "barpolar": [
           {
            "marker": {
             "line": {
              "color": "#E5ECF6",
              "width": 0.5
             },
             "pattern": {
              "fillmode": "overlay",
              "size": 10,
              "solidity": 0.2
             }
            },
            "type": "barpolar"
           }
          ],
          "carpet": [
           {
            "aaxis": {
             "endlinecolor": "#2a3f5f",
             "gridcolor": "white",
             "linecolor": "white",
             "minorgridcolor": "white",
             "startlinecolor": "#2a3f5f"
            },
            "baxis": {
             "endlinecolor": "#2a3f5f",
             "gridcolor": "white",
             "linecolor": "white",
             "minorgridcolor": "white",
             "startlinecolor": "#2a3f5f"
            },
            "type": "carpet"
           }
          ],
          "choropleth": [
           {
            "colorbar": {
             "outlinewidth": 0,
             "ticks": ""
            },
            "type": "choropleth"
           }
          ],
          "contour": [
           {
            "colorbar": {
             "outlinewidth": 0,
             "ticks": ""
            },
            "colorscale": [
             [
              0,
              "#0d0887"
             ],
             [
              0.1111111111111111,
              "#46039f"
             ],
             [
              0.2222222222222222,
              "#7201a8"
             ],
             [
              0.3333333333333333,
              "#9c179e"
             ],
             [
              0.4444444444444444,
              "#bd3786"
             ],
             [
              0.5555555555555556,
              "#d8576b"
             ],
             [
              0.6666666666666666,
              "#ed7953"
             ],
             [
              0.7777777777777778,
              "#fb9f3a"
             ],
             [
              0.8888888888888888,
              "#fdca26"
             ],
             [
              1,
              "#f0f921"
             ]
            ],
            "type": "contour"
           }
          ],
          "contourcarpet": [
           {
            "colorbar": {
             "outlinewidth": 0,
             "ticks": ""
            },
            "type": "contourcarpet"
           }
          ],
          "heatmap": [
           {
            "colorbar": {
             "outlinewidth": 0,
             "ticks": ""
            },
            "colorscale": [
             [
              0,
              "#0d0887"
             ],
             [
              0.1111111111111111,
              "#46039f"
             ],
             [
              0.2222222222222222,
              "#7201a8"
             ],
             [
              0.3333333333333333,
              "#9c179e"
             ],
             [
              0.4444444444444444,
              "#bd3786"
             ],
             [
              0.5555555555555556,
              "#d8576b"
             ],
             [
              0.6666666666666666,
              "#ed7953"
             ],
             [
              0.7777777777777778,
              "#fb9f3a"
             ],
             [
              0.8888888888888888,
              "#fdca26"
             ],
             [
              1,
              "#f0f921"
             ]
            ],
            "type": "heatmap"
           }
          ],
          "heatmapgl": [
           {
            "colorbar": {
             "outlinewidth": 0,
             "ticks": ""
            },
            "colorscale": [
             [
              0,
              "#0d0887"
             ],
             [
              0.1111111111111111,
              "#46039f"
             ],
             [
              0.2222222222222222,
              "#7201a8"
             ],
             [
              0.3333333333333333,
              "#9c179e"
             ],
             [
              0.4444444444444444,
              "#bd3786"
             ],
             [
              0.5555555555555556,
              "#d8576b"
             ],
             [
              0.6666666666666666,
              "#ed7953"
             ],
             [
              0.7777777777777778,
              "#fb9f3a"
             ],
             [
              0.8888888888888888,
              "#fdca26"
             ],
             [
              1,
              "#f0f921"
             ]
            ],
            "type": "heatmapgl"
           }
          ],
          "histogram": [
           {
            "marker": {
             "pattern": {
              "fillmode": "overlay",
              "size": 10,
              "solidity": 0.2
             }
            },
            "type": "histogram"
           }
          ],
          "histogram2d": [
           {
            "colorbar": {
             "outlinewidth": 0,
             "ticks": ""
            },
            "colorscale": [
             [
              0,
              "#0d0887"
             ],
             [
              0.1111111111111111,
              "#46039f"
             ],
             [
              0.2222222222222222,
              "#7201a8"
             ],
             [
              0.3333333333333333,
              "#9c179e"
             ],
             [
              0.4444444444444444,
              "#bd3786"
             ],
             [
              0.5555555555555556,
              "#d8576b"
             ],
             [
              0.6666666666666666,
              "#ed7953"
             ],
             [
              0.7777777777777778,
              "#fb9f3a"
             ],
             [
              0.8888888888888888,
              "#fdca26"
             ],
             [
              1,
              "#f0f921"
             ]
            ],
            "type": "histogram2d"
           }
          ],
          "histogram2dcontour": [
           {
            "colorbar": {
             "outlinewidth": 0,
             "ticks": ""
            },
            "colorscale": [
             [
              0,
              "#0d0887"
             ],
             [
              0.1111111111111111,
              "#46039f"
             ],
             [
              0.2222222222222222,
              "#7201a8"
             ],
             [
              0.3333333333333333,
              "#9c179e"
             ],
             [
              0.4444444444444444,
              "#bd3786"
             ],
             [
              0.5555555555555556,
              "#d8576b"
             ],
             [
              0.6666666666666666,
              "#ed7953"
             ],
             [
              0.7777777777777778,
              "#fb9f3a"
             ],
             [
              0.8888888888888888,
              "#fdca26"
             ],
             [
              1,
              "#f0f921"
             ]
            ],
            "type": "histogram2dcontour"
           }
          ],
          "mesh3d": [
           {
            "colorbar": {
             "outlinewidth": 0,
             "ticks": ""
            },
            "type": "mesh3d"
           }
          ],
          "parcoords": [
           {
            "line": {
             "colorbar": {
              "outlinewidth": 0,
              "ticks": ""
             }
            },
            "type": "parcoords"
           }
          ],
          "pie": [
           {
            "automargin": true,
            "type": "pie"
           }
          ],
          "scatter": [
           {
            "fillpattern": {
             "fillmode": "overlay",
             "size": 10,
             "solidity": 0.2
            },
            "type": "scatter"
           }
          ],
          "scatter3d": [
           {
            "line": {
             "colorbar": {
              "outlinewidth": 0,
              "ticks": ""
             }
            },
            "marker": {
             "colorbar": {
              "outlinewidth": 0,
              "ticks": ""
             }
            },
            "type": "scatter3d"
           }
          ],
          "scattercarpet": [
           {
            "marker": {
             "colorbar": {
              "outlinewidth": 0,
              "ticks": ""
             }
            },
            "type": "scattercarpet"
           }
          ],
          "scattergeo": [
           {
            "marker": {
             "colorbar": {
              "outlinewidth": 0,
              "ticks": ""
             }
            },
            "type": "scattergeo"
           }
          ],
          "scattergl": [
           {
            "marker": {
             "colorbar": {
              "outlinewidth": 0,
              "ticks": ""
             }
            },
            "type": "scattergl"
           }
          ],
          "scattermapbox": [
           {
            "marker": {
             "colorbar": {
              "outlinewidth": 0,
              "ticks": ""
             }
            },
            "type": "scattermapbox"
           }
          ],
          "scatterpolar": [
           {
            "marker": {
             "colorbar": {
              "outlinewidth": 0,
              "ticks": ""
             }
            },
            "type": "scatterpolar"
           }
          ],
          "scatterpolargl": [
           {
            "marker": {
             "colorbar": {
              "outlinewidth": 0,
              "ticks": ""
             }
            },
            "type": "scatterpolargl"
           }
          ],
          "scatterternary": [
           {
            "marker": {
             "colorbar": {
              "outlinewidth": 0,
              "ticks": ""
             }
            },
            "type": "scatterternary"
           }
          ],
          "surface": [
           {
            "colorbar": {
             "outlinewidth": 0,
             "ticks": ""
            },
            "colorscale": [
             [
              0,
              "#0d0887"
             ],
             [
              0.1111111111111111,
              "#46039f"
             ],
             [
              0.2222222222222222,
              "#7201a8"
             ],
             [
              0.3333333333333333,
              "#9c179e"
             ],
             [
              0.4444444444444444,
              "#bd3786"
             ],
             [
              0.5555555555555556,
              "#d8576b"
             ],
             [
              0.6666666666666666,
              "#ed7953"
             ],
             [
              0.7777777777777778,
              "#fb9f3a"
             ],
             [
              0.8888888888888888,
              "#fdca26"
             ],
             [
              1,
              "#f0f921"
             ]
            ],
            "type": "surface"
           }
          ],
          "table": [
           {
            "cells": {
             "fill": {
              "color": "#EBF0F8"
             },
             "line": {
              "color": "white"
             }
            },
            "header": {
             "fill": {
              "color": "#C8D4E3"
             },
             "line": {
              "color": "white"
             }
            },
            "type": "table"
           }
          ]
         },
         "layout": {
          "annotationdefaults": {
           "arrowcolor": "#2a3f5f",
           "arrowhead": 0,
           "arrowwidth": 1
          },
          "autotypenumbers": "strict",
          "coloraxis": {
           "colorbar": {
            "outlinewidth": 0,
            "ticks": ""
           }
          },
          "colorscale": {
           "diverging": [
            [
             0,
             "#8e0152"
            ],
            [
             0.1,
             "#c51b7d"
            ],
            [
             0.2,
             "#de77ae"
            ],
            [
             0.3,
             "#f1b6da"
            ],
            [
             0.4,
             "#fde0ef"
            ],
            [
             0.5,
             "#f7f7f7"
            ],
            [
             0.6,
             "#e6f5d0"
            ],
            [
             0.7,
             "#b8e186"
            ],
            [
             0.8,
             "#7fbc41"
            ],
            [
             0.9,
             "#4d9221"
            ],
            [
             1,
             "#276419"
            ]
           ],
           "sequential": [
            [
             0,
             "#0d0887"
            ],
            [
             0.1111111111111111,
             "#46039f"
            ],
            [
             0.2222222222222222,
             "#7201a8"
            ],
            [
             0.3333333333333333,
             "#9c179e"
            ],
            [
             0.4444444444444444,
             "#bd3786"
            ],
            [
             0.5555555555555556,
             "#d8576b"
            ],
            [
             0.6666666666666666,
             "#ed7953"
            ],
            [
             0.7777777777777778,
             "#fb9f3a"
            ],
            [
             0.8888888888888888,
             "#fdca26"
            ],
            [
             1,
             "#f0f921"
            ]
           ],
           "sequentialminus": [
            [
             0,
             "#0d0887"
            ],
            [
             0.1111111111111111,
             "#46039f"
            ],
            [
             0.2222222222222222,
             "#7201a8"
            ],
            [
             0.3333333333333333,
             "#9c179e"
            ],
            [
             0.4444444444444444,
             "#bd3786"
            ],
            [
             0.5555555555555556,
             "#d8576b"
            ],
            [
             0.6666666666666666,
             "#ed7953"
            ],
            [
             0.7777777777777778,
             "#fb9f3a"
            ],
            [
             0.8888888888888888,
             "#fdca26"
            ],
            [
             1,
             "#f0f921"
            ]
           ]
          },
          "colorway": [
           "#636efa",
           "#EF553B",
           "#00cc96",
           "#ab63fa",
           "#FFA15A",
           "#19d3f3",
           "#FF6692",
           "#B6E880",
           "#FF97FF",
           "#FECB52"
          ],
          "font": {
           "color": "#2a3f5f"
          },
          "geo": {
           "bgcolor": "white",
           "lakecolor": "white",
           "landcolor": "#E5ECF6",
           "showlakes": true,
           "showland": true,
           "subunitcolor": "white"
          },
          "hoverlabel": {
           "align": "left"
          },
          "hovermode": "closest",
          "mapbox": {
           "style": "light"
          },
          "paper_bgcolor": "white",
          "plot_bgcolor": "#E5ECF6",
          "polar": {
           "angularaxis": {
            "gridcolor": "white",
            "linecolor": "white",
            "ticks": ""
           },
           "bgcolor": "#E5ECF6",
           "radialaxis": {
            "gridcolor": "white",
            "linecolor": "white",
            "ticks": ""
           }
          },
          "scene": {
           "xaxis": {
            "backgroundcolor": "#E5ECF6",
            "gridcolor": "white",
            "gridwidth": 2,
            "linecolor": "white",
            "showbackground": true,
            "ticks": "",
            "zerolinecolor": "white"
           },
           "yaxis": {
            "backgroundcolor": "#E5ECF6",
            "gridcolor": "white",
            "gridwidth": 2,
            "linecolor": "white",
            "showbackground": true,
            "ticks": "",
            "zerolinecolor": "white"
           },
           "zaxis": {
            "backgroundcolor": "#E5ECF6",
            "gridcolor": "white",
            "gridwidth": 2,
            "linecolor": "white",
            "showbackground": true,
            "ticks": "",
            "zerolinecolor": "white"
           }
          },
          "shapedefaults": {
           "line": {
            "color": "#2a3f5f"
           }
          },
          "ternary": {
           "aaxis": {
            "gridcolor": "white",
            "linecolor": "white",
            "ticks": ""
           },
           "baxis": {
            "gridcolor": "white",
            "linecolor": "white",
            "ticks": ""
           },
           "bgcolor": "#E5ECF6",
           "caxis": {
            "gridcolor": "white",
            "linecolor": "white",
            "ticks": ""
           }
          },
          "title": {
           "x": 0.05
          },
          "xaxis": {
           "automargin": true,
           "gridcolor": "white",
           "linecolor": "white",
           "ticks": "",
           "title": {
            "standoff": 15
           },
           "zerolinecolor": "white",
           "zerolinewidth": 2
          },
          "yaxis": {
           "automargin": true,
           "gridcolor": "white",
           "linecolor": "white",
           "ticks": "",
           "title": {
            "standoff": 15
           },
           "zerolinecolor": "white",
           "zerolinewidth": 2
          }
         }
        },
        "title": {
         "text": "2D Scatter Plot Example"
        },
        "width": 600,
        "xaxis": {
         "title": {
          "text": "X Axis"
         }
        },
        "yaxis": {
         "title": {
          "text": "Y Axis"
         }
        }
       }
      }
     },
     "metadata": {},
     "output_type": "display_data"
    }
   ],
   "source": [
    "import plotly.graph_objects as go\n",
    "\n",
    "\n",
    "# Create a scatter plot\n",
    "fig = go.Figure()\n",
    "hover_text = data[\"File name\"].values\n",
    "color_map = {\n",
    "    0: 'orange',\n",
    "    1: 'blue',\n",
    "    2: 'red'\n",
    "}\n",
    "# Add scatter trace\n",
    "fig.add_trace(go.Scatter(\n",
    "    x=X_lda[:, 0],\n",
    "    y=X_lda[:, 1],\n",
    "    mode='markers',  # Display markers and text\n",
    "    marker=dict(\n",
    "        size=10, \n",
    "        color = y,\n",
    "        colorscale='Viridis', \n",
    "        colorbar=dict(title='Type', tickvals = [0,1,2], ticktext = ['Hỗn hợp', 'Rễ', 'Thân']),  \n",
    "        showscale=True,\n",
    "        line=dict(\n",
    "            width=2,  # Width of the border\n",
    "            color='black'  # Border color\n",
    "        )\n",
    "        ),\n",
    "    hovertemplate = hover_text,\n",
    "\n",
    "))\n",
    "\n",
    "# Update layout\n",
    "fig.update_layout(\n",
    "    title='2D Scatter Plot Example',\n",
    "    xaxis_title='X Axis',\n",
    "    yaxis_title='Y Axis',\n",
    "    width = 600,\n",
    "    height = 600,\n",
    ")\n",
    "\n",
    "# Show the plot\n",
    "fig.show()"
   ]
  },
  {
   "cell_type": "code",
   "execution_count": 144,
   "metadata": {},
   "outputs": [],
   "source": [
    "honhop_folder = \"data2/testHonhop\"\n",
    "data_frames = []\n",
    "file_names = []\n",
    "for index, file_name in enumerate(os.listdir(honhop_folder)):\n",
    "    if file_name.endswith(\".CSV\"):  # Check if the file is a CSV\n",
    "        file_path = os.path.join(honhop_folder, file_name)\n",
    "        df = pd.read_csv(file_path, header=None).values\n",
    "        if index == 0:\n",
    "            data_frames.append(df[:, 0].reshape(1, -1))\n",
    "        data_frames.append(df[:, 1].reshape(1, -1))\n",
    "        file_names.append(file_name)\n",
    "honhop_test = pd.DataFrame(np.concatenate(data_frames[1:]), columns=list(data_frames[0]))\n",
    "honhop_test.columns = ['_'.join(map(str, col)) for col in honhop_test.columns]\n",
    "honhop_test[\"File name\"] = file_names\n",
    "honhop_test[\"Type\"] = honhop_test[\"File name\"].str.split(\"-\", expand=True)[0].str[0]"
   ]
  },
  {
   "cell_type": "code",
   "execution_count": 145,
   "metadata": {},
   "outputs": [],
   "source": [
    "X_test = honhop_test.iloc[:, :-2]\n",
    "X_test = savgol_filter(X_test, window_length = 25,  polyorder=5, deriv = 2)"
   ]
  },
  {
   "cell_type": "code",
   "execution_count": 146,
   "metadata": {},
   "outputs": [
    {
     "name": "stderr",
     "output_type": "stream",
     "text": [
      "c:\\Python311\\Lib\\site-packages\\sklearn\\base.py:493: UserWarning:\n",
      "\n",
      "X does not have valid feature names, but StandardScaler was fitted with feature names\n",
      "\n"
     ]
    }
   ],
   "source": [
    "X_test_scaled = scaler.transform(X_test)\n",
    "X_test_lda = lda.transform(X_test_scaled)"
   ]
  },
  {
   "cell_type": "code",
   "execution_count": 147,
   "metadata": {},
   "outputs": [
    {
     "data": {
      "text/plain": [
       "array([0, 0, 0, 0, 0, 0, 0, 0, 0, 0, 0, 0, 0, 0, 0, 0, 0, 0, 0, 0, 0, 0,\n",
       "       0, 0, 2, 0, 0, 0, 0, 0, 0, 0, 0, 0, 0, 0, 0, 0, 0, 0])"
      ]
     },
     "execution_count": 147,
     "metadata": {},
     "output_type": "execute_result"
    }
   ],
   "source": [
    "lda.predict(X_test_scaled)"
   ]
  },
  {
   "cell_type": "code",
   "execution_count": 148,
   "metadata": {},
   "outputs": [
    {
     "data": {
      "application/vnd.plotly.v1+json": {
       "config": {
        "plotlyServerURL": "https://plot.ly"
       },
       "data": [
        {
         "hovertemplate": [
          "D10_-1-1.CSV",
          "D10_-1-2.CSV",
          "D10_-1-3.CSV",
          "D10_-1-4.CSV",
          "D10_-1-5.CSV",
          "D10_-2-1.CSV",
          "D10_-2-2.CSV",
          "D10_-2-3.CSV",
          "D10_-2-4.CSV",
          "D10_-2-5.CSV",
          "D3-1-1.CSV",
          "D3-1-2.CSV",
          "D3-1-3.CSV",
          "D3-1-4.CSV",
          "D3-1-5.CSV",
          "D5_-1-1.CSV",
          "D5_-1-2.CSV",
          "D5_-1-3.CSV",
          "D5_-1-4.CSV",
          "D5_-1-5.CSV",
          "D5_-2-1.CSV",
          "D5_-2-2.CSV",
          "D5_-2-3.CSV",
          "D5_-2-4.CSV",
          "D5_-2-5.CSV",
          "R-DLS1-1.CSV",
          "R-DLS1-2.CSV",
          "R-DLS1-3.CSV",
          "R-DLS1-4.CSV",
          "R-DLS1-5.CSV",
          "R-PF1-1.CSV",
          "R-PF1-2.CSV",
          "R-PF1-3.CSV",
          "R-PF1-4.CSV",
          "R-PF1-5.CSV",
          "R1-DLS1-1.CSV",
          "R1-DLS1-2.CSV",
          "R1-DLS1-3.CSV",
          "R1-DLS1-4.CSV",
          "R1-DLS5-1.CSV",
          "R1-DLS5-2.CSV",
          "R1-DLS5-3.CSV",
          "R1-DLS5-4.CSV",
          "R1-DLS5-5.CSV",
          "R10-1.CSV",
          "R10-2.CSV",
          "R10-3.CSV",
          "R10-4.CSV",
          "R10-5.CSV",
          "R16-1.CSV",
          "R16-2.CSV",
          "R16-3.CSV",
          "R16-4.CSV",
          "R16-5.CSV",
          "R2-DLS1-1.CSV",
          "R2-DLS1-2.CSV",
          "R2-DLS1-3.CSV",
          "R2-DLS1-4.CSV",
          "R2-DLS1-5.CSV",
          "R3-1.CSV",
          "R3-2.CSV",
          "R3-3.CSV",
          "R3-4.CSV",
          "R3-5.CSV",
          "R3_New-1.CSV",
          "R3_New-2.CSV",
          "R3_New-3.CSV",
          "R3_New-4.CSV",
          "R3_New-5.CSV",
          "R4-1.CSV",
          "R4-2.CSV",
          "R4-3.CSV",
          "R4-4.CSV",
          "R4-5.CSV",
          "T1-1.CSV",
          "T1-2.CSV",
          "T1-3.CSV",
          "T1-4.CSV",
          "T1-5.CSV",
          "T10-1.CSV",
          "T10-2.CSV",
          "T10-3.CSV",
          "T10-4.CSV",
          "T10-5.CSV",
          "T2-1.CSV",
          "T2-2.CSV",
          "T2-3.CSV",
          "T2-4.CSV",
          "T2-5.CSV",
          "T4-1.CSV",
          "T4-2.CSV",
          "T4-3.CSV",
          "T4-4.CSV",
          "T4-5.CSV",
          "T5-1.CSV",
          "T5-2.CSV",
          "T5-3.CSV",
          "T5-4.CSV",
          "T5-5.CSV",
          "T6-1.CSV",
          "T6-2.CSV",
          "T6-3.CSV",
          "T6-4.CSV",
          "T6-5.CSV",
          "T7-1.CSV",
          "T7-2.CSV",
          "T7-3.CSV",
          "T7-4.CSV",
          "T7-5.CSV",
          "T9-1.CSV",
          "T9-2.CSV",
          "T9-3.CSV",
          "T9-4.CSV",
          "T9-5.CSV",
          "TC-DLS5-1.CSV",
          "TC-DLS5-2.CSV",
          "TC-DLS5-3.CSV",
          "TC-DLS5-4.CSV",
          "TC-DLS5-5.CSV",
          "D1-1.CSV",
          "D1-2.CSV",
          "D1-3.CSV",
          "D1-4.CSV",
          "D1-5.CSV",
          "D1_-1-1.CSV",
          "D1_-1-2.CSV",
          "D1_-1-3.CSV",
          "D1_-1-4.CSV",
          "D1_-1-5.CSV",
          "D1_-2-1.CSV",
          "D1_-2-2.CSV",
          "D1_-2-3.CSV",
          "D1_-2-4.CSV",
          "D1_-2-5.CSV",
          "D2_-1-1.CSV",
          "D2_-1-2.CSV",
          "D2_-1-3.CSV",
          "D2_-1-4.CSV",
          "D2_-1-5.CSV",
          "D2_-2-1.CSV",
          "D2_-2-2.CSV",
          "D2_-2-3.CSV",
          "D2_-2-4.CSV",
          "D2_-2-5.CSV",
          "D2_-3-1.CSV",
          "D2_-3-2.CSV",
          "D2_-3-3.CSV",
          "D2_-3-4.CSV",
          "D2_-3-5.CSV",
          "D5_-3-1.CSV",
          "D5_-3-2.CSV",
          "D5_-3-3.CSV",
          "D5_-3-4.CSV",
          "D5_-3-5.CSV",
          "D9_-1-1.CSV",
          "D9_-1-2.CSV",
          "D9_-1-3.CSV",
          "D9_-1-4.CSV",
          "D9_-1-5.CSV"
         ],
         "marker": {
          "color": [
           0,
           0,
           0,
           0,
           0,
           0,
           0,
           0,
           0,
           0,
           0,
           0,
           0,
           0,
           0,
           0,
           0,
           0,
           0,
           0,
           0,
           0,
           0,
           0,
           0,
           1,
           1,
           1,
           1,
           1,
           1,
           1,
           1,
           1,
           1,
           1,
           1,
           1,
           1,
           1,
           1,
           1,
           1,
           1,
           1,
           1,
           1,
           1,
           1,
           1,
           1,
           1,
           1,
           1,
           1,
           1,
           1,
           1,
           1,
           1,
           1,
           1,
           1,
           1,
           1,
           1,
           1,
           1,
           1,
           1,
           1,
           1,
           1,
           1,
           2,
           2,
           2,
           2,
           2,
           2,
           2,
           2,
           2,
           2,
           2,
           2,
           2,
           2,
           2,
           2,
           2,
           2,
           2,
           2,
           2,
           2,
           2,
           2,
           2,
           2,
           2,
           2,
           2,
           2,
           2,
           2,
           2,
           2,
           2,
           2,
           2,
           2,
           2,
           2,
           2,
           2,
           2,
           2,
           2,
           0,
           0,
           0,
           0,
           0,
           0,
           0,
           0,
           0,
           0,
           0,
           0,
           0,
           0,
           0,
           0,
           0,
           0,
           0,
           0,
           0,
           0,
           0,
           0,
           0,
           0,
           0,
           0,
           0,
           0,
           0,
           0,
           0,
           0,
           0,
           0,
           0,
           0,
           0,
           0
          ],
          "colorbar": {
           "ticktext": [
            "Hỗn hợp",
            "Rễ",
            "Thân"
           ],
           "tickvals": [
            0,
            1,
            2
           ],
           "title": {
            "text": "Type"
           }
          },
          "colorscale": [
           [
            0,
            "#440154"
           ],
           [
            0.1111111111111111,
            "#482878"
           ],
           [
            0.2222222222222222,
            "#3e4989"
           ],
           [
            0.3333333333333333,
            "#31688e"
           ],
           [
            0.4444444444444444,
            "#26828e"
           ],
           [
            0.5555555555555556,
            "#1f9e89"
           ],
           [
            0.6666666666666666,
            "#35b779"
           ],
           [
            0.7777777777777778,
            "#6ece58"
           ],
           [
            0.8888888888888888,
            "#b5de2b"
           ],
           [
            1,
            "#fde725"
           ]
          ],
          "line": {
           "color": "black",
           "width": 2
          },
          "showscale": true,
          "size": 10
         },
         "mode": "markers",
         "type": "scatter",
         "x": [
          -3.0303603998410242,
          -4.68585110792547,
          -3.613380677026604,
          -2.9325925005119404,
          -3.711301942133276,
          -2.9405580334683834,
          -4.445325505053548,
          -1.9206122474333427,
          -6.143990696238399,
          -3.3289171931692008,
          -2.900727155948867,
          -4.462631757100774,
          -3.60900224933022,
          -2.13625186157233,
          -2.163778515737121,
          -3.3383582936745175,
          -5.00322285289921,
          -2.764620301255125,
          -3.9552166831238034,
          -2.404594194734252,
          -3.694715908035013,
          -3.6451796356676187,
          -3.4361088475898685,
          -3.54305675172791,
          -4.505568426639043,
          6.339652643385153,
          6.596478820356311,
          7.230643439329631,
          8.762837180613825,
          9.509171766069644,
          6.47770731007895,
          7.902693632315832,
          8.579718124957841,
          7.110312092356167,
          7.25284550493199,
          8.286756286064634,
          7.262382191322726,
          8.572513811306422,
          7.91302920992736,
          7.521415273449061,
          8.684797337450714,
          8.292383839988963,
          8.929755920051077,
          8.199732404822825,
          9.39650378928,
          7.9131112257378025,
          7.085484380897691,
          7.22253777127097,
          7.832422678945086,
          7.832422678945086,
          6.919424755758612,
          9.510381608200081,
          9.397955881648697,
          10.396338448643696,
          7.137788976631113,
          8.24335457039894,
          7.105829265165381,
          8.040278715977088,
          8.165189075216146,
          8.035056824750082,
          7.548355510228038,
          8.3024612493858,
          7.543955663997447,
          8.327920484139392,
          8.552591204573602,
          6.303629361026487,
          7.5471852871894995,
          7.795985814826093,
          7.191516190278454,
          8.43283340790239,
          7.204403182336952,
          7.663038490806018,
          8.732939259900023,
          9.200375450540097,
          -2.9206264821817998,
          -3.7304787512696476,
          -3.2740960879780707,
          -2.948731681801235,
          -4.8076002401624525,
          -4.031912765076345,
          -3.9504427484643374,
          -5.3649821296101114,
          -2.3080897033821284,
          -1.4046201286273998,
          -3.7678852135523306,
          -2.408013731217035,
          -4.5347261500810045,
          -3.6714349037392293,
          -3.9288501347626625,
          -3.7227795932440944,
          -4.3907881665457715,
          -3.6987505202870476,
          -3.690485304674995,
          -4.701076794320671,
          -3.9130623751040874,
          -3.320590593006923,
          -5.213855110276973,
          -3.2349896586547855,
          -3.168387868934916,
          -2.1150137767779524,
          -5.0737837608718195,
          -3.8922763628347026,
          -5.439983024760375,
          -3.2196531663057,
          -2.62220200321449,
          -3.883470843798622,
          -1.4169423456213794,
          -3.5604564672989247,
          -2.4734457988412863,
          -3.668200327994261,
          -5.527214956948454,
          -4.309877085282484,
          -6.2359641598531015,
          -1.6926835747774056,
          -4.234277017334061,
          -4.1363240295451575,
          -3.555868263272608,
          -3.66489937701719,
          -4.0808332571900525,
          -3.0271569725882417,
          -3.2272700731729,
          -0.8907822612380591,
          -2.959131259145514,
          -2.496767476041078,
          -4.685093776005298,
          -3.4475138282633147,
          -2.8271912864955646,
          -4.091055383670881,
          -3.9645340973787513,
          -5.180104386310401,
          -3.116735567718388,
          -2.7874634526149764,
          -2.309005039060781,
          -6.450219637631164,
          -2.763407052975531,
          -4.125474841432458,
          -3.6366200762128313,
          -3.6317352754336536,
          -3.0149049548128377,
          -4.00496111338489,
          -2.9215187388181403,
          -3.70775812031248,
          -3.4254806220458818,
          -4.828242330775463,
          -3.0609527503545126,
          -4.111740302705765,
          -3.52117603538253,
          -2.579829739775941,
          -5.599946287528711,
          -2.340003577353982,
          -2.8325542884924855,
          -2.6744528253120787,
          -2.6604485723144586,
          -3.9738473913547976,
          -3.2679095923858754,
          -3.5165140166185354,
          -2.03327163674473,
          -1.2456723770051048,
          -3.841100802173922
         ],
         "y": [
          -3.8143932181756233,
          -2.3127178368489556,
          -2.7490099333069673,
          -1.721944685643007,
          -3.3633879440488825,
          -3.1459913640996304,
          -2.934155007844054,
          -2.793823839953039,
          -2.730366495390031,
          -3.032058226729837,
          -3.334167434191668,
          -2.0190855798297087,
          -4.062535224423199,
          -3.089641303872397,
          -2.155525026883825,
          -3.432615379034888,
          -2.6008465109449017,
          -3.277759835088715,
          -2.1576256134128773,
          -3.6888866704117014,
          -2.844890240595887,
          -1.814421657278431,
          -3.204275749072262,
          -1.59106715686751,
          -2.7802795502183786,
          -1.0688530897404163,
          0.046972296719022644,
          -0.28527816457123634,
          1.815812820160917,
          -0.12479973768400887,
          1.2276673929723847,
          0.923167617512527,
          -1.2019926236954654,
          0.8644176937098331,
          0.10039118418572829,
          -0.3751166426369078,
          -0.5653311138440419,
          1.931647549891946,
          -1.292862828136117,
          0.33827097727791056,
          0.9810155546834693,
          -0.5284369498587397,
          1.3944718055492382,
          -0.3629098405303046,
          0.7713963339936112,
          0.6326160389232796,
          0.5712693339132329,
          -0.19530183590094463,
          -0.1564615580493096,
          -0.1564615580493096,
          0.6598037780307858,
          -1.2743635786697807,
          0.36816824861103115,
          -0.6348643749384234,
          0.6772499452755185,
          -1.430386056576992,
          0.9629815117051175,
          -0.045133215412799466,
          -0.17920854924878993,
          0.07405116413191948,
          0.05668154710964446,
          0.11477936385970172,
          0.3348393694429981,
          2.1911339190818824,
          -0.9180426530363119,
          0.18616282277109475,
          -0.0742478865315912,
          -0.6935695172281271,
          -0.1938992323961008,
          0.4970920401943697,
          -1.7302569530380336,
          -0.23553028450724994,
          -0.5492568042674479,
          0.5110363548317399,
          3.7610516733987116,
          4.444523817904463,
          0.9749477828458462,
          3.7679661472241546,
          3.6774061992118465,
          0.10967504659405375,
          4.421533159162395,
          4.651768843289805,
          3.0992823045555,
          4.725974236112228,
          3.671370876957944,
          3.040044546783244,
          1.8865264622367008,
          4.564746329895167,
          3.8680188721143374,
          3.9620031371760573,
          4.016416249389284,
          4.1613652787705195,
          4.831121779768012,
          4.107881407731597,
          3.594526839712599,
          3.1339448659274836,
          2.2255792401252306,
          4.499400295042409,
          7.186291537700193,
          4.4135897096266135,
          2.3844741912710243,
          2.475803190234565,
          3.1235716859525784,
          3.989446710586276,
          2.4330839710117047,
          2.852217733607099,
          2.1686050047200096,
          4.060350106653626,
          5.0434776247930415,
          4.5167626921716995,
          4.55344229088191,
          2.645956052517407,
          3.4489448056474634,
          2.550316962525299,
          2.953014251525451,
          3.7255242088715597,
          4.106597777483957,
          3.6709157625300137,
          5.442739916846959,
          -4.702816962157609,
          -0.8876542215441597,
          -2.1875799714306527,
          -2.2476238728539952,
          -3.7949412305383374,
          -3.6472967854049867,
          -0.15471264134039736,
          -2.7942668128459713,
          -2.4301866909042555,
          -1.864511903065092,
          -2.312157487575156,
          -2.429897819057137,
          -1.9271509164099272,
          -1.9936222916278739,
          -2.728678081743946,
          -2.8705943132770924,
          -3.200956887628152,
          -2.757717717896547,
          -1.8319884407516764,
          -1.4749822378767872,
          -2.729229628660948,
          -1.9926585887433952,
          -2.6844337262870406,
          -1.6552881201046676,
          0.5657558231543838,
          -3.6551612189845795,
          -2.7390507752659126,
          -1.6982617531587096,
          -3.074159564613227,
          -2.791343808474127,
          -2.2928856003874687,
          -3.97725925099969,
          -1.0474872479988564,
          -4.463550083431985,
          -2.5427638388914025,
          -1.2449156845226614,
          -3.3812259581578994,
          -1.9949013541784137,
          -1.6810580200497676,
          -2.932046025225986
         ]
        },
        {
         "hovertemplate": [
          "D1-1.CSV",
          "D1-2.CSV",
          "D1-3.CSV",
          "D1-4.CSV",
          "D1-5.CSV",
          "D1_-1-1.CSV",
          "D1_-1-2.CSV",
          "D1_-1-3.CSV",
          "D1_-1-4.CSV",
          "D1_-1-5.CSV",
          "D1_-2-1.CSV",
          "D1_-2-2.CSV",
          "D1_-2-3.CSV",
          "D1_-2-4.CSV",
          "D1_-2-5.CSV",
          "D2_-1-1.CSV",
          "D2_-1-2.CSV",
          "D2_-1-3.CSV",
          "D2_-1-4.CSV",
          "D2_-1-5.CSV",
          "D2_-2-1.CSV",
          "D2_-2-2.CSV",
          "D2_-2-3.CSV",
          "D2_-2-4.CSV",
          "D2_-2-5.CSV",
          "D2_-3-1.CSV",
          "D2_-3-2.CSV",
          "D2_-3-3.CSV",
          "D2_-3-4.CSV",
          "D2_-3-5.CSV",
          "D5_-3-1.CSV",
          "D5_-3-2.CSV",
          "D5_-3-3.CSV",
          "D5_-3-4.CSV",
          "D5_-3-5.CSV",
          "D9_-1-1.CSV",
          "D9_-1-2.CSV",
          "D9_-1-3.CSV",
          "D9_-1-4.CSV",
          "D9_-1-5.CSV"
         ],
         "marker": {
          "color": "green",
          "line": {
           "color": "black",
           "width": 2
          },
          "size": 10
         },
         "mode": "markers",
         "type": "scatter",
         "x": [
          -3.0271569725882417,
          -3.2272700731729,
          -0.8907822612380591,
          -2.959131259145514,
          -2.496767476041078,
          -4.685093776005298,
          -3.4475138282633147,
          -2.8271912864955646,
          -4.091055383670881,
          -3.9645340973787513,
          -5.180104386310401,
          -3.116735567718388,
          -2.7874634526149764,
          -2.309005039060781,
          -6.450219637631164,
          -2.763407052975531,
          -4.125474841432458,
          -3.6366200762128313,
          -3.6317352754336536,
          -3.0149049548128377,
          -4.00496111338489,
          -2.9215187388181403,
          -3.70775812031248,
          -3.4254806220458818,
          -4.828242330775463,
          -3.0609527503545126,
          -4.111740302705765,
          -3.52117603538253,
          -2.579829739775941,
          -5.599946287528711,
          -2.340003577353982,
          -2.8325542884924855,
          -2.6744528253120787,
          -2.6604485723144586,
          -3.9738473913547976,
          -3.2679095923858754,
          -3.5165140166185354,
          -2.0332716367447303,
          -1.2456723770051048,
          -3.8411008021739224
         ],
         "y": [
          -4.702816962157609,
          -0.8876542215441597,
          -2.1875799714306527,
          -2.2476238728539952,
          -3.7949412305383374,
          -3.6472967854049867,
          -0.15471264134039736,
          -2.7942668128459713,
          -2.4301866909042555,
          -1.864511903065092,
          -2.312157487575156,
          -2.429897819057137,
          -1.9271509164099272,
          -1.9936222916278739,
          -2.728678081743946,
          -2.8705943132770924,
          -3.200956887628152,
          -2.757717717896547,
          -1.8319884407516764,
          -1.4749822378767872,
          -2.729229628660948,
          -1.9926585887433952,
          -2.6844337262870406,
          -1.6552881201046676,
          0.5657558231543838,
          -3.6551612189845795,
          -2.7390507752659126,
          -1.6982617531587096,
          -3.074159564613227,
          -2.791343808474127,
          -2.2928856003874687,
          -3.97725925099969,
          -1.0474872479988564,
          -4.463550083431985,
          -2.5427638388914025,
          -1.2449156845226614,
          -3.3812259581578994,
          -1.9949013541784137,
          -1.6810580200497676,
          -2.9320460252259855
         ]
        }
       ],
       "layout": {
        "height": 600,
        "template": {
         "data": {
          "bar": [
           {
            "error_x": {
             "color": "#2a3f5f"
            },
            "error_y": {
             "color": "#2a3f5f"
            },
            "marker": {
             "line": {
              "color": "#E5ECF6",
              "width": 0.5
             },
             "pattern": {
              "fillmode": "overlay",
              "size": 10,
              "solidity": 0.2
             }
            },
            "type": "bar"
           }
          ],
          "barpolar": [
           {
            "marker": {
             "line": {
              "color": "#E5ECF6",
              "width": 0.5
             },
             "pattern": {
              "fillmode": "overlay",
              "size": 10,
              "solidity": 0.2
             }
            },
            "type": "barpolar"
           }
          ],
          "carpet": [
           {
            "aaxis": {
             "endlinecolor": "#2a3f5f",
             "gridcolor": "white",
             "linecolor": "white",
             "minorgridcolor": "white",
             "startlinecolor": "#2a3f5f"
            },
            "baxis": {
             "endlinecolor": "#2a3f5f",
             "gridcolor": "white",
             "linecolor": "white",
             "minorgridcolor": "white",
             "startlinecolor": "#2a3f5f"
            },
            "type": "carpet"
           }
          ],
          "choropleth": [
           {
            "colorbar": {
             "outlinewidth": 0,
             "ticks": ""
            },
            "type": "choropleth"
           }
          ],
          "contour": [
           {
            "colorbar": {
             "outlinewidth": 0,
             "ticks": ""
            },
            "colorscale": [
             [
              0,
              "#0d0887"
             ],
             [
              0.1111111111111111,
              "#46039f"
             ],
             [
              0.2222222222222222,
              "#7201a8"
             ],
             [
              0.3333333333333333,
              "#9c179e"
             ],
             [
              0.4444444444444444,
              "#bd3786"
             ],
             [
              0.5555555555555556,
              "#d8576b"
             ],
             [
              0.6666666666666666,
              "#ed7953"
             ],
             [
              0.7777777777777778,
              "#fb9f3a"
             ],
             [
              0.8888888888888888,
              "#fdca26"
             ],
             [
              1,
              "#f0f921"
             ]
            ],
            "type": "contour"
           }
          ],
          "contourcarpet": [
           {
            "colorbar": {
             "outlinewidth": 0,
             "ticks": ""
            },
            "type": "contourcarpet"
           }
          ],
          "heatmap": [
           {
            "colorbar": {
             "outlinewidth": 0,
             "ticks": ""
            },
            "colorscale": [
             [
              0,
              "#0d0887"
             ],
             [
              0.1111111111111111,
              "#46039f"
             ],
             [
              0.2222222222222222,
              "#7201a8"
             ],
             [
              0.3333333333333333,
              "#9c179e"
             ],
             [
              0.4444444444444444,
              "#bd3786"
             ],
             [
              0.5555555555555556,
              "#d8576b"
             ],
             [
              0.6666666666666666,
              "#ed7953"
             ],
             [
              0.7777777777777778,
              "#fb9f3a"
             ],
             [
              0.8888888888888888,
              "#fdca26"
             ],
             [
              1,
              "#f0f921"
             ]
            ],
            "type": "heatmap"
           }
          ],
          "heatmapgl": [
           {
            "colorbar": {
             "outlinewidth": 0,
             "ticks": ""
            },
            "colorscale": [
             [
              0,
              "#0d0887"
             ],
             [
              0.1111111111111111,
              "#46039f"
             ],
             [
              0.2222222222222222,
              "#7201a8"
             ],
             [
              0.3333333333333333,
              "#9c179e"
             ],
             [
              0.4444444444444444,
              "#bd3786"
             ],
             [
              0.5555555555555556,
              "#d8576b"
             ],
             [
              0.6666666666666666,
              "#ed7953"
             ],
             [
              0.7777777777777778,
              "#fb9f3a"
             ],
             [
              0.8888888888888888,
              "#fdca26"
             ],
             [
              1,
              "#f0f921"
             ]
            ],
            "type": "heatmapgl"
           }
          ],
          "histogram": [
           {
            "marker": {
             "pattern": {
              "fillmode": "overlay",
              "size": 10,
              "solidity": 0.2
             }
            },
            "type": "histogram"
           }
          ],
          "histogram2d": [
           {
            "colorbar": {
             "outlinewidth": 0,
             "ticks": ""
            },
            "colorscale": [
             [
              0,
              "#0d0887"
             ],
             [
              0.1111111111111111,
              "#46039f"
             ],
             [
              0.2222222222222222,
              "#7201a8"
             ],
             [
              0.3333333333333333,
              "#9c179e"
             ],
             [
              0.4444444444444444,
              "#bd3786"
             ],
             [
              0.5555555555555556,
              "#d8576b"
             ],
             [
              0.6666666666666666,
              "#ed7953"
             ],
             [
              0.7777777777777778,
              "#fb9f3a"
             ],
             [
              0.8888888888888888,
              "#fdca26"
             ],
             [
              1,
              "#f0f921"
             ]
            ],
            "type": "histogram2d"
           }
          ],
          "histogram2dcontour": [
           {
            "colorbar": {
             "outlinewidth": 0,
             "ticks": ""
            },
            "colorscale": [
             [
              0,
              "#0d0887"
             ],
             [
              0.1111111111111111,
              "#46039f"
             ],
             [
              0.2222222222222222,
              "#7201a8"
             ],
             [
              0.3333333333333333,
              "#9c179e"
             ],
             [
              0.4444444444444444,
              "#bd3786"
             ],
             [
              0.5555555555555556,
              "#d8576b"
             ],
             [
              0.6666666666666666,
              "#ed7953"
             ],
             [
              0.7777777777777778,
              "#fb9f3a"
             ],
             [
              0.8888888888888888,
              "#fdca26"
             ],
             [
              1,
              "#f0f921"
             ]
            ],
            "type": "histogram2dcontour"
           }
          ],
          "mesh3d": [
           {
            "colorbar": {
             "outlinewidth": 0,
             "ticks": ""
            },
            "type": "mesh3d"
           }
          ],
          "parcoords": [
           {
            "line": {
             "colorbar": {
              "outlinewidth": 0,
              "ticks": ""
             }
            },
            "type": "parcoords"
           }
          ],
          "pie": [
           {
            "automargin": true,
            "type": "pie"
           }
          ],
          "scatter": [
           {
            "fillpattern": {
             "fillmode": "overlay",
             "size": 10,
             "solidity": 0.2
            },
            "type": "scatter"
           }
          ],
          "scatter3d": [
           {
            "line": {
             "colorbar": {
              "outlinewidth": 0,
              "ticks": ""
             }
            },
            "marker": {
             "colorbar": {
              "outlinewidth": 0,
              "ticks": ""
             }
            },
            "type": "scatter3d"
           }
          ],
          "scattercarpet": [
           {
            "marker": {
             "colorbar": {
              "outlinewidth": 0,
              "ticks": ""
             }
            },
            "type": "scattercarpet"
           }
          ],
          "scattergeo": [
           {
            "marker": {
             "colorbar": {
              "outlinewidth": 0,
              "ticks": ""
             }
            },
            "type": "scattergeo"
           }
          ],
          "scattergl": [
           {
            "marker": {
             "colorbar": {
              "outlinewidth": 0,
              "ticks": ""
             }
            },
            "type": "scattergl"
           }
          ],
          "scattermapbox": [
           {
            "marker": {
             "colorbar": {
              "outlinewidth": 0,
              "ticks": ""
             }
            },
            "type": "scattermapbox"
           }
          ],
          "scatterpolar": [
           {
            "marker": {
             "colorbar": {
              "outlinewidth": 0,
              "ticks": ""
             }
            },
            "type": "scatterpolar"
           }
          ],
          "scatterpolargl": [
           {
            "marker": {
             "colorbar": {
              "outlinewidth": 0,
              "ticks": ""
             }
            },
            "type": "scatterpolargl"
           }
          ],
          "scatterternary": [
           {
            "marker": {
             "colorbar": {
              "outlinewidth": 0,
              "ticks": ""
             }
            },
            "type": "scatterternary"
           }
          ],
          "surface": [
           {
            "colorbar": {
             "outlinewidth": 0,
             "ticks": ""
            },
            "colorscale": [
             [
              0,
              "#0d0887"
             ],
             [
              0.1111111111111111,
              "#46039f"
             ],
             [
              0.2222222222222222,
              "#7201a8"
             ],
             [
              0.3333333333333333,
              "#9c179e"
             ],
             [
              0.4444444444444444,
              "#bd3786"
             ],
             [
              0.5555555555555556,
              "#d8576b"
             ],
             [
              0.6666666666666666,
              "#ed7953"
             ],
             [
              0.7777777777777778,
              "#fb9f3a"
             ],
             [
              0.8888888888888888,
              "#fdca26"
             ],
             [
              1,
              "#f0f921"
             ]
            ],
            "type": "surface"
           }
          ],
          "table": [
           {
            "cells": {
             "fill": {
              "color": "#EBF0F8"
             },
             "line": {
              "color": "white"
             }
            },
            "header": {
             "fill": {
              "color": "#C8D4E3"
             },
             "line": {
              "color": "white"
             }
            },
            "type": "table"
           }
          ]
         },
         "layout": {
          "annotationdefaults": {
           "arrowcolor": "#2a3f5f",
           "arrowhead": 0,
           "arrowwidth": 1
          },
          "autotypenumbers": "strict",
          "coloraxis": {
           "colorbar": {
            "outlinewidth": 0,
            "ticks": ""
           }
          },
          "colorscale": {
           "diverging": [
            [
             0,
             "#8e0152"
            ],
            [
             0.1,
             "#c51b7d"
            ],
            [
             0.2,
             "#de77ae"
            ],
            [
             0.3,
             "#f1b6da"
            ],
            [
             0.4,
             "#fde0ef"
            ],
            [
             0.5,
             "#f7f7f7"
            ],
            [
             0.6,
             "#e6f5d0"
            ],
            [
             0.7,
             "#b8e186"
            ],
            [
             0.8,
             "#7fbc41"
            ],
            [
             0.9,
             "#4d9221"
            ],
            [
             1,
             "#276419"
            ]
           ],
           "sequential": [
            [
             0,
             "#0d0887"
            ],
            [
             0.1111111111111111,
             "#46039f"
            ],
            [
             0.2222222222222222,
             "#7201a8"
            ],
            [
             0.3333333333333333,
             "#9c179e"
            ],
            [
             0.4444444444444444,
             "#bd3786"
            ],
            [
             0.5555555555555556,
             "#d8576b"
            ],
            [
             0.6666666666666666,
             "#ed7953"
            ],
            [
             0.7777777777777778,
             "#fb9f3a"
            ],
            [
             0.8888888888888888,
             "#fdca26"
            ],
            [
             1,
             "#f0f921"
            ]
           ],
           "sequentialminus": [
            [
             0,
             "#0d0887"
            ],
            [
             0.1111111111111111,
             "#46039f"
            ],
            [
             0.2222222222222222,
             "#7201a8"
            ],
            [
             0.3333333333333333,
             "#9c179e"
            ],
            [
             0.4444444444444444,
             "#bd3786"
            ],
            [
             0.5555555555555556,
             "#d8576b"
            ],
            [
             0.6666666666666666,
             "#ed7953"
            ],
            [
             0.7777777777777778,
             "#fb9f3a"
            ],
            [
             0.8888888888888888,
             "#fdca26"
            ],
            [
             1,
             "#f0f921"
            ]
           ]
          },
          "colorway": [
           "#636efa",
           "#EF553B",
           "#00cc96",
           "#ab63fa",
           "#FFA15A",
           "#19d3f3",
           "#FF6692",
           "#B6E880",
           "#FF97FF",
           "#FECB52"
          ],
          "font": {
           "color": "#2a3f5f"
          },
          "geo": {
           "bgcolor": "white",
           "lakecolor": "white",
           "landcolor": "#E5ECF6",
           "showlakes": true,
           "showland": true,
           "subunitcolor": "white"
          },
          "hoverlabel": {
           "align": "left"
          },
          "hovermode": "closest",
          "mapbox": {
           "style": "light"
          },
          "paper_bgcolor": "white",
          "plot_bgcolor": "#E5ECF6",
          "polar": {
           "angularaxis": {
            "gridcolor": "white",
            "linecolor": "white",
            "ticks": ""
           },
           "bgcolor": "#E5ECF6",
           "radialaxis": {
            "gridcolor": "white",
            "linecolor": "white",
            "ticks": ""
           }
          },
          "scene": {
           "xaxis": {
            "backgroundcolor": "#E5ECF6",
            "gridcolor": "white",
            "gridwidth": 2,
            "linecolor": "white",
            "showbackground": true,
            "ticks": "",
            "zerolinecolor": "white"
           },
           "yaxis": {
            "backgroundcolor": "#E5ECF6",
            "gridcolor": "white",
            "gridwidth": 2,
            "linecolor": "white",
            "showbackground": true,
            "ticks": "",
            "zerolinecolor": "white"
           },
           "zaxis": {
            "backgroundcolor": "#E5ECF6",
            "gridcolor": "white",
            "gridwidth": 2,
            "linecolor": "white",
            "showbackground": true,
            "ticks": "",
            "zerolinecolor": "white"
           }
          },
          "shapedefaults": {
           "line": {
            "color": "#2a3f5f"
           }
          },
          "ternary": {
           "aaxis": {
            "gridcolor": "white",
            "linecolor": "white",
            "ticks": ""
           },
           "baxis": {
            "gridcolor": "white",
            "linecolor": "white",
            "ticks": ""
           },
           "bgcolor": "#E5ECF6",
           "caxis": {
            "gridcolor": "white",
            "linecolor": "white",
            "ticks": ""
           }
          },
          "title": {
           "x": 0.05
          },
          "xaxis": {
           "automargin": true,
           "gridcolor": "white",
           "linecolor": "white",
           "ticks": "",
           "title": {
            "standoff": 15
           },
           "zerolinecolor": "white",
           "zerolinewidth": 2
          },
          "yaxis": {
           "automargin": true,
           "gridcolor": "white",
           "linecolor": "white",
           "ticks": "",
           "title": {
            "standoff": 15
           },
           "zerolinecolor": "white",
           "zerolinewidth": 2
          }
         }
        },
        "title": {
         "text": "2D Scatter Plot Example"
        },
        "width": 600,
        "xaxis": {
         "title": {
          "text": "X Axis"
         }
        },
        "yaxis": {
         "title": {
          "text": "Y Axis"
         }
        }
       }
      }
     },
     "metadata": {},
     "output_type": "display_data"
    }
   ],
   "source": [
    "import plotly.graph_objects as go\n",
    "\n",
    "\n",
    "# Create a scatter plot\n",
    "fig = go.Figure()\n",
    "hover_text1 = data[\"File name\"].values\n",
    "hover_text2 = honhop_test[\"File name\"].values\n",
    "color_map = {\n",
    "    0: 'orange',\n",
    "    1: 'blue',\n",
    "    2: 'red'\n",
    "}\n",
    "# Add scatter trace\n",
    "fig.add_trace(go.Scatter(\n",
    "    x=X_lda[:, 0],\n",
    "    y=X_lda[:, 1],\n",
    "    mode='markers',  # Display markers and text\n",
    "    marker=dict(\n",
    "        size=10, \n",
    "        color = y,\n",
    "        colorscale='Viridis', \n",
    "        colorbar=dict(title='Type', tickvals = [0,1,2], ticktext = ['Hỗn hợp', 'Rễ', 'Thân']),  \n",
    "        showscale=True,\n",
    "        line=dict(\n",
    "            width=2,  # Width of the border\n",
    "            color='black'  # Border color\n",
    "        )\n",
    "        ),\n",
    "    hovertemplate = hover_text1,\n",
    "\n",
    "))\n",
    "fig.add_trace(go.Scatter(\n",
    "    x=X_test_lda[:, 0],\n",
    "    y=X_test_lda[:, 1],\n",
    "    mode='markers',  # Display markers and text\n",
    "    marker=dict(\n",
    "        size=10, \n",
    "        color = 'green',\n",
    "        line=dict(\n",
    "            width=2,  # Width of the border\n",
    "            color='black'  # Border color\n",
    "        )\n",
    "        ),\n",
    "    hovertemplate = hover_text2,\n",
    "\n",
    "))\n",
    "\n",
    "# Update layout\n",
    "fig.update_layout(\n",
    "    title='2D Scatter Plot Example',\n",
    "    xaxis_title='X Axis',\n",
    "    yaxis_title='Y Axis',\n",
    "    width = 600,\n",
    "    height = 600,\n",
    ")\n",
    "\n",
    "# Show the plot\n",
    "fig.show()"
   ]
  }
 ],
 "metadata": {
  "kernelspec": {
   "display_name": "Python 3",
   "language": "python",
   "name": "python3"
  },
  "language_info": {
   "codemirror_mode": {
    "name": "ipython",
    "version": 3
   },
   "file_extension": ".py",
   "mimetype": "text/x-python",
   "name": "python",
   "nbconvert_exporter": "python",
   "pygments_lexer": "ipython3",
   "version": "3.11.6"
  }
 },
 "nbformat": 4,
 "nbformat_minor": 2
}
