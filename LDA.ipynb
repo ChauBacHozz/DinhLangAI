{
 "cells": [
  {
   "cell_type": "code",
   "execution_count": 195,
   "metadata": {},
   "outputs": [],
   "source": [
    "import os\n",
    "import pandas as pd\n",
    "import numpy as np\n",
    "import matplotlib.pyplot as plt\n",
    "from scipy.signal import savgol_filter\n",
    "import matplotlib.lines as mlines"
   ]
  },
  {
   "cell_type": "markdown",
   "metadata": {},
   "source": [
    "### Hỗn hợp"
   ]
  },
  {
   "cell_type": "code",
   "execution_count": 196,
   "metadata": {},
   "outputs": [],
   "source": [
    "honhop_folder = \"data2/Honhop\"\n",
    "data_frames = []\n",
    "file_names = []\n",
    "for index, file_name in enumerate(os.listdir(honhop_folder)):\n",
    "    if file_name.endswith(\".CSV\"):  # Check if the file is a CSV\n",
    "        file_path = os.path.join(honhop_folder, file_name)\n",
    "        df = pd.read_csv(file_path, header=None).values\n",
    "        if index == 0:\n",
    "            data_frames.append(df[:, 0].reshape(1, -1))\n",
    "        data_frames.append(df[:, 1].reshape(1, -1))\n",
    "        file_names.append(file_name)\n",
    "honhop = pd.DataFrame(np.concatenate(data_frames[1:]), columns=list(data_frames[0]))\n",
    "honhop.columns = ['_'.join(map(str, col)) for col in honhop.columns]\n",
    "honhop[\"File name\"] = file_names\n",
    "honhop[\"Type\"] = honhop[\"File name\"].str.split(\"-\", expand=True)[0].str[0]"
   ]
  },
  {
   "cell_type": "markdown",
   "metadata": {},
   "source": [
    "### Rễ"
   ]
  },
  {
   "cell_type": "code",
   "execution_count": 197,
   "metadata": {},
   "outputs": [],
   "source": [
    "re_folder = \"data2/Re\"\n",
    "data_frames = []\n",
    "file_names = []\n",
    "for index, file_name in enumerate(os.listdir(re_folder)):\n",
    "    if file_name.endswith(\".CSV\"):  # Check if the file is a CSV\n",
    "        file_path = os.path.join(re_folder, file_name)\n",
    "        df = pd.read_csv(file_path, header=None).values\n",
    "        if index == 0:\n",
    "            data_frames.append(df[:, 0].reshape(1, -1))\n",
    "        data_frames.append(df[:, 1].reshape(1, -1))\n",
    "        file_names.append(file_name)\n",
    "re = pd.DataFrame(np.concatenate(data_frames[1:]), columns=list(data_frames[0]))\n",
    "re.columns = ['_'.join(map(str, col)) for col in re.columns]\n",
    "re[\"File name\"] = file_names\n",
    "re[\"Type\"] = re[\"File name\"].str.split(\"-\", expand=True)[0].str[0]"
   ]
  },
  {
   "cell_type": "markdown",
   "metadata": {},
   "source": [
    "### Thân"
   ]
  },
  {
   "cell_type": "code",
   "execution_count": 198,
   "metadata": {},
   "outputs": [],
   "source": [
    "than_folder = \"data2/Than\"\n",
    "data_frames = []\n",
    "file_names = []\n",
    "for index, file_name in enumerate(os.listdir(than_folder)):\n",
    "    if file_name.endswith(\".CSV\"):  # Check if the file is a CSV\n",
    "        file_path = os.path.join(than_folder, file_name)\n",
    "        df = pd.read_csv(file_path, header=None).values\n",
    "        if index == 0:\n",
    "            data_frames.append(df[:, 0].reshape(1, -1))\n",
    "        data_frames.append(df[:, 1].reshape(1, -1))\n",
    "        file_names.append(file_name)\n",
    "than = pd.DataFrame(np.concatenate(data_frames[1:]), columns=list(data_frames[0]))\n",
    "than.columns = ['_'.join(map(str, col)) for col in than.columns]\n",
    "than[\"File name\"] = file_names\n",
    "than[\"Type\"] = than[\"File name\"].str.split(\"-\", expand=True)[0].str[0]"
   ]
  },
  {
   "cell_type": "code",
   "execution_count": 199,
   "metadata": {},
   "outputs": [],
   "source": [
    "honhop_folder = \"data2/testHonhop\"\n",
    "data_frames = []\n",
    "file_names = []\n",
    "for index, file_name in enumerate(os.listdir(honhop_folder)):\n",
    "    if file_name.endswith(\".CSV\"):  # Check if the file is a CSV\n",
    "        file_path = os.path.join(honhop_folder, file_name)\n",
    "        df = pd.read_csv(file_path, header=None).values\n",
    "        if index == 0:\n",
    "            data_frames.append(df[:, 0].reshape(1, -1))\n",
    "        data_frames.append(df[:, 1].reshape(1, -1))\n",
    "        file_names.append(file_name)\n",
    "honhop_test = pd.DataFrame(np.concatenate(data_frames[1:]), columns=list(data_frames[0]))\n",
    "honhop_test.columns = ['_'.join(map(str, col)) for col in honhop_test.columns]\n",
    "honhop_test[\"File name\"] = file_names\n",
    "honhop_test[\"Type\"] = honhop_test[\"File name\"].str.split(\"-\", expand=True)[0].str[0]"
   ]
  },
  {
   "cell_type": "code",
   "execution_count": 200,
   "metadata": {},
   "outputs": [],
   "source": [
    "data = pd.concat([honhop, re, than, honhop_test], axis=0)"
   ]
  },
  {
   "cell_type": "code",
   "execution_count": 201,
   "metadata": {},
   "outputs": [],
   "source": [
    "# data[\"Type\"].loc[data[\"Type\"] == 'D'] = \"R\""
   ]
  },
  {
   "cell_type": "code",
   "execution_count": 202,
   "metadata": {},
   "outputs": [],
   "source": [
    "from sklearn.preprocessing import LabelEncoder\n",
    "le = LabelEncoder()\n",
    "y = le.fit_transform(data[\"Type\"])"
   ]
  },
  {
   "cell_type": "code",
   "execution_count": 203,
   "metadata": {},
   "outputs": [],
   "source": [
    "def snv(input_data):\n",
    "  \n",
    "    # Define a new array and populate it with the corrected data  \n",
    "    output_data = np.zeros_like(input_data)\n",
    "    for i in range(input_data.shape[0]):\n",
    " \n",
    "        # Apply correction\n",
    "        output_data[i,:] = (input_data[i,:] - np.mean(input_data[i,:])) / np.std(input_data[i,:])\n",
    " \n",
    "    return output_data"
   ]
  },
  {
   "cell_type": "code",
   "execution_count": 204,
   "metadata": {},
   "outputs": [],
   "source": [
    "X_snv = snv(data.iloc[:, :-2].values)\n",
    "X_deriv = savgol_filter(X_snv, window_length = 25,  polyorder=5, deriv = 1)"
   ]
  },
  {
   "cell_type": "code",
   "execution_count": 205,
   "metadata": {},
   "outputs": [],
   "source": [
    "from sklearn.decomposition import PCA\n",
    "from sklearn.discriminant_analysis import LinearDiscriminantAnalysis\n",
    "from sklearn.preprocessing import StandardScaler, MinMaxScaler\n",
    "\n",
    "scaler = StandardScaler()\n",
    "scaled_data = scaler.fit_transform(X_deriv)\n",
    "\n",
    "lda = LinearDiscriminantAnalysis()\n",
    "X_lda = lda.fit_transform(scaled_data, y)"
   ]
  },
  {
   "cell_type": "code",
   "execution_count": 206,
   "metadata": {},
   "outputs": [
    {
     "data": {
      "text/plain": [
       "array(['D', 'R', 'T'], dtype=object)"
      ]
     },
     "execution_count": 206,
     "metadata": {},
     "output_type": "execute_result"
    }
   ],
   "source": [
    "le.classes_"
   ]
  },
  {
   "cell_type": "code",
   "execution_count": 207,
   "metadata": {},
   "outputs": [
    {
     "data": {
      "application/vnd.plotly.v1+json": {
       "config": {
        "plotlyServerURL": "https://plot.ly"
       },
       "data": [
        {
         "hovertemplate": [
          "D10_-1-1.CSV",
          "D10_-1-2.CSV",
          "D10_-1-3.CSV",
          "D10_-1-4.CSV",
          "D10_-1-5.CSV",
          "D10_-2-1.CSV",
          "D10_-2-2.CSV",
          "D10_-2-3.CSV",
          "D10_-2-4.CSV",
          "D10_-2-5.CSV",
          "D3-1-1.CSV",
          "D3-1-2.CSV",
          "D3-1-3.CSV",
          "D3-1-4.CSV",
          "D3-1-5.CSV",
          "D5_-1-1.CSV",
          "D5_-1-2.CSV",
          "D5_-1-3.CSV",
          "D5_-1-4.CSV",
          "D5_-1-5.CSV",
          "D5_-2-1.CSV",
          "D5_-2-2.CSV",
          "D5_-2-3.CSV",
          "D5_-2-4.CSV",
          "D5_-2-5.CSV",
          "R-DLS1-1.CSV",
          "R-DLS1-2.CSV",
          "R-DLS1-3.CSV",
          "R-DLS1-4.CSV",
          "R-DLS1-5.CSV",
          "R-PF1-1.CSV",
          "R-PF1-2.CSV",
          "R-PF1-3.CSV",
          "R-PF1-4.CSV",
          "R-PF1-5.CSV",
          "R1-DLS1-1.CSV",
          "R1-DLS1-2.CSV",
          "R1-DLS1-3.CSV",
          "R1-DLS1-4.CSV",
          "R1-DLS5-1.CSV",
          "R1-DLS5-2.CSV",
          "R1-DLS5-3.CSV",
          "R1-DLS5-4.CSV",
          "R1-DLS5-5.CSV",
          "R10-1.CSV",
          "R10-2.CSV",
          "R10-3.CSV",
          "R10-4.CSV",
          "R10-5.CSV",
          "R16-1.CSV",
          "R16-2.CSV",
          "R16-3.CSV",
          "R16-4.CSV",
          "R16-5.CSV",
          "R2-DLS1-1.CSV",
          "R2-DLS1-2.CSV",
          "R2-DLS1-3.CSV",
          "R2-DLS1-4.CSV",
          "R2-DLS1-5.CSV",
          "R3-1.CSV",
          "R3-2.CSV",
          "R3-3.CSV",
          "R3-4.CSV",
          "R3-5.CSV",
          "R3_New-1.CSV",
          "R3_New-2.CSV",
          "R3_New-3.CSV",
          "R3_New-4.CSV",
          "R3_New-5.CSV",
          "R4-1.CSV",
          "R4-2.CSV",
          "R4-3.CSV",
          "R4-4.CSV",
          "R4-5.CSV",
          "T1-1.CSV",
          "T1-2.CSV",
          "T1-3.CSV",
          "T1-4.CSV",
          "T1-5.CSV",
          "T10-1.CSV",
          "T10-2.CSV",
          "T10-3.CSV",
          "T10-4.CSV",
          "T10-5.CSV",
          "T2-1.CSV",
          "T2-2.CSV",
          "T2-3.CSV",
          "T2-4.CSV",
          "T2-5.CSV",
          "T4-1.CSV",
          "T4-2.CSV",
          "T4-3.CSV",
          "T4-4.CSV",
          "T4-5.CSV",
          "T5-1.CSV",
          "T5-2.CSV",
          "T5-3.CSV",
          "T5-4.CSV",
          "T5-5.CSV",
          "T6-1.CSV",
          "T6-2.CSV",
          "T6-3.CSV",
          "T6-4.CSV",
          "T6-5.CSV",
          "T7-1.CSV",
          "T7-2.CSV",
          "T7-3.CSV",
          "T7-4.CSV",
          "T7-5.CSV",
          "T9-1.CSV",
          "T9-2.CSV",
          "T9-3.CSV",
          "T9-4.CSV",
          "T9-5.CSV",
          "TC-DLS5-1.CSV",
          "TC-DLS5-2.CSV",
          "TC-DLS5-3.CSV",
          "TC-DLS5-4.CSV",
          "TC-DLS5-5.CSV",
          "D1-1.CSV",
          "D1-2.CSV",
          "D1-3.CSV",
          "D1-4.CSV",
          "D1-5.CSV",
          "D1_-1-1.CSV",
          "D1_-1-2.CSV",
          "D1_-1-3.CSV",
          "D1_-1-4.CSV",
          "D1_-1-5.CSV",
          "D1_-2-1.CSV",
          "D1_-2-2.CSV",
          "D1_-2-3.CSV",
          "D1_-2-4.CSV",
          "D1_-2-5.CSV",
          "D2_-1-1.CSV",
          "D2_-1-2.CSV",
          "D2_-1-3.CSV",
          "D2_-1-4.CSV",
          "D2_-1-5.CSV",
          "D2_-2-1.CSV",
          "D2_-2-2.CSV",
          "D2_-2-3.CSV",
          "D2_-2-4.CSV",
          "D2_-2-5.CSV",
          "D2_-3-1.CSV",
          "D2_-3-2.CSV",
          "D2_-3-3.CSV",
          "D2_-3-4.CSV",
          "D2_-3-5.CSV",
          "D5_-3-1.CSV",
          "D5_-3-2.CSV",
          "D5_-3-3.CSV",
          "D5_-3-4.CSV",
          "D5_-3-5.CSV",
          "D9_-1-1.CSV",
          "D9_-1-2.CSV",
          "D9_-1-3.CSV",
          "D9_-1-4.CSV",
          "D9_-1-5.CSV"
         ],
         "marker": {
          "color": [
           0,
           0,
           0,
           0,
           0,
           0,
           0,
           0,
           0,
           0,
           0,
           0,
           0,
           0,
           0,
           0,
           0,
           0,
           0,
           0,
           0,
           0,
           0,
           0,
           0,
           1,
           1,
           1,
           1,
           1,
           1,
           1,
           1,
           1,
           1,
           1,
           1,
           1,
           1,
           1,
           1,
           1,
           1,
           1,
           1,
           1,
           1,
           1,
           1,
           1,
           1,
           1,
           1,
           1,
           1,
           1,
           1,
           1,
           1,
           1,
           1,
           1,
           1,
           1,
           1,
           1,
           1,
           1,
           1,
           1,
           1,
           1,
           1,
           1,
           2,
           2,
           2,
           2,
           2,
           2,
           2,
           2,
           2,
           2,
           2,
           2,
           2,
           2,
           2,
           2,
           2,
           2,
           2,
           2,
           2,
           2,
           2,
           2,
           2,
           2,
           2,
           2,
           2,
           2,
           2,
           2,
           2,
           2,
           2,
           2,
           2,
           2,
           2,
           2,
           2,
           2,
           2,
           2,
           2,
           0,
           0,
           0,
           0,
           0,
           0,
           0,
           0,
           0,
           0,
           0,
           0,
           0,
           0,
           0,
           0,
           0,
           0,
           0,
           0,
           0,
           0,
           0,
           0,
           0,
           0,
           0,
           0,
           0,
           0,
           0,
           0,
           0,
           0,
           0,
           0,
           0,
           0,
           0,
           0
          ],
          "colorbar": {
           "ticktext": [
            "Hỗn hợp",
            "Rễ",
            "Thân"
           ],
           "tickvals": [
            0,
            1,
            2
           ],
           "title": {
            "text": "Type"
           }
          },
          "colorscale": [
           [
            0,
            "#440154"
           ],
           [
            0.1111111111111111,
            "#482878"
           ],
           [
            0.2222222222222222,
            "#3e4989"
           ],
           [
            0.3333333333333333,
            "#31688e"
           ],
           [
            0.4444444444444444,
            "#26828e"
           ],
           [
            0.5555555555555556,
            "#1f9e89"
           ],
           [
            0.6666666666666666,
            "#35b779"
           ],
           [
            0.7777777777777778,
            "#6ece58"
           ],
           [
            0.8888888888888888,
            "#b5de2b"
           ],
           [
            1,
            "#fde725"
           ]
          ],
          "line": {
           "color": "black",
           "width": 2
          },
          "showscale": true,
          "size": 10
         },
         "mode": "markers",
         "type": "scatter",
         "x": [
          -4.453331538806593,
          -5.734142724541405,
          -5.328819235719147,
          -4.449232058702665,
          -6.094579528719153,
          -4.780033517565693,
          -5.357564498787054,
          -3.5320970168168335,
          -7.068765647200866,
          -4.668382723963668,
          -4.518773648770714,
          -6.010910021450531,
          -5.2267372342631475,
          -3.6690368205964985,
          -5.079128432042736,
          -5.494740240447995,
          -5.478145011578192,
          -4.647472904816178,
          -5.251475720498448,
          -5.312234370621402,
          -6.174320760228365,
          -5.66758682206669,
          -5.330230777786914,
          -5.403236935711691,
          -5.401680284033219,
          12.150122763622008,
          11.158223687962472,
          10.39986382289866,
          9.85473446692955,
          12.368738098886956,
          9.959610057880568,
          9.860796313942222,
          12.08156870779738,
          10.446640875707024,
          9.576563843877043,
          11.040565360851796,
          11.49309793199388,
          10.83434919662088,
          11.50222495939386,
          11.005395393672217,
          11.83813387522666,
          11.25790945522247,
          12.356344776480702,
          11.722251487724545,
          11.786013749240318,
          10.79406461053089,
          11.110274567033922,
          11.078425576905463,
          11.034427603762039,
          11.034427603762039,
          11.3346031325644,
          10.39556605280721,
          13.853322211497602,
          13.758824607966831,
          10.178843254453355,
          11.32683545652328,
          10.473544303776986,
          11.270585243351551,
          10.083593172096808,
          10.88845241782959,
          11.748210536571829,
          11.10835622779551,
          10.60170685392023,
          9.820481798657386,
          11.324889717813761,
          11.04196071161149,
          10.751290738160135,
          11.569827064946136,
          10.890086620926681,
          12.406752844184847,
          11.358310003853344,
          11.341135008142425,
          10.562858261257922,
          12.1967603460682,
          -4.3883947784800545,
          -4.582879709726569,
          -3.9426470837513676,
          -4.25373567705237,
          -5.990603985047244,
          -6.320477008083139,
          -6.301525795530596,
          -4.111885673988187,
          -4.174469816463857,
          -3.1471344980958307,
          -4.678942434332793,
          -3.6744957750779474,
          -6.025236868934893,
          -4.689804790727573,
          -4.253530479314873,
          -4.670155585416002,
          -5.45770488989489,
          -4.794068901319923,
          -4.737522766337603,
          -4.410152938716534,
          -6.047599968180744,
          -4.0722979333538,
          -6.201324795532899,
          -4.5262094348249295,
          -3.1077852886110087,
          -3.4057280665981287,
          -6.4976213132978105,
          -4.872213904621132,
          -5.388157221690253,
          -4.637040544913418,
          -4.653343689104563,
          -4.8373532342404415,
          -3.2367031709245686,
          -3.752882148571474,
          -3.755150751955924,
          -5.154664404026615,
          -4.430137915764645,
          -5.185647430225288,
          -6.365998836335372,
          -2.7354901611097064,
          -4.472793111574434,
          -5.712668648255338,
          -4.977532873180039,
          -4.427570497771131,
          -4.915208230591744,
          -4.377494822111071,
          -5.091858373890753,
          -0.46646822958880924,
          -4.469135575523028,
          -5.954435213327198,
          -7.221980825954902,
          -3.7754085406897353,
          -6.889935596918169,
          -3.0815803866328806,
          -5.687134746488448,
          -5.2773645746137205,
          -5.493766226744094,
          -5.181318113407771,
          -4.24682309989307,
          -6.392341101426335,
          -4.9220024677480225,
          -5.655283271527849,
          -6.090699197768412,
          -5.4720367090296405,
          -4.669981746585611,
          -6.838448932627886,
          -4.412365415399821,
          -5.782456742482981,
          -6.029093936525003,
          -5.528298393588122,
          -5.596057312619251,
          -5.673090527415754,
          -5.085610616632151,
          -4.693040055186218,
          -8.603518438779137,
          -4.59836073937871,
          -3.764285918077083,
          -3.8607230051026926,
          -5.582791236006418,
          -5.301917231421928,
          -4.512203558738234,
          -4.894507419050452,
          -4.888373160857627,
          -5.577580526266818,
          -4.284641881393761
         ],
         "y": [
          -5.152059531874248,
          -1.6300161888054263,
          -3.0905020201340525,
          -2.3554343016707264,
          -3.408704374712691,
          -3.1289906089506063,
          -3.572345609905767,
          -3.1467557766943584,
          -2.7277295723182613,
          -3.1843598329914156,
          -3.8220024590499593,
          -2.9846729294856535,
          -3.961226175564911,
          -3.3730620783610576,
          -2.8501244617417294,
          -3.7170561202740275,
          -3.1842327612476184,
          -3.152564792551822,
          -2.5018428983178262,
          -4.218257594053109,
          -2.8857786710766606,
          -3.227006724431445,
          -2.8316463100879474,
          -2.102179876182887,
          -3.6315716760521166,
          -1.6623591596686849,
          0.1603060840435162,
          -0.4528200686393635,
          2.557694024284738,
          -0.41067864914720154,
          0.41267508566685074,
          0.5105527783517051,
          -1.5281024464903696,
          1.1859091261622483,
          0.10694735379883191,
          -1.4065206734674252,
          -0.36841354056773457,
          0.7723625759977816,
          -0.6931065575855917,
          -0.7945491677430718,
          0.4663669880313728,
          0.35277306561169347,
          0.24711753136470627,
          -0.1314872436936465,
          0.43754681187640004,
          0.5033449328142529,
          0.07236182374628797,
          -0.8211806927465782,
          -0.15650075670963126,
          -0.15650075670963126,
          0.09354492194000064,
          -1.3177221974427458,
          0.09465992867833184,
          -0.8745628154132328,
          1.1357752265341974,
          -2.136641601206761,
          0.40586354561008275,
          -0.17809147813158677,
          -0.8995243671932118,
          0.23440667373441038,
          0.3447081672961081,
          -0.19549029569759502,
          0.13475431991120268,
          1.6793489018058219,
          -1.1633736443193041,
          -0.5220375942060669,
          0.20615225300556694,
          -0.8662248777232145,
          0.04795161052908037,
          -0.401643986696415,
          -0.3235637107081215,
          0.19068204309272563,
          -0.1728828589187129,
          -0.40378058996234956,
          4.711153373643332,
          5.164719253244353,
          1.3063232317965394,
          4.866526346681239,
          4.726815341975502,
          2.105871399656748,
          5.941346532370819,
          4.404774608320749,
          3.220536638187969,
          5.635751210488072,
          4.794658836208594,
          4.2541116801068055,
          3.7969031459447615,
          5.596000078288574,
          5.059902520559829,
          4.587462616195452,
          4.871156988173303,
          4.442826731999349,
          5.314297920042192,
          5.133907514474738,
          4.090627526424475,
          5.417851519542556,
          2.294528784835232,
          4.972189511648573,
          6.945456813040512,
          5.017655255372904,
          3.8971427528189517,
          3.8700028169273533,
          4.520429973323282,
          5.486301815693544,
          2.787387078030688,
          2.625446087479453,
          6.434545685866782,
          4.406311179612674,
          6.081014878341915,
          5.006298030534165,
          4.081306598962043,
          3.13264983612447,
          2.4054342808149407,
          3.8845892364287553,
          4.58939755644641,
          5.198919606410511,
          5.143189262593019,
          4.518745463041446,
          5.531215175797059,
          -4.4904753416124334,
          -2.5681720176137866,
          -1.6214109696266727,
          -2.625135829558636,
          -3.9830833946006603,
          -4.3033853836550895,
          -1.502351826935458,
          -2.998833395274601,
          -2.6897213260466684,
          -3.027067187263478,
          -4.50153876729672,
          -2.4785624453018564,
          -1.9073641513644035,
          -4.5465615864472415,
          -2.0407721082399797,
          -3.123702994449451,
          -2.8350351492093027,
          -3.3892407789312013,
          -3.017088227280079,
          -2.7161570096852534,
          -1.6056530895295849,
          -2.7707293733949405,
          -3.2734072750925387,
          -0.7139434692859089,
          1.1397031822931059,
          -3.011243942962553,
          -3.366782414013139,
          -2.9755544501613183,
          -3.658452531197261,
          -2.4035973252034175,
          -3.1296357529325562,
          -5.009273148557893,
          -2.8266570797317954,
          -3.871923548913631,
          -2.9791740256734234,
          -3.597042004418057,
          -3.54815073041732,
          -3.5804834062914215,
          -2.7229691123929043,
          -2.4789760027644006
         ]
        }
       ],
       "layout": {
        "height": 600,
        "template": {
         "data": {
          "bar": [
           {
            "error_x": {
             "color": "#2a3f5f"
            },
            "error_y": {
             "color": "#2a3f5f"
            },
            "marker": {
             "line": {
              "color": "#E5ECF6",
              "width": 0.5
             },
             "pattern": {
              "fillmode": "overlay",
              "size": 10,
              "solidity": 0.2
             }
            },
            "type": "bar"
           }
          ],
          "barpolar": [
           {
            "marker": {
             "line": {
              "color": "#E5ECF6",
              "width": 0.5
             },
             "pattern": {
              "fillmode": "overlay",
              "size": 10,
              "solidity": 0.2
             }
            },
            "type": "barpolar"
           }
          ],
          "carpet": [
           {
            "aaxis": {
             "endlinecolor": "#2a3f5f",
             "gridcolor": "white",
             "linecolor": "white",
             "minorgridcolor": "white",
             "startlinecolor": "#2a3f5f"
            },
            "baxis": {
             "endlinecolor": "#2a3f5f",
             "gridcolor": "white",
             "linecolor": "white",
             "minorgridcolor": "white",
             "startlinecolor": "#2a3f5f"
            },
            "type": "carpet"
           }
          ],
          "choropleth": [
           {
            "colorbar": {
             "outlinewidth": 0,
             "ticks": ""
            },
            "type": "choropleth"
           }
          ],
          "contour": [
           {
            "colorbar": {
             "outlinewidth": 0,
             "ticks": ""
            },
            "colorscale": [
             [
              0,
              "#0d0887"
             ],
             [
              0.1111111111111111,
              "#46039f"
             ],
             [
              0.2222222222222222,
              "#7201a8"
             ],
             [
              0.3333333333333333,
              "#9c179e"
             ],
             [
              0.4444444444444444,
              "#bd3786"
             ],
             [
              0.5555555555555556,
              "#d8576b"
             ],
             [
              0.6666666666666666,
              "#ed7953"
             ],
             [
              0.7777777777777778,
              "#fb9f3a"
             ],
             [
              0.8888888888888888,
              "#fdca26"
             ],
             [
              1,
              "#f0f921"
             ]
            ],
            "type": "contour"
           }
          ],
          "contourcarpet": [
           {
            "colorbar": {
             "outlinewidth": 0,
             "ticks": ""
            },
            "type": "contourcarpet"
           }
          ],
          "heatmap": [
           {
            "colorbar": {
             "outlinewidth": 0,
             "ticks": ""
            },
            "colorscale": [
             [
              0,
              "#0d0887"
             ],
             [
              0.1111111111111111,
              "#46039f"
             ],
             [
              0.2222222222222222,
              "#7201a8"
             ],
             [
              0.3333333333333333,
              "#9c179e"
             ],
             [
              0.4444444444444444,
              "#bd3786"
             ],
             [
              0.5555555555555556,
              "#d8576b"
             ],
             [
              0.6666666666666666,
              "#ed7953"
             ],
             [
              0.7777777777777778,
              "#fb9f3a"
             ],
             [
              0.8888888888888888,
              "#fdca26"
             ],
             [
              1,
              "#f0f921"
             ]
            ],
            "type": "heatmap"
           }
          ],
          "heatmapgl": [
           {
            "colorbar": {
             "outlinewidth": 0,
             "ticks": ""
            },
            "colorscale": [
             [
              0,
              "#0d0887"
             ],
             [
              0.1111111111111111,
              "#46039f"
             ],
             [
              0.2222222222222222,
              "#7201a8"
             ],
             [
              0.3333333333333333,
              "#9c179e"
             ],
             [
              0.4444444444444444,
              "#bd3786"
             ],
             [
              0.5555555555555556,
              "#d8576b"
             ],
             [
              0.6666666666666666,
              "#ed7953"
             ],
             [
              0.7777777777777778,
              "#fb9f3a"
             ],
             [
              0.8888888888888888,
              "#fdca26"
             ],
             [
              1,
              "#f0f921"
             ]
            ],
            "type": "heatmapgl"
           }
          ],
          "histogram": [
           {
            "marker": {
             "pattern": {
              "fillmode": "overlay",
              "size": 10,
              "solidity": 0.2
             }
            },
            "type": "histogram"
           }
          ],
          "histogram2d": [
           {
            "colorbar": {
             "outlinewidth": 0,
             "ticks": ""
            },
            "colorscale": [
             [
              0,
              "#0d0887"
             ],
             [
              0.1111111111111111,
              "#46039f"
             ],
             [
              0.2222222222222222,
              "#7201a8"
             ],
             [
              0.3333333333333333,
              "#9c179e"
             ],
             [
              0.4444444444444444,
              "#bd3786"
             ],
             [
              0.5555555555555556,
              "#d8576b"
             ],
             [
              0.6666666666666666,
              "#ed7953"
             ],
             [
              0.7777777777777778,
              "#fb9f3a"
             ],
             [
              0.8888888888888888,
              "#fdca26"
             ],
             [
              1,
              "#f0f921"
             ]
            ],
            "type": "histogram2d"
           }
          ],
          "histogram2dcontour": [
           {
            "colorbar": {
             "outlinewidth": 0,
             "ticks": ""
            },
            "colorscale": [
             [
              0,
              "#0d0887"
             ],
             [
              0.1111111111111111,
              "#46039f"
             ],
             [
              0.2222222222222222,
              "#7201a8"
             ],
             [
              0.3333333333333333,
              "#9c179e"
             ],
             [
              0.4444444444444444,
              "#bd3786"
             ],
             [
              0.5555555555555556,
              "#d8576b"
             ],
             [
              0.6666666666666666,
              "#ed7953"
             ],
             [
              0.7777777777777778,
              "#fb9f3a"
             ],
             [
              0.8888888888888888,
              "#fdca26"
             ],
             [
              1,
              "#f0f921"
             ]
            ],
            "type": "histogram2dcontour"
           }
          ],
          "mesh3d": [
           {
            "colorbar": {
             "outlinewidth": 0,
             "ticks": ""
            },
            "type": "mesh3d"
           }
          ],
          "parcoords": [
           {
            "line": {
             "colorbar": {
              "outlinewidth": 0,
              "ticks": ""
             }
            },
            "type": "parcoords"
           }
          ],
          "pie": [
           {
            "automargin": true,
            "type": "pie"
           }
          ],
          "scatter": [
           {
            "fillpattern": {
             "fillmode": "overlay",
             "size": 10,
             "solidity": 0.2
            },
            "type": "scatter"
           }
          ],
          "scatter3d": [
           {
            "line": {
             "colorbar": {
              "outlinewidth": 0,
              "ticks": ""
             }
            },
            "marker": {
             "colorbar": {
              "outlinewidth": 0,
              "ticks": ""
             }
            },
            "type": "scatter3d"
           }
          ],
          "scattercarpet": [
           {
            "marker": {
             "colorbar": {
              "outlinewidth": 0,
              "ticks": ""
             }
            },
            "type": "scattercarpet"
           }
          ],
          "scattergeo": [
           {
            "marker": {
             "colorbar": {
              "outlinewidth": 0,
              "ticks": ""
             }
            },
            "type": "scattergeo"
           }
          ],
          "scattergl": [
           {
            "marker": {
             "colorbar": {
              "outlinewidth": 0,
              "ticks": ""
             }
            },
            "type": "scattergl"
           }
          ],
          "scattermapbox": [
           {
            "marker": {
             "colorbar": {
              "outlinewidth": 0,
              "ticks": ""
             }
            },
            "type": "scattermapbox"
           }
          ],
          "scatterpolar": [
           {
            "marker": {
             "colorbar": {
              "outlinewidth": 0,
              "ticks": ""
             }
            },
            "type": "scatterpolar"
           }
          ],
          "scatterpolargl": [
           {
            "marker": {
             "colorbar": {
              "outlinewidth": 0,
              "ticks": ""
             }
            },
            "type": "scatterpolargl"
           }
          ],
          "scatterternary": [
           {
            "marker": {
             "colorbar": {
              "outlinewidth": 0,
              "ticks": ""
             }
            },
            "type": "scatterternary"
           }
          ],
          "surface": [
           {
            "colorbar": {
             "outlinewidth": 0,
             "ticks": ""
            },
            "colorscale": [
             [
              0,
              "#0d0887"
             ],
             [
              0.1111111111111111,
              "#46039f"
             ],
             [
              0.2222222222222222,
              "#7201a8"
             ],
             [
              0.3333333333333333,
              "#9c179e"
             ],
             [
              0.4444444444444444,
              "#bd3786"
             ],
             [
              0.5555555555555556,
              "#d8576b"
             ],
             [
              0.6666666666666666,
              "#ed7953"
             ],
             [
              0.7777777777777778,
              "#fb9f3a"
             ],
             [
              0.8888888888888888,
              "#fdca26"
             ],
             [
              1,
              "#f0f921"
             ]
            ],
            "type": "surface"
           }
          ],
          "table": [
           {
            "cells": {
             "fill": {
              "color": "#EBF0F8"
             },
             "line": {
              "color": "white"
             }
            },
            "header": {
             "fill": {
              "color": "#C8D4E3"
             },
             "line": {
              "color": "white"
             }
            },
            "type": "table"
           }
          ]
         },
         "layout": {
          "annotationdefaults": {
           "arrowcolor": "#2a3f5f",
           "arrowhead": 0,
           "arrowwidth": 1
          },
          "autotypenumbers": "strict",
          "coloraxis": {
           "colorbar": {
            "outlinewidth": 0,
            "ticks": ""
           }
          },
          "colorscale": {
           "diverging": [
            [
             0,
             "#8e0152"
            ],
            [
             0.1,
             "#c51b7d"
            ],
            [
             0.2,
             "#de77ae"
            ],
            [
             0.3,
             "#f1b6da"
            ],
            [
             0.4,
             "#fde0ef"
            ],
            [
             0.5,
             "#f7f7f7"
            ],
            [
             0.6,
             "#e6f5d0"
            ],
            [
             0.7,
             "#b8e186"
            ],
            [
             0.8,
             "#7fbc41"
            ],
            [
             0.9,
             "#4d9221"
            ],
            [
             1,
             "#276419"
            ]
           ],
           "sequential": [
            [
             0,
             "#0d0887"
            ],
            [
             0.1111111111111111,
             "#46039f"
            ],
            [
             0.2222222222222222,
             "#7201a8"
            ],
            [
             0.3333333333333333,
             "#9c179e"
            ],
            [
             0.4444444444444444,
             "#bd3786"
            ],
            [
             0.5555555555555556,
             "#d8576b"
            ],
            [
             0.6666666666666666,
             "#ed7953"
            ],
            [
             0.7777777777777778,
             "#fb9f3a"
            ],
            [
             0.8888888888888888,
             "#fdca26"
            ],
            [
             1,
             "#f0f921"
            ]
           ],
           "sequentialminus": [
            [
             0,
             "#0d0887"
            ],
            [
             0.1111111111111111,
             "#46039f"
            ],
            [
             0.2222222222222222,
             "#7201a8"
            ],
            [
             0.3333333333333333,
             "#9c179e"
            ],
            [
             0.4444444444444444,
             "#bd3786"
            ],
            [
             0.5555555555555556,
             "#d8576b"
            ],
            [
             0.6666666666666666,
             "#ed7953"
            ],
            [
             0.7777777777777778,
             "#fb9f3a"
            ],
            [
             0.8888888888888888,
             "#fdca26"
            ],
            [
             1,
             "#f0f921"
            ]
           ]
          },
          "colorway": [
           "#636efa",
           "#EF553B",
           "#00cc96",
           "#ab63fa",
           "#FFA15A",
           "#19d3f3",
           "#FF6692",
           "#B6E880",
           "#FF97FF",
           "#FECB52"
          ],
          "font": {
           "color": "#2a3f5f"
          },
          "geo": {
           "bgcolor": "white",
           "lakecolor": "white",
           "landcolor": "#E5ECF6",
           "showlakes": true,
           "showland": true,
           "subunitcolor": "white"
          },
          "hoverlabel": {
           "align": "left"
          },
          "hovermode": "closest",
          "mapbox": {
           "style": "light"
          },
          "paper_bgcolor": "white",
          "plot_bgcolor": "#E5ECF6",
          "polar": {
           "angularaxis": {
            "gridcolor": "white",
            "linecolor": "white",
            "ticks": ""
           },
           "bgcolor": "#E5ECF6",
           "radialaxis": {
            "gridcolor": "white",
            "linecolor": "white",
            "ticks": ""
           }
          },
          "scene": {
           "xaxis": {
            "backgroundcolor": "#E5ECF6",
            "gridcolor": "white",
            "gridwidth": 2,
            "linecolor": "white",
            "showbackground": true,
            "ticks": "",
            "zerolinecolor": "white"
           },
           "yaxis": {
            "backgroundcolor": "#E5ECF6",
            "gridcolor": "white",
            "gridwidth": 2,
            "linecolor": "white",
            "showbackground": true,
            "ticks": "",
            "zerolinecolor": "white"
           },
           "zaxis": {
            "backgroundcolor": "#E5ECF6",
            "gridcolor": "white",
            "gridwidth": 2,
            "linecolor": "white",
            "showbackground": true,
            "ticks": "",
            "zerolinecolor": "white"
           }
          },
          "shapedefaults": {
           "line": {
            "color": "#2a3f5f"
           }
          },
          "ternary": {
           "aaxis": {
            "gridcolor": "white",
            "linecolor": "white",
            "ticks": ""
           },
           "baxis": {
            "gridcolor": "white",
            "linecolor": "white",
            "ticks": ""
           },
           "bgcolor": "#E5ECF6",
           "caxis": {
            "gridcolor": "white",
            "linecolor": "white",
            "ticks": ""
           }
          },
          "title": {
           "x": 0.05
          },
          "xaxis": {
           "automargin": true,
           "gridcolor": "white",
           "linecolor": "white",
           "ticks": "",
           "title": {
            "standoff": 15
           },
           "zerolinecolor": "white",
           "zerolinewidth": 2
          },
          "yaxis": {
           "automargin": true,
           "gridcolor": "white",
           "linecolor": "white",
           "ticks": "",
           "title": {
            "standoff": 15
           },
           "zerolinecolor": "white",
           "zerolinewidth": 2
          }
         }
        },
        "title": {
         "text": "2D Scatter Plot Example"
        },
        "width": 600,
        "xaxis": {
         "title": {
          "text": "X Axis"
         }
        },
        "yaxis": {
         "title": {
          "text": "Y Axis"
         }
        }
       }
      }
     },
     "metadata": {},
     "output_type": "display_data"
    }
   ],
   "source": [
    "import plotly.graph_objects as go\n",
    "\n",
    "\n",
    "# Create a scatter plot\n",
    "fig = go.Figure()\n",
    "hover_text = data[\"File name\"].values\n",
    "color_map = {\n",
    "    0: 'orange',\n",
    "    1: 'blue',\n",
    "    2: 'red'\n",
    "}\n",
    "# Add scatter trace\n",
    "fig.add_trace(go.Scatter(\n",
    "    x=X_lda[:, 0],\n",
    "    y=X_lda[:, 1],\n",
    "    mode='markers',  # Display markers and text\n",
    "    marker=dict(\n",
    "        size=10, \n",
    "        color = y,\n",
    "        colorscale='Viridis', \n",
    "        colorbar=dict(title='Type', tickvals = [0,1,2], ticktext = ['Hỗn hợp', 'Rễ', 'Thân']),  \n",
    "        showscale=True,\n",
    "        line=dict(\n",
    "            width=2,  # Width of the border\n",
    "            color='black'  # Border color\n",
    "        )\n",
    "        ),\n",
    "    hovertemplate = hover_text,\n",
    "\n",
    "))\n",
    "\n",
    "# Update layout\n",
    "fig.update_layout(\n",
    "    title='2D Scatter Plot Example',\n",
    "    xaxis_title='X Axis',\n",
    "    yaxis_title='Y Axis',\n",
    "    width = 600,\n",
    "    height = 600,\n",
    ")\n",
    "\n",
    "# Show the plot\n",
    "fig.show()"
   ]
  },
  {
   "cell_type": "code",
   "execution_count": 208,
   "metadata": {},
   "outputs": [],
   "source": [
    "test_folder = \"data2/Test\"\n",
    "data_frames = []\n",
    "file_names = []\n",
    "for index, file_name in enumerate(os.listdir(test_folder)):\n",
    "    if file_name.endswith(\".CSV\"):  # Check if the file is a CSV\n",
    "        file_path = os.path.join(test_folder, file_name)\n",
    "        df = pd.read_csv(file_path, header=None).values\n",
    "        if index == 0:\n",
    "            data_frames.append(df[:, 0].reshape(1, -1))\n",
    "        data_frames.append(df[:, 1].reshape(1, -1))\n",
    "        file_names.append(file_name)\n",
    "test = pd.DataFrame(np.concatenate(data_frames[1:]), columns=list(data_frames[0]))\n",
    "test.columns = ['_'.join(map(str, col)) for col in test.columns]\n",
    "test[\"File name\"] = file_names\n",
    "test[\"Type\"] = test[\"File name\"].str.split(\"-\", expand=True)[0].str[0]"
   ]
  },
  {
   "cell_type": "code",
   "execution_count": 209,
   "metadata": {},
   "outputs": [],
   "source": [
    "X_test = test.iloc[:, :-2]\n",
    "X_test_snv = snv(X_test.values)\n",
    "X_test_deriv = savgol_filter(X_test_snv, window_length = 25,  polyorder=5, deriv = 1)"
   ]
  },
  {
   "cell_type": "code",
   "execution_count": 210,
   "metadata": {},
   "outputs": [],
   "source": [
    "X_test_scaled = scaler.transform(X_test_deriv)\n",
    "X_test_lda = lda.transform(X_test_scaled)"
   ]
  },
  {
   "cell_type": "code",
   "execution_count": 211,
   "metadata": {},
   "outputs": [
    {
     "data": {
      "text/plain": [
       "array([2, 1, 0, 0, 2, 0, 0, 2, 2])"
      ]
     },
     "execution_count": 211,
     "metadata": {},
     "output_type": "execute_result"
    }
   ],
   "source": [
    "lda.predict(X_test_scaled)"
   ]
  },
  {
   "cell_type": "code",
   "execution_count": 212,
   "metadata": {},
   "outputs": [
    {
     "data": {
      "image/png": "[encoded data removed]",
      "text/plain": [
       "<Figure size 640x480 with 1 Axes>"
      ]
     },
     "metadata": {},
     "output_type": "display_data"
    }
   ],
   "source": [
    "plt.plot(X_test_snv.T)\n",
    "plt.plot(X_snv.T)\n",
    "plt.show()"
   ]
  },
  {
   "cell_type": "code",
   "execution_count": 213,
   "metadata": {},
   "outputs": [
    {
     "data": {
      "application/vnd.plotly.v1+json": {
       "config": {
        "plotlyServerURL": "https://plot.ly"
       },
       "data": [
        {
         "hovertemplate": [
          "D10_-1-1.CSV",
          "D10_-1-2.CSV",
          "D10_-1-3.CSV",
          "D10_-1-4.CSV",
          "D10_-1-5.CSV",
          "D10_-2-1.CSV",
          "D10_-2-2.CSV",
          "D10_-2-3.CSV",
          "D10_-2-4.CSV",
          "D10_-2-5.CSV",
          "D3-1-1.CSV",
          "D3-1-2.CSV",
          "D3-1-3.CSV",
          "D3-1-4.CSV",
          "D3-1-5.CSV",
          "D5_-1-1.CSV",
          "D5_-1-2.CSV",
          "D5_-1-3.CSV",
          "D5_-1-4.CSV",
          "D5_-1-5.CSV",
          "D5_-2-1.CSV",
          "D5_-2-2.CSV",
          "D5_-2-3.CSV",
          "D5_-2-4.CSV",
          "D5_-2-5.CSV",
          "R-DLS1-1.CSV",
          "R-DLS1-2.CSV",
          "R-DLS1-3.CSV",
          "R-DLS1-4.CSV",
          "R-DLS1-5.CSV",
          "R-PF1-1.CSV",
          "R-PF1-2.CSV",
          "R-PF1-3.CSV",
          "R-PF1-4.CSV",
          "R-PF1-5.CSV",
          "R1-DLS1-1.CSV",
          "R1-DLS1-2.CSV",
          "R1-DLS1-3.CSV",
          "R1-DLS1-4.CSV",
          "R1-DLS5-1.CSV",
          "R1-DLS5-2.CSV",
          "R1-DLS5-3.CSV",
          "R1-DLS5-4.CSV",
          "R1-DLS5-5.CSV",
          "R10-1.CSV",
          "R10-2.CSV",
          "R10-3.CSV",
          "R10-4.CSV",
          "R10-5.CSV",
          "R16-1.CSV",
          "R16-2.CSV",
          "R16-3.CSV",
          "R16-4.CSV",
          "R16-5.CSV",
          "R2-DLS1-1.CSV",
          "R2-DLS1-2.CSV",
          "R2-DLS1-3.CSV",
          "R2-DLS1-4.CSV",
          "R2-DLS1-5.CSV",
          "R3-1.CSV",
          "R3-2.CSV",
          "R3-3.CSV",
          "R3-4.CSV",
          "R3-5.CSV",
          "R3_New-1.CSV",
          "R3_New-2.CSV",
          "R3_New-3.CSV",
          "R3_New-4.CSV",
          "R3_New-5.CSV",
          "R4-1.CSV",
          "R4-2.CSV",
          "R4-3.CSV",
          "R4-4.CSV",
          "R4-5.CSV",
          "T1-1.CSV",
          "T1-2.CSV",
          "T1-3.CSV",
          "T1-4.CSV",
          "T1-5.CSV",
          "T10-1.CSV",
          "T10-2.CSV",
          "T10-3.CSV",
          "T10-4.CSV",
          "T10-5.CSV",
          "T2-1.CSV",
          "T2-2.CSV",
          "T2-3.CSV",
          "T2-4.CSV",
          "T2-5.CSV",
          "T4-1.CSV",
          "T4-2.CSV",
          "T4-3.CSV",
          "T4-4.CSV",
          "T4-5.CSV",
          "T5-1.CSV",
          "T5-2.CSV",
          "T5-3.CSV",
          "T5-4.CSV",
          "T5-5.CSV",
          "T6-1.CSV",
          "T6-2.CSV",
          "T6-3.CSV",
          "T6-4.CSV",
          "T6-5.CSV",
          "T7-1.CSV",
          "T7-2.CSV",
          "T7-3.CSV",
          "T7-4.CSV",
          "T7-5.CSV",
          "T9-1.CSV",
          "T9-2.CSV",
          "T9-3.CSV",
          "T9-4.CSV",
          "T9-5.CSV",
          "TC-DLS5-1.CSV",
          "TC-DLS5-2.CSV",
          "TC-DLS5-3.CSV",
          "TC-DLS5-4.CSV",
          "TC-DLS5-5.CSV",
          "D1-1.CSV",
          "D1-2.CSV",
          "D1-3.CSV",
          "D1-4.CSV",
          "D1-5.CSV",
          "D1_-1-1.CSV",
          "D1_-1-2.CSV",
          "D1_-1-3.CSV",
          "D1_-1-4.CSV",
          "D1_-1-5.CSV",
          "D1_-2-1.CSV",
          "D1_-2-2.CSV",
          "D1_-2-3.CSV",
          "D1_-2-4.CSV",
          "D1_-2-5.CSV",
          "D2_-1-1.CSV",
          "D2_-1-2.CSV",
          "D2_-1-3.CSV",
          "D2_-1-4.CSV",
          "D2_-1-5.CSV",
          "D2_-2-1.CSV",
          "D2_-2-2.CSV",
          "D2_-2-3.CSV",
          "D2_-2-4.CSV",
          "D2_-2-5.CSV",
          "D2_-3-1.CSV",
          "D2_-3-2.CSV",
          "D2_-3-3.CSV",
          "D2_-3-4.CSV",
          "D2_-3-5.CSV",
          "D5_-3-1.CSV",
          "D5_-3-2.CSV",
          "D5_-3-3.CSV",
          "D5_-3-4.CSV",
          "D5_-3-5.CSV",
          "D9_-1-1.CSV",
          "D9_-1-2.CSV",
          "D9_-1-3.CSV",
          "D9_-1-4.CSV",
          "D9_-1-5.CSV"
         ],
         "marker": {
          "color": [
           0,
           0,
           0,
           0,
           0,
           0,
           0,
           0,
           0,
           0,
           0,
           0,
           0,
           0,
           0,
           0,
           0,
           0,
           0,
           0,
           0,
           0,
           0,
           0,
           0,
           1,
           1,
           1,
           1,
           1,
           1,
           1,
           1,
           1,
           1,
           1,
           1,
           1,
           1,
           1,
           1,
           1,
           1,
           1,
           1,
           1,
           1,
           1,
           1,
           1,
           1,
           1,
           1,
           1,
           1,
           1,
           1,
           1,
           1,
           1,
           1,
           1,
           1,
           1,
           1,
           1,
           1,
           1,
           1,
           1,
           1,
           1,
           1,
           1,
           2,
           2,
           2,
           2,
           2,
           2,
           2,
           2,
           2,
           2,
           2,
           2,
           2,
           2,
           2,
           2,
           2,
           2,
           2,
           2,
           2,
           2,
           2,
           2,
           2,
           2,
           2,
           2,
           2,
           2,
           2,
           2,
           2,
           2,
           2,
           2,
           2,
           2,
           2,
           2,
           2,
           2,
           2,
           2,
           2,
           0,
           0,
           0,
           0,
           0,
           0,
           0,
           0,
           0,
           0,
           0,
           0,
           0,
           0,
           0,
           0,
           0,
           0,
           0,
           0,
           0,
           0,
           0,
           0,
           0,
           0,
           0,
           0,
           0,
           0,
           0,
           0,
           0,
           0,
           0,
           0,
           0,
           0,
           0,
           0
          ],
          "colorbar": {
           "ticktext": [
            "Hỗn hợp",
            "Rễ",
            "Thân"
           ],
           "tickvals": [
            0,
            1,
            2
           ],
           "title": {
            "text": "Type"
           }
          },
          "colorscale": [
           [
            0,
            "#440154"
           ],
           [
            0.1111111111111111,
            "#482878"
           ],
           [
            0.2222222222222222,
            "#3e4989"
           ],
           [
            0.3333333333333333,
            "#31688e"
           ],
           [
            0.4444444444444444,
            "#26828e"
           ],
           [
            0.5555555555555556,
            "#1f9e89"
           ],
           [
            0.6666666666666666,
            "#35b779"
           ],
           [
            0.7777777777777778,
            "#6ece58"
           ],
           [
            0.8888888888888888,
            "#b5de2b"
           ],
           [
            1,
            "#fde725"
           ]
          ],
          "line": {
           "color": "black",
           "width": 2
          },
          "showscale": true,
          "size": 10
         },
         "mode": "markers",
         "type": "scatter",
         "x": [
          -4.453331538806593,
          -5.734142724541405,
          -5.328819235719147,
          -4.449232058702665,
          -6.094579528719153,
          -4.780033517565693,
          -5.357564498787054,
          -3.5320970168168335,
          -7.068765647200866,
          -4.668382723963668,
          -4.518773648770714,
          -6.010910021450531,
          -5.2267372342631475,
          -3.6690368205964985,
          -5.079128432042736,
          -5.494740240447995,
          -5.478145011578192,
          -4.647472904816178,
          -5.251475720498448,
          -5.312234370621402,
          -6.174320760228365,
          -5.66758682206669,
          -5.330230777786914,
          -5.403236935711691,
          -5.401680284033219,
          12.150122763622008,
          11.158223687962472,
          10.39986382289866,
          9.85473446692955,
          12.368738098886956,
          9.959610057880568,
          9.860796313942222,
          12.08156870779738,
          10.446640875707024,
          9.576563843877043,
          11.040565360851796,
          11.49309793199388,
          10.83434919662088,
          11.50222495939386,
          11.005395393672217,
          11.83813387522666,
          11.25790945522247,
          12.356344776480702,
          11.722251487724545,
          11.786013749240318,
          10.79406461053089,
          11.110274567033922,
          11.078425576905463,
          11.034427603762039,
          11.034427603762039,
          11.3346031325644,
          10.39556605280721,
          13.853322211497602,
          13.758824607966831,
          10.178843254453355,
          11.32683545652328,
          10.473544303776986,
          11.270585243351551,
          10.083593172096808,
          10.88845241782959,
          11.748210536571829,
          11.10835622779551,
          10.60170685392023,
          9.820481798657386,
          11.324889717813761,
          11.04196071161149,
          10.751290738160135,
          11.569827064946136,
          10.890086620926681,
          12.406752844184847,
          11.358310003853344,
          11.341135008142425,
          10.562858261257922,
          12.1967603460682,
          -4.3883947784800545,
          -4.582879709726569,
          -3.9426470837513676,
          -4.25373567705237,
          -5.990603985047244,
          -6.320477008083139,
          -6.301525795530596,
          -4.111885673988187,
          -4.174469816463857,
          -3.1471344980958307,
          -4.678942434332793,
          -3.6744957750779474,
          -6.025236868934893,
          -4.689804790727573,
          -4.253530479314873,
          -4.670155585416002,
          -5.45770488989489,
          -4.794068901319923,
          -4.737522766337603,
          -4.410152938716534,
          -6.047599968180744,
          -4.0722979333538,
          -6.201324795532899,
          -4.5262094348249295,
          -3.1077852886110087,
          -3.4057280665981287,
          -6.4976213132978105,
          -4.872213904621132,
          -5.388157221690253,
          -4.637040544913418,
          -4.653343689104563,
          -4.8373532342404415,
          -3.2367031709245686,
          -3.752882148571474,
          -3.755150751955924,
          -5.154664404026615,
          -4.430137915764645,
          -5.185647430225288,
          -6.365998836335372,
          -2.7354901611097064,
          -4.472793111574434,
          -5.712668648255338,
          -4.977532873180039,
          -4.427570497771131,
          -4.915208230591744,
          -4.377494822111071,
          -5.091858373890753,
          -0.46646822958880924,
          -4.469135575523028,
          -5.954435213327198,
          -7.221980825954902,
          -3.7754085406897353,
          -6.889935596918169,
          -3.0815803866328806,
          -5.687134746488448,
          -5.2773645746137205,
          -5.493766226744094,
          -5.181318113407771,
          -4.24682309989307,
          -6.392341101426335,
          -4.9220024677480225,
          -5.655283271527849,
          -6.090699197768412,
          -5.4720367090296405,
          -4.669981746585611,
          -6.838448932627886,
          -4.412365415399821,
          -5.782456742482981,
          -6.029093936525003,
          -5.528298393588122,
          -5.596057312619251,
          -5.673090527415754,
          -5.085610616632151,
          -4.693040055186218,
          -8.603518438779137,
          -4.59836073937871,
          -3.764285918077083,
          -3.8607230051026926,
          -5.582791236006418,
          -5.301917231421928,
          -4.512203558738234,
          -4.894507419050452,
          -4.888373160857627,
          -5.577580526266818,
          -4.284641881393761
         ],
         "y": [
          -5.152059531874248,
          -1.6300161888054263,
          -3.0905020201340525,
          -2.3554343016707264,
          -3.408704374712691,
          -3.1289906089506063,
          -3.572345609905767,
          -3.1467557766943584,
          -2.7277295723182613,
          -3.1843598329914156,
          -3.8220024590499593,
          -2.9846729294856535,
          -3.961226175564911,
          -3.3730620783610576,
          -2.8501244617417294,
          -3.7170561202740275,
          -3.1842327612476184,
          -3.152564792551822,
          -2.5018428983178262,
          -4.218257594053109,
          -2.8857786710766606,
          -3.227006724431445,
          -2.8316463100879474,
          -2.102179876182887,
          -3.6315716760521166,
          -1.6623591596686849,
          0.1603060840435162,
          -0.4528200686393635,
          2.557694024284738,
          -0.41067864914720154,
          0.41267508566685074,
          0.5105527783517051,
          -1.5281024464903696,
          1.1859091261622483,
          0.10694735379883191,
          -1.4065206734674252,
          -0.36841354056773457,
          0.7723625759977816,
          -0.6931065575855917,
          -0.7945491677430718,
          0.4663669880313728,
          0.35277306561169347,
          0.24711753136470627,
          -0.1314872436936465,
          0.43754681187640004,
          0.5033449328142529,
          0.07236182374628797,
          -0.8211806927465782,
          -0.15650075670963126,
          -0.15650075670963126,
          0.09354492194000064,
          -1.3177221974427458,
          0.09465992867833184,
          -0.8745628154132328,
          1.1357752265341974,
          -2.136641601206761,
          0.40586354561008275,
          -0.17809147813158677,
          -0.8995243671932118,
          0.23440667373441038,
          0.3447081672961081,
          -0.19549029569759502,
          0.13475431991120268,
          1.6793489018058219,
          -1.1633736443193041,
          -0.5220375942060669,
          0.20615225300556694,
          -0.8662248777232145,
          0.04795161052908037,
          -0.401643986696415,
          -0.3235637107081215,
          0.19068204309272563,
          -0.1728828589187129,
          -0.40378058996234956,
          4.711153373643332,
          5.164719253244353,
          1.3063232317965394,
          4.866526346681239,
          4.726815341975502,
          2.105871399656748,
          5.941346532370819,
          4.404774608320749,
          3.220536638187969,
          5.635751210488072,
          4.794658836208594,
          4.2541116801068055,
          3.7969031459447615,
          5.596000078288574,
          5.059902520559829,
          4.587462616195452,
          4.871156988173303,
          4.442826731999349,
          5.314297920042192,
          5.133907514474738,
          4.090627526424475,
          5.417851519542556,
          2.294528784835232,
          4.972189511648573,
          6.945456813040512,
          5.017655255372904,
          3.8971427528189517,
          3.8700028169273533,
          4.520429973323282,
          5.486301815693544,
          2.787387078030688,
          2.625446087479453,
          6.434545685866782,
          4.406311179612674,
          6.081014878341915,
          5.006298030534165,
          4.081306598962043,
          3.13264983612447,
          2.4054342808149407,
          3.8845892364287553,
          4.58939755644641,
          5.198919606410511,
          5.143189262593019,
          4.518745463041446,
          5.531215175797059,
          -4.4904753416124334,
          -2.5681720176137866,
          -1.6214109696266727,
          -2.625135829558636,
          -3.9830833946006603,
          -4.3033853836550895,
          -1.502351826935458,
          -2.998833395274601,
          -2.6897213260466684,
          -3.027067187263478,
          -4.50153876729672,
          -2.4785624453018564,
          -1.9073641513644035,
          -4.5465615864472415,
          -2.0407721082399797,
          -3.123702994449451,
          -2.8350351492093027,
          -3.3892407789312013,
          -3.017088227280079,
          -2.7161570096852534,
          -1.6056530895295849,
          -2.7707293733949405,
          -3.2734072750925387,
          -0.7139434692859089,
          1.1397031822931059,
          -3.011243942962553,
          -3.366782414013139,
          -2.9755544501613183,
          -3.658452531197261,
          -2.4035973252034175,
          -3.1296357529325562,
          -5.009273148557893,
          -2.8266570797317954,
          -3.871923548913631,
          -2.9791740256734234,
          -3.597042004418057,
          -3.54815073041732,
          -3.5804834062914215,
          -2.7229691123929043,
          -2.4789760027644006
         ]
        },
        {
         "hovertemplate": [
          "M1.CSV",
          "M2.CSV",
          "M3.CSV",
          "M4.CSV",
          "M5-1.CSV",
          "M5-2.CSV",
          "M5-3.CSV",
          "M5-4.CSV",
          "M5-5.CSV"
         ],
         "marker": {
          "color": "green",
          "line": {
           "color": "black",
           "width": 2
          },
          "size": 10
         },
         "mode": "markers",
         "type": "scatter",
         "x": [
          -0.36618517998005246,
          11.615542244437691,
          -9.89603903848614,
          -7.65659454391201,
          -5.585154664576066,
          -7.348143455164577,
          -8.399909230511154,
          -6.109996553760498,
          -6.526095915115719
         ],
         "y": [
          1.0695308964465362,
          -6.2106826889823425,
          -2.7780136623710563,
          -1.2425574392650656,
          4.110864402825676,
          -1.4821513279575331,
          -0.8468815021807359,
          9.371288913151288,
          9.085422690842442
         ]
        }
       ],
       "layout": {
        "height": 600,
        "template": {
         "data": {
          "bar": [
           {
            "error_x": {
             "color": "#2a3f5f"
            },
            "error_y": {
             "color": "#2a3f5f"
            },
            "marker": {
             "line": {
              "color": "#E5ECF6",
              "width": 0.5
             },
             "pattern": {
              "fillmode": "overlay",
              "size": 10,
              "solidity": 0.2
             }
            },
            "type": "bar"
           }
          ],
          "barpolar": [
           {
            "marker": {
             "line": {
              "color": "#E5ECF6",
              "width": 0.5
             },
             "pattern": {
              "fillmode": "overlay",
              "size": 10,
              "solidity": 0.2
             }
            },
            "type": "barpolar"
           }
          ],
          "carpet": [
           {
            "aaxis": {
             "endlinecolor": "#2a3f5f",
             "gridcolor": "white",
             "linecolor": "white",
             "minorgridcolor": "white",
             "startlinecolor": "#2a3f5f"
            },
            "baxis": {
             "endlinecolor": "#2a3f5f",
             "gridcolor": "white",
             "linecolor": "white",
             "minorgridcolor": "white",
             "startlinecolor": "#2a3f5f"
            },
            "type": "carpet"
           }
          ],
          "choropleth": [
           {
            "colorbar": {
             "outlinewidth": 0,
             "ticks": ""
            },
            "type": "choropleth"
           }
          ],
          "contour": [
           {
            "colorbar": {
             "outlinewidth": 0,
             "ticks": ""
            },
            "colorscale": [
             [
              0,
              "#0d0887"
             ],
             [
              0.1111111111111111,
              "#46039f"
             ],
             [
              0.2222222222222222,
              "#7201a8"
             ],
             [
              0.3333333333333333,
              "#9c179e"
             ],
             [
              0.4444444444444444,
              "#bd3786"
             ],
             [
              0.5555555555555556,
              "#d8576b"
             ],
             [
              0.6666666666666666,
              "#ed7953"
             ],
             [
              0.7777777777777778,
              "#fb9f3a"
             ],
             [
              0.8888888888888888,
              "#fdca26"
             ],
             [
              1,
              "#f0f921"
             ]
            ],
            "type": "contour"
           }
          ],
          "contourcarpet": [
           {
            "colorbar": {
             "outlinewidth": 0,
             "ticks": ""
            },
            "type": "contourcarpet"
           }
          ],
          "heatmap": [
           {
            "colorbar": {
             "outlinewidth": 0,
             "ticks": ""
            },
            "colorscale": [
             [
              0,
              "#0d0887"
             ],
             [
              0.1111111111111111,
              "#46039f"
             ],
             [
              0.2222222222222222,
              "#7201a8"
             ],
             [
              0.3333333333333333,
              "#9c179e"
             ],
             [
              0.4444444444444444,
              "#bd3786"
             ],
             [
              0.5555555555555556,
              "#d8576b"
             ],
             [
              0.6666666666666666,
              "#ed7953"
             ],
             [
              0.7777777777777778,
              "#fb9f3a"
             ],
             [
              0.8888888888888888,
              "#fdca26"
             ],
             [
              1,
              "#f0f921"
             ]
            ],
            "type": "heatmap"
           }
          ],
          "heatmapgl": [
           {
            "colorbar": {
             "outlinewidth": 0,
             "ticks": ""
            },
            "colorscale": [
             [
              0,
              "#0d0887"
             ],
             [
              0.1111111111111111,
              "#46039f"
             ],
             [
              0.2222222222222222,
              "#7201a8"
             ],
             [
              0.3333333333333333,
              "#9c179e"
             ],
             [
              0.4444444444444444,
              "#bd3786"
             ],
             [
              0.5555555555555556,
              "#d8576b"
             ],
             [
              0.6666666666666666,
              "#ed7953"
             ],
             [
              0.7777777777777778,
              "#fb9f3a"
             ],
             [
              0.8888888888888888,
              "#fdca26"
             ],
             [
              1,
              "#f0f921"
             ]
            ],
            "type": "heatmapgl"
           }
          ],
          "histogram": [
           {
            "marker": {
             "pattern": {
              "fillmode": "overlay",
              "size": 10,
              "solidity": 0.2
             }
            },
            "type": "histogram"
           }
          ],
          "histogram2d": [
           {
            "colorbar": {
             "outlinewidth": 0,
             "ticks": ""
            },
            "colorscale": [
             [
              0,
              "#0d0887"
             ],
             [
              0.1111111111111111,
              "#46039f"
             ],
             [
              0.2222222222222222,
              "#7201a8"
             ],
             [
              0.3333333333333333,
              "#9c179e"
             ],
             [
              0.4444444444444444,
              "#bd3786"
             ],
             [
              0.5555555555555556,
              "#d8576b"
             ],
             [
              0.6666666666666666,
              "#ed7953"
             ],
             [
              0.7777777777777778,
              "#fb9f3a"
             ],
             [
              0.8888888888888888,
              "#fdca26"
             ],
             [
              1,
              "#f0f921"
             ]
            ],
            "type": "histogram2d"
           }
          ],
          "histogram2dcontour": [
           {
            "colorbar": {
             "outlinewidth": 0,
             "ticks": ""
            },
            "colorscale": [
             [
              0,
              "#0d0887"
             ],
             [
              0.1111111111111111,
              "#46039f"
             ],
             [
              0.2222222222222222,
              "#7201a8"
             ],
             [
              0.3333333333333333,
              "#9c179e"
             ],
             [
              0.4444444444444444,
              "#bd3786"
             ],
             [
              0.5555555555555556,
              "#d8576b"
             ],
             [
              0.6666666666666666,
              "#ed7953"
             ],
             [
              0.7777777777777778,
              "#fb9f3a"
             ],
             [
              0.8888888888888888,
              "#fdca26"
             ],
             [
              1,
              "#f0f921"
             ]
            ],
            "type": "histogram2dcontour"
           }
          ],
          "mesh3d": [
           {
            "colorbar": {
             "outlinewidth": 0,
             "ticks": ""
            },
            "type": "mesh3d"
           }
          ],
          "parcoords": [
           {
            "line": {
             "colorbar": {
              "outlinewidth": 0,
              "ticks": ""
             }
            },
            "type": "parcoords"
           }
          ],
          "pie": [
           {
            "automargin": true,
            "type": "pie"
           }
          ],
          "scatter": [
           {
            "fillpattern": {
             "fillmode": "overlay",
             "size": 10,
             "solidity": 0.2
            },
            "type": "scatter"
           }
          ],
          "scatter3d": [
           {
            "line": {
             "colorbar": {
              "outlinewidth": 0,
              "ticks": ""
             }
            },
            "marker": {
             "colorbar": {
              "outlinewidth": 0,
              "ticks": ""
             }
            },
            "type": "scatter3d"
           }
          ],
          "scattercarpet": [
           {
            "marker": {
             "colorbar": {
              "outlinewidth": 0,
              "ticks": ""
             }
            },
            "type": "scattercarpet"
           }
          ],
          "scattergeo": [
           {
            "marker": {
             "colorbar": {
              "outlinewidth": 0,
              "ticks": ""
             }
            },
            "type": "scattergeo"
           }
          ],
          "scattergl": [
           {
            "marker": {
             "colorbar": {
              "outlinewidth": 0,
              "ticks": ""
             }
            },
            "type": "scattergl"
           }
          ],
          "scattermapbox": [
           {
            "marker": {
             "colorbar": {
              "outlinewidth": 0,
              "ticks": ""
             }
            },
            "type": "scattermapbox"
           }
          ],
          "scatterpolar": [
           {
            "marker": {
             "colorbar": {
              "outlinewidth": 0,
              "ticks": ""
             }
            },
            "type": "scatterpolar"
           }
          ],
          "scatterpolargl": [
           {
            "marker": {
             "colorbar": {
              "outlinewidth": 0,
              "ticks": ""
             }
            },
            "type": "scatterpolargl"
           }
          ],
          "scatterternary": [
           {
            "marker": {
             "colorbar": {
              "outlinewidth": 0,
              "ticks": ""
             }
            },
            "type": "scatterternary"
           }
          ],
          "surface": [
           {
            "colorbar": {
             "outlinewidth": 0,
             "ticks": ""
            },
            "colorscale": [
             [
              0,
              "#0d0887"
             ],
             [
              0.1111111111111111,
              "#46039f"
             ],
             [
              0.2222222222222222,
              "#7201a8"
             ],
             [
              0.3333333333333333,
              "#9c179e"
             ],
             [
              0.4444444444444444,
              "#bd3786"
             ],
             [
              0.5555555555555556,
              "#d8576b"
             ],
             [
              0.6666666666666666,
              "#ed7953"
             ],
             [
              0.7777777777777778,
              "#fb9f3a"
             ],
             [
              0.8888888888888888,
              "#fdca26"
             ],
             [
              1,
              "#f0f921"
             ]
            ],
            "type": "surface"
           }
          ],
          "table": [
           {
            "cells": {
             "fill": {
              "color": "#EBF0F8"
             },
             "line": {
              "color": "white"
             }
            },
            "header": {
             "fill": {
              "color": "#C8D4E3"
             },
             "line": {
              "color": "white"
             }
            },
            "type": "table"
           }
          ]
         },
         "layout": {
          "annotationdefaults": {
           "arrowcolor": "#2a3f5f",
           "arrowhead": 0,
           "arrowwidth": 1
          },
          "autotypenumbers": "strict",
          "coloraxis": {
           "colorbar": {
            "outlinewidth": 0,
            "ticks": ""
           }
          },
          "colorscale": {
           "diverging": [
            [
             0,
             "#8e0152"
            ],
            [
             0.1,
             "#c51b7d"
            ],
            [
             0.2,
             "#de77ae"
            ],
            [
             0.3,
             "#f1b6da"
            ],
            [
             0.4,
             "#fde0ef"
            ],
            [
             0.5,
             "#f7f7f7"
            ],
            [
             0.6,
             "#e6f5d0"
            ],
            [
             0.7,
             "#b8e186"
            ],
            [
             0.8,
             "#7fbc41"
            ],
            [
             0.9,
             "#4d9221"
            ],
            [
             1,
             "#276419"
            ]
           ],
           "sequential": [
            [
             0,
             "#0d0887"
            ],
            [
             0.1111111111111111,
             "#46039f"
            ],
            [
             0.2222222222222222,
             "#7201a8"
            ],
            [
             0.3333333333333333,
             "#9c179e"
            ],
            [
             0.4444444444444444,
             "#bd3786"
            ],
            [
             0.5555555555555556,
             "#d8576b"
            ],
            [
             0.6666666666666666,
             "#ed7953"
            ],
            [
             0.7777777777777778,
             "#fb9f3a"
            ],
            [
             0.8888888888888888,
             "#fdca26"
            ],
            [
             1,
             "#f0f921"
            ]
           ],
           "sequentialminus": [
            [
             0,
             "#0d0887"
            ],
            [
             0.1111111111111111,
             "#46039f"
            ],
            [
             0.2222222222222222,
             "#7201a8"
            ],
            [
             0.3333333333333333,
             "#9c179e"
            ],
            [
             0.4444444444444444,
             "#bd3786"
            ],
            [
             0.5555555555555556,
             "#d8576b"
            ],
            [
             0.6666666666666666,
             "#ed7953"
            ],
            [
             0.7777777777777778,
             "#fb9f3a"
            ],
            [
             0.8888888888888888,
             "#fdca26"
            ],
            [
             1,
             "#f0f921"
            ]
           ]
          },
          "colorway": [
           "#636efa",
           "#EF553B",
           "#00cc96",
           "#ab63fa",
           "#FFA15A",
           "#19d3f3",
           "#FF6692",
           "#B6E880",
           "#FF97FF",
           "#FECB52"
          ],
          "font": {
           "color": "#2a3f5f"
          },
          "geo": {
           "bgcolor": "white",
           "lakecolor": "white",
           "landcolor": "#E5ECF6",
           "showlakes": true,
           "showland": true,
           "subunitcolor": "white"
          },
          "hoverlabel": {
           "align": "left"
          },
          "hovermode": "closest",
          "mapbox": {
           "style": "light"
          },
          "paper_bgcolor": "white",
          "plot_bgcolor": "#E5ECF6",
          "polar": {
           "angularaxis": {
            "gridcolor": "white",
            "linecolor": "white",
            "ticks": ""
           },
           "bgcolor": "#E5ECF6",
           "radialaxis": {
            "gridcolor": "white",
            "linecolor": "white",
            "ticks": ""
           }
          },
          "scene": {
           "xaxis": {
            "backgroundcolor": "#E5ECF6",
            "gridcolor": "white",
            "gridwidth": 2,
            "linecolor": "white",
            "showbackground": true,
            "ticks": "",
            "zerolinecolor": "white"
           },
           "yaxis": {
            "backgroundcolor": "#E5ECF6",
            "gridcolor": "white",
            "gridwidth": 2,
            "linecolor": "white",
            "showbackground": true,
            "ticks": "",
            "zerolinecolor": "white"
           },
           "zaxis": {
            "backgroundcolor": "#E5ECF6",
            "gridcolor": "white",
            "gridwidth": 2,
            "linecolor": "white",
            "showbackground": true,
            "ticks": "",
            "zerolinecolor": "white"
           }
          },
          "shapedefaults": {
           "line": {
            "color": "#2a3f5f"
           }
          },
          "ternary": {
           "aaxis": {
            "gridcolor": "white",
            "linecolor": "white",
            "ticks": ""
           },
           "baxis": {
            "gridcolor": "white",
            "linecolor": "white",
            "ticks": ""
           },
           "bgcolor": "#E5ECF6",
           "caxis": {
            "gridcolor": "white",
            "linecolor": "white",
            "ticks": ""
           }
          },
          "title": {
           "x": 0.05
          },
          "xaxis": {
           "automargin": true,
           "gridcolor": "white",
           "linecolor": "white",
           "ticks": "",
           "title": {
            "standoff": 15
           },
           "zerolinecolor": "white",
           "zerolinewidth": 2
          },
          "yaxis": {
           "automargin": true,
           "gridcolor": "white",
           "linecolor": "white",
           "ticks": "",
           "title": {
            "standoff": 15
           },
           "zerolinecolor": "white",
           "zerolinewidth": 2
          }
         }
        },
        "title": {
         "text": "2D Scatter Plot Example"
        },
        "width": 600,
        "xaxis": {
         "title": {
          "text": "X Axis"
         }
        },
        "yaxis": {
         "title": {
          "text": "Y Axis"
         }
        }
       }
      }
     },
     "metadata": {},
     "output_type": "display_data"
    }
   ],
   "source": [
    "import plotly.graph_objects as go\n",
    "\n",
    "\n",
    "# Create a scatter plot\n",
    "fig = go.Figure()\n",
    "hover_text1 = data[\"File name\"].values\n",
    "hover_text2 = test[\"File name\"].values\n",
    "color_map = {\n",
    "    0: 'orange',\n",
    "    1: 'blue',\n",
    "    2: 'red'\n",
    "}\n",
    "# Add scatter trace\n",
    "fig.add_trace(go.Scatter(\n",
    "    x=X_lda[:, 0],\n",
    "    y=X_lda[:, 1],\n",
    "    mode='markers',  # Display markers and text\n",
    "    marker=dict(\n",
    "        size=10, \n",
    "        color = y,\n",
    "        colorscale='Viridis', \n",
    "        colorbar=dict(title='Type', tickvals = [0,1,2], ticktext = ['Hỗn hợp', 'Rễ', 'Thân']),  \n",
    "        showscale=True,\n",
    "        line=dict(\n",
    "            width=2,  # Width of the border\n",
    "            color='black'  # Border color\n",
    "        )\n",
    "        ),\n",
    "    hovertemplate = hover_text1,\n",
    "\n",
    "))\n",
    "fig.add_trace(go.Scatter(\n",
    "    x=X_test_lda[:, 0],\n",
    "    y=X_test_lda[:, 1],\n",
    "    mode='markers',  # Display markers and text\n",
    "    marker=dict(\n",
    "        size=10, \n",
    "        color = 'green',\n",
    "        line=dict(\n",
    "            width=2,  # Width of the border\n",
    "            color='black'  # Border color\n",
    "        )\n",
    "        ),\n",
    "    hovertemplate = hover_text2,\n",
    "\n",
    "))\n",
    "\n",
    "# Update layout\n",
    "fig.update_layout(\n",
    "    title='2D Scatter Plot Example',\n",
    "    xaxis_title='X Axis',\n",
    "    yaxis_title='Y Axis',\n",
    "    width = 600,\n",
    "    height = 600,\n",
    ")\n",
    "\n",
    "# Show the plot\n",
    "fig.show()"
   ]
  }
 ],
 "metadata": {
  "kernelspec": {
   "display_name": "Python 3",
   "language": "python",
   "name": "python3"
  },
  "language_info": {
   "codemirror_mode": {
    "name": "ipython",
    "version": 3
   },
   "file_extension": ".py",
   "mimetype": "text/x-python",
   "name": "python",
   "nbconvert_exporter": "python",
   "pygments_lexer": "ipython3",
   "version": "3.11.6"
  }
 },
 "nbformat": 4,
 "nbformat_minor": 2
}
