{
 "cells": [
  {
   "cell_type": "code",
   "execution_count": 33,
   "metadata": {},
   "outputs": [],
   "source": [
    "import os\n",
    "import pandas as pd\n",
    "import numpy as np\n",
    "import matplotlib.pyplot as plt\n",
    "from scipy.signal import savgol_filter\n",
    "import matplotlib.lines as mlines"
   ]
  },
  {
   "cell_type": "markdown",
   "metadata": {},
   "source": [
    "### Hỗn hợp"
   ]
  },
  {
   "cell_type": "code",
   "execution_count": 34,
   "metadata": {},
   "outputs": [],
   "source": [
    "honhop_folder = \"data/Honhop\"\n",
    "data_frames = []\n",
    "file_names = []\n",
    "for index, file_name in enumerate(os.listdir(honhop_folder)):\n",
    "    if file_name.endswith(\".CSV\"):  # Check if the file is a CSV\n",
    "        file_path = os.path.join(honhop_folder, file_name)\n",
    "        df = pd.read_csv(file_path, header=None).values\n",
    "        if index == 0:\n",
    "            data_frames.append(df[:, 0].reshape(1, -1))\n",
    "        data_frames.append(df[:, 1].reshape(1, -1))\n",
    "        file_names.append(file_name)\n",
    "honhop = pd.DataFrame(np.concatenate(data_frames[1:]), columns=list(data_frames[0]))\n",
    "honhop.columns = ['_'.join(map(str, col)) for col in honhop.columns]\n",
    "honhop[\"File name\"] = file_names\n",
    "honhop[\"Type\"] = honhop[\"File name\"].str.split(\"-\", expand=True)[0].str[0]\n",
    "honhop_deriv = savgol_filter(honhop.iloc[:, :-2], window_length=25, polyorder=5, deriv=2)\n",
    "honhop.iloc[:, :-2] = honhop_deriv"
   ]
  },
  {
   "cell_type": "markdown",
   "metadata": {},
   "source": [
    "### Rễ"
   ]
  },
  {
   "cell_type": "code",
   "execution_count": 35,
   "metadata": {},
   "outputs": [],
   "source": [
    "re_folder = \"data/Re\"\n",
    "data_frames = []\n",
    "file_names = []\n",
    "for index, file_name in enumerate(os.listdir(re_folder)):\n",
    "    if file_name.endswith(\".CSV\"):  # Check if the file is a CSV\n",
    "        file_path = os.path.join(re_folder, file_name)\n",
    "        df = pd.read_csv(file_path, header=None).values\n",
    "        if index == 0:\n",
    "            data_frames.append(df[:, 0].reshape(1, -1))\n",
    "        data_frames.append(df[:, 1].reshape(1, -1))\n",
    "        file_names.append(file_name)\n",
    "re = pd.DataFrame(np.concatenate(data_frames[1:]), columns=list(data_frames[0]))\n",
    "re.columns = ['_'.join(map(str, col)) for col in re.columns]\n",
    "re[\"File name\"] = file_names\n",
    "re[\"Type\"] = re[\"File name\"].str.split(\"-\", expand=True)[0].str[0]\n",
    "re_deriv = savgol_filter(re.iloc[:, :-2], window_length=25, polyorder=5, deriv=2)\n",
    "re.iloc[:, :-2] = re_deriv"
   ]
  },
  {
   "cell_type": "markdown",
   "metadata": {},
   "source": [
    "### Thân"
   ]
  },
  {
   "cell_type": "code",
   "execution_count": 36,
   "metadata": {},
   "outputs": [],
   "source": [
    "than_folder = \"data/Than\"\n",
    "data_frames = []\n",
    "file_names = []\n",
    "for index, file_name in enumerate(os.listdir(than_folder)):\n",
    "    if file_name.endswith(\".CSV\"):  # Check if the file is a CSV\n",
    "        file_path = os.path.join(than_folder, file_name)\n",
    "        df = pd.read_csv(file_path, header=None).values\n",
    "        if index == 0:\n",
    "            data_frames.append(df[:, 0].reshape(1, -1))\n",
    "        data_frames.append(df[:, 1].reshape(1, -1))\n",
    "        file_names.append(file_name)\n",
    "than = pd.DataFrame(np.concatenate(data_frames[1:]), columns=list(data_frames[0]))\n",
    "than.columns = ['_'.join(map(str, col)) for col in than.columns]\n",
    "than[\"File name\"] = file_names\n",
    "than[\"Type\"] = than[\"File name\"].str.split(\"-\", expand=True)[0].str[0]\n",
    "than_deriv = savgol_filter(than.iloc[:, :-2], window_length=25, polyorder=5, deriv=2)\n",
    "than.iloc[:, :-2] = than_deriv"
   ]
  },
  {
   "cell_type": "code",
   "execution_count": 37,
   "metadata": {},
   "outputs": [],
   "source": [
    "data_rethan = pd.concat([re, than], axis=0)"
   ]
  },
  {
   "cell_type": "code",
   "execution_count": 38,
   "metadata": {},
   "outputs": [],
   "source": [
    "from sklearn.decomposition import PCA\n",
    "from sklearn.preprocessing import StandardScaler, MinMaxScaler\n",
    "\n",
    "scaler = MinMaxScaler()\n",
    "scaled_data_rethan = scaler.fit_transform(data_rethan.iloc[:, :-2])\n",
    "scaled_honhop = scaler.transform(honhop.iloc[:, :-2])\n",
    "\n",
    "pca = PCA(3)\n",
    "X_rethan = pca.fit_transform(scaled_data_rethan)\n",
    "X_honhop = pca.transform(scaled_honhop)\n",
    "X_re = X_rethan[:re.shape[0], :]\n",
    "X_than = X_rethan[re.shape[0]:, :]"
   ]
  },
  {
   "cell_type": "code",
   "execution_count": 39,
   "metadata": {},
   "outputs": [
    {
     "data": {
      "application/vnd.plotly.v1+json": {
       "config": {
        "plotlyServerURL": "https://plot.ly"
       },
       "data": [
        {
         "hovertemplate": [
          "R-DLS1-1.CSV",
          "R-DLS1-2.CSV",
          "R-DLS1-3.CSV",
          "R-DLS1-4.CSV",
          "R-DLS1-5.CSV",
          "R-PF1-1.CSV",
          "R-PF1-2.CSV",
          "R-PF1-3.CSV",
          "R-PF1-4.CSV",
          "R-PF1-5.CSV",
          "R10-1.CSV",
          "R10-2.CSV",
          "R10-3.CSV",
          "R10-4.CSV",
          "R10-5.CSV",
          "R16-1.CSV",
          "R16-2.CSV",
          "R16-3.CSV",
          "R16-4.CSV",
          "R16-5.CSV",
          "R3_New-1.CSV",
          "R3_New-2.CSV",
          "R3_New-3.CSV",
          "R3_New-4.CSV",
          "R3_New-5.CSV",
          "R4-1.CSV",
          "R4-2.CSV",
          "R4-3.CSV",
          "R4-4.CSV",
          "R4-5.CSV"
         ],
         "marker": {
          "color": "blue",
          "opacity": 0.8,
          "size": 5
         },
         "mode": "markers",
         "name": "Rễ",
         "type": "scatter3d",
         "x": [
          -5.37196359325194,
          -4.770665477776041,
          -5.737036970323839,
          -3.7630379116620367,
          -3.868347351591673,
          -3.0962344065126084,
          -2.7797391469292236,
          -2.4816419141629673,
          -3.2229522680010025,
          -0.22801756648389498,
          -1.6811952025148007,
          -2.168725818008478,
          -3.6733678457568124,
          -2.9188984533365834,
          -5.649997661446629,
          -5.649997661446629,
          -4.545005658216933,
          -3.174039400466328,
          -6.445293998313985,
          -5.392287393588789,
          -3.110087046140011,
          -2.852349131539853,
          -3.2178835604343226,
          -3.1018297756746196,
          -2.5326014770363687,
          -3.929939627277306,
          -5.098415504718883,
          -5.374978579471044,
          -4.205541312909696,
          -4.065856367486463
         ],
         "y": [
          -3.8492418783469855,
          -0.9330998670799221,
          0.5132910712556534,
          4.65073425766315,
          3.441655894946945,
          0.46017554622546863,
          5.823364352219368,
          4.835709125565162,
          -0.3834386461617681,
          5.448128598274382,
          1.6381549682195875,
          0.11728444972180986,
          -6.125775668434245,
          -0.5381204922601751,
          -5.750815293851449,
          -5.750815293851449,
          -0.5900174320056106,
          4.96763533622422,
          2.4921183119268253,
          5.833362753476751,
          1.1425035302390742,
          -1.0144832028095272,
          -1.6624273323056897,
          -1.9784733594754804,
          -2.7438552176429316,
          -2.2981819705890003,
          -5.5846201714457875,
          -4.8934755003970665,
          -0.7812212183639308,
          -2.1697282880061834
         ],
         "z": [
          2.5475091152640594,
          1.518546807024525,
          2.386969996540661,
          2.1235863675188567,
          1.896433050834229,
          2.20471023468424,
          4.579764821962031,
          3.9875345178255004,
          3.1360910164791025,
          1.5905359261806766,
          -2.850854578360024,
          -0.6891486823719827,
          -0.3885404391083662,
          -0.5825261508327199,
          1.0088873643378993,
          1.0088873643378993,
          0.4094845608135449,
          -1.071273295195972,
          0.6640440927920395,
          -0.04329367457220263,
          -4.1613258497877,
          -3.225633630088468,
          -3.5691608475766277,
          -3.6417139050034986,
          -3.2017840089931147,
          0.23833363869463955,
          1.8752567267710285,
          1.2310380862578763,
          0.40706879155853676,
          0.44821211126681676
         ]
        },
        {
         "hovertemplate": [
          "T1-1.CSV",
          "T1-2.CSV",
          "T1-3.CSV",
          "T1-4.CSV",
          "T1-5.CSV",
          "T10-1.CSV",
          "T10-2.CSV",
          "T10-3.CSV",
          "T10-4.CSV",
          "T10-5.CSV",
          "T4-1.CSV",
          "T4-2.CSV",
          "T4-3.CSV",
          "T4-4.CSV",
          "T4-5.CSV",
          "T5-1.CSV",
          "T5-2.CSV",
          "T5-3.CSV",
          "T5-4.CSV",
          "T5-5.CSV",
          "T7-1.CSV",
          "T7-2.CSV",
          "T7-3.CSV",
          "T7-4.CSV",
          "T7-5.CSV",
          "T9-1.CSV",
          "T9-2.CSV",
          "T9-3.CSV",
          "T9-4.CSV",
          "T9-5.CSV"
         ],
         "marker": {
          "color": "red",
          "opacity": 0.8,
          "size": 5
         },
         "mode": "markers",
         "name": "Thân",
         "type": "scatter3d",
         "x": [
          1.6972477273741644,
          2.1561865129942697,
          0.41467360568222555,
          0.7933881804451572,
          0.5772817327601251,
          -1.0072925701519786,
          2.5522342587871996,
          3.111802931980329,
          1.2116026746915847,
          2.4586085630718757,
          5.401371917027906,
          3.2776504830132236,
          7.326590299066362,
          8.089715709533053,
          7.680448435220565,
          5.504705682495628,
          3.334984568484995,
          9.490910634768065,
          8.1593190256589,
          11.620950350287405,
          2.2019593802678514,
          1.1871515498752763,
          1.160250329363423,
          -1.0473365471893703,
          2.8884223362325807,
          3.7883253181601115,
          5.457919611980734,
          4.748937918355169,
          4.828270295157778,
          5.041647167085141
         ],
         "y": [
          3.1629430284674247,
          6.248778830318826,
          0.7790460323923002,
          -0.8365520624454985,
          -1.2392129586328748,
          -0.7990433487070102,
          5.9642869967971395,
          7.8908743988727394,
          3.977488876437753,
          5.931953129090285,
          -3.6923054542210254,
          -3.770367027550515,
          -2.7085667715455193,
          -6.25364254989736,
          -3.8324024862024855,
          -3.423369576203579,
          -5.157336378335106,
          2.266667062719409,
          -3.324404465940621,
          -1.898849579561503,
          -0.1895350355242897,
          1.13115343084345,
          1.4708932321692716,
          -1.1902929248113694,
          -4.024022107843789,
          1.4696429392321209,
          3.170716539260427,
          1.7307754934066777,
          1.7408409776520197,
          1.0875143968314989
         ],
         "z": [
          -5.243130863125545,
          -5.55717609231933,
          -3.6633143444834393,
          -3.5495161538739692,
          -3.1602554138658827,
          1.4122232258857585,
          -0.7682310409512311,
          -0.9081337177144679,
          1.0891195373237432,
          -0.6939382806578059,
          -2.6141411398917556,
          -1.8127118465406298,
          -3.890324401486836,
          -4.7482192168983754,
          -3.0445802604545493,
          6.037113896879015,
          6.356845293958057,
          7.112161463102434,
          5.179887703638299,
          4.197382035604355,
          -0.4258589110683048,
          0.16368790073244588,
          0.16785186683633363,
          0.7405658549020101,
          -2.147548873233396,
          -0.6398969940012539,
          0.3758076177486971,
          0.21513844192651424,
          0.11850053679488749,
          -0.13694735401924957
         ]
        },
        {
         "hovertemplate": [
          "D10_-1-1.CSV",
          "D10_-1-2.CSV",
          "D10_-1-3.CSV",
          "D10_-1-4.CSV",
          "D10_-1-5.CSV",
          "D10_-2-1.CSV",
          "D10_-2-2.CSV",
          "D10_-2-3.CSV",
          "D10_-2-4.CSV",
          "D10_-2-5.CSV",
          "D3-1-1.CSV",
          "D3-1-2.CSV",
          "D3-1-3.CSV",
          "D3-1-4.CSV",
          "D3-1-5.CSV",
          "D5_-1-1.CSV",
          "D5_-1-2.CSV",
          "D5_-1-3.CSV",
          "D5_-1-4.CSV",
          "D5_-1-5.CSV",
          "D5_-2-1.CSV",
          "D5_-2-2.CSV",
          "D5_-2-3.CSV",
          "D5_-2-4.CSV",
          "D5_-2-5.CSV"
         ],
         "marker": {
          "color": "orange",
          "opacity": 0.8,
          "size": 5
         },
         "mode": "markers",
         "name": "Hỗn hợp",
         "type": "scatter3d",
         "x": [
          -0.712722999468179,
          1.9712449358138322,
          0.8657739765707373,
          4.247477063912948,
          4.215437812745028,
          -0.15957666209189605,
          -0.10855741307792727,
          -2.2680220717219974,
          -1.9048569087702656,
          -2.436169786638064,
          -3.9840665843423175,
          -3.961437715068491,
          -3.693167089584252,
          -3.6357378675453553,
          -4.705930929454569,
          0.736639022233951,
          1.528448748974478,
          -0.7512985344896718,
          1.6533428913338164,
          1.4218424849348148,
          -2.290041952776106,
          -2.4550296393382514,
          -1.753833430150864,
          -1.6978893129341643,
          -4.0508213889904985
         ],
         "y": [
          -1.24591386349563,
          1.944835419714582,
          1.1540838449604285,
          6.07719023614185,
          6.078957477336558,
          4.272409754933061,
          3.946926378214699,
          1.1877077690590059,
          1.1656468328228768,
          3.1045548385343267,
          -4.9238031868954675,
          -4.952085210894634,
          -3.6868004910207524,
          -3.7120161279972583,
          -7.224196029573145,
          0.43125675997864127,
          -0.4714049874329073,
          -3.923833088009933,
          -0.2738571453864409,
          -0.4772260106621718,
          -1.1111773011870407,
          -1.0551197058402866,
          2.6916179640769613,
          2.6486923280586017,
          -3.8309485007085735
         ],
         "z": [
          0.9979543387519663,
          1.98403881869555,
          0.13399498823109696,
          -0.21186099083872745,
          -0.10045564472385171,
          -5.1636530215110605,
          -5.220871175555482,
          -2.0257262747382603,
          -2.352053410271534,
          -2.8471399882076214,
          -0.6301631316044678,
          -0.39246992048384544,
          -0.4759757128508318,
          -0.3237417451416753,
          0.4615353146708202,
          0.6402856909348383,
          0.6382078565655431,
          0.8333641133640095,
          1.5606413437854671,
          1.7949735675249974,
          -1.0876221414131655,
          -1.103517436268333,
          -1.3205209387372232,
          -1.4101167431111798,
          1.0700567452649299
         ]
        }
       ],
       "layout": {
        "height": 600,
        "scene": {
         "xaxis": {
          "title": {
           "text": "X Axis"
          }
         },
         "yaxis": {
          "title": {
           "text": "Y Axis"
          }
         },
         "zaxis": {
          "title": {
           "text": "Z Axis"
          }
         }
        },
        "template": {
         "data": {
          "bar": [
           {
            "error_x": {
             "color": "#2a3f5f"
            },
            "error_y": {
             "color": "#2a3f5f"
            },
            "marker": {
             "line": {
              "color": "#E5ECF6",
              "width": 0.5
             },
             "pattern": {
              "fillmode": "overlay",
              "size": 10,
              "solidity": 0.2
             }
            },
            "type": "bar"
           }
          ],
          "barpolar": [
           {
            "marker": {
             "line": {
              "color": "#E5ECF6",
              "width": 0.5
             },
             "pattern": {
              "fillmode": "overlay",
              "size": 10,
              "solidity": 0.2
             }
            },
            "type": "barpolar"
           }
          ],
          "carpet": [
           {
            "aaxis": {
             "endlinecolor": "#2a3f5f",
             "gridcolor": "white",
             "linecolor": "white",
             "minorgridcolor": "white",
             "startlinecolor": "#2a3f5f"
            },
            "baxis": {
             "endlinecolor": "#2a3f5f",
             "gridcolor": "white",
             "linecolor": "white",
             "minorgridcolor": "white",
             "startlinecolor": "#2a3f5f"
            },
            "type": "carpet"
           }
          ],
          "choropleth": [
           {
            "colorbar": {
             "outlinewidth": 0,
             "ticks": ""
            },
            "type": "choropleth"
           }
          ],
          "contour": [
           {
            "colorbar": {
             "outlinewidth": 0,
             "ticks": ""
            },
            "colorscale": [
             [
              0,
              "#0d0887"
             ],
             [
              0.1111111111111111,
              "#46039f"
             ],
             [
              0.2222222222222222,
              "#7201a8"
             ],
             [
              0.3333333333333333,
              "#9c179e"
             ],
             [
              0.4444444444444444,
              "#bd3786"
             ],
             [
              0.5555555555555556,
              "#d8576b"
             ],
             [
              0.6666666666666666,
              "#ed7953"
             ],
             [
              0.7777777777777778,
              "#fb9f3a"
             ],
             [
              0.8888888888888888,
              "#fdca26"
             ],
             [
              1,
              "#f0f921"
             ]
            ],
            "type": "contour"
           }
          ],
          "contourcarpet": [
           {
            "colorbar": {
             "outlinewidth": 0,
             "ticks": ""
            },
            "type": "contourcarpet"
           }
          ],
          "heatmap": [
           {
            "colorbar": {
             "outlinewidth": 0,
             "ticks": ""
            },
            "colorscale": [
             [
              0,
              "#0d0887"
             ],
             [
              0.1111111111111111,
              "#46039f"
             ],
             [
              0.2222222222222222,
              "#7201a8"
             ],
             [
              0.3333333333333333,
              "#9c179e"
             ],
             [
              0.4444444444444444,
              "#bd3786"
             ],
             [
              0.5555555555555556,
              "#d8576b"
             ],
             [
              0.6666666666666666,
              "#ed7953"
             ],
             [
              0.7777777777777778,
              "#fb9f3a"
             ],
             [
              0.8888888888888888,
              "#fdca26"
             ],
             [
              1,
              "#f0f921"
             ]
            ],
            "type": "heatmap"
           }
          ],
          "heatmapgl": [
           {
            "colorbar": {
             "outlinewidth": 0,
             "ticks": ""
            },
            "colorscale": [
             [
              0,
              "#0d0887"
             ],
             [
              0.1111111111111111,
              "#46039f"
             ],
             [
              0.2222222222222222,
              "#7201a8"
             ],
             [
              0.3333333333333333,
              "#9c179e"
             ],
             [
              0.4444444444444444,
              "#bd3786"
             ],
             [
              0.5555555555555556,
              "#d8576b"
             ],
             [
              0.6666666666666666,
              "#ed7953"
             ],
             [
              0.7777777777777778,
              "#fb9f3a"
             ],
             [
              0.8888888888888888,
              "#fdca26"
             ],
             [
              1,
              "#f0f921"
             ]
            ],
            "type": "heatmapgl"
           }
          ],
          "histogram": [
           {
            "marker": {
             "pattern": {
              "fillmode": "overlay",
              "size": 10,
              "solidity": 0.2
             }
            },
            "type": "histogram"
           }
          ],
          "histogram2d": [
           {
            "colorbar": {
             "outlinewidth": 0,
             "ticks": ""
            },
            "colorscale": [
             [
              0,
              "#0d0887"
             ],
             [
              0.1111111111111111,
              "#46039f"
             ],
             [
              0.2222222222222222,
              "#7201a8"
             ],
             [
              0.3333333333333333,
              "#9c179e"
             ],
             [
              0.4444444444444444,
              "#bd3786"
             ],
             [
              0.5555555555555556,
              "#d8576b"
             ],
             [
              0.6666666666666666,
              "#ed7953"
             ],
             [
              0.7777777777777778,
              "#fb9f3a"
             ],
             [
              0.8888888888888888,
              "#fdca26"
             ],
             [
              1,
              "#f0f921"
             ]
            ],
            "type": "histogram2d"
           }
          ],
          "histogram2dcontour": [
           {
            "colorbar": {
             "outlinewidth": 0,
             "ticks": ""
            },
            "colorscale": [
             [
              0,
              "#0d0887"
             ],
             [
              0.1111111111111111,
              "#46039f"
             ],
             [
              0.2222222222222222,
              "#7201a8"
             ],
             [
              0.3333333333333333,
              "#9c179e"
             ],
             [
              0.4444444444444444,
              "#bd3786"
             ],
             [
              0.5555555555555556,
              "#d8576b"
             ],
             [
              0.6666666666666666,
              "#ed7953"
             ],
             [
              0.7777777777777778,
              "#fb9f3a"
             ],
             [
              0.8888888888888888,
              "#fdca26"
             ],
             [
              1,
              "#f0f921"
             ]
            ],
            "type": "histogram2dcontour"
           }
          ],
          "mesh3d": [
           {
            "colorbar": {
             "outlinewidth": 0,
             "ticks": ""
            },
            "type": "mesh3d"
           }
          ],
          "parcoords": [
           {
            "line": {
             "colorbar": {
              "outlinewidth": 0,
              "ticks": ""
             }
            },
            "type": "parcoords"
           }
          ],
          "pie": [
           {
            "automargin": true,
            "type": "pie"
           }
          ],
          "scatter": [
           {
            "fillpattern": {
             "fillmode": "overlay",
             "size": 10,
             "solidity": 0.2
            },
            "type": "scatter"
           }
          ],
          "scatter3d": [
           {
            "line": {
             "colorbar": {
              "outlinewidth": 0,
              "ticks": ""
             }
            },
            "marker": {
             "colorbar": {
              "outlinewidth": 0,
              "ticks": ""
             }
            },
            "type": "scatter3d"
           }
          ],
          "scattercarpet": [
           {
            "marker": {
             "colorbar": {
              "outlinewidth": 0,
              "ticks": ""
             }
            },
            "type": "scattercarpet"
           }
          ],
          "scattergeo": [
           {
            "marker": {
             "colorbar": {
              "outlinewidth": 0,
              "ticks": ""
             }
            },
            "type": "scattergeo"
           }
          ],
          "scattergl": [
           {
            "marker": {
             "colorbar": {
              "outlinewidth": 0,
              "ticks": ""
             }
            },
            "type": "scattergl"
           }
          ],
          "scattermapbox": [
           {
            "marker": {
             "colorbar": {
              "outlinewidth": 0,
              "ticks": ""
             }
            },
            "type": "scattermapbox"
           }
          ],
          "scatterpolar": [
           {
            "marker": {
             "colorbar": {
              "outlinewidth": 0,
              "ticks": ""
             }
            },
            "type": "scatterpolar"
           }
          ],
          "scatterpolargl": [
           {
            "marker": {
             "colorbar": {
              "outlinewidth": 0,
              "ticks": ""
             }
            },
            "type": "scatterpolargl"
           }
          ],
          "scatterternary": [
           {
            "marker": {
             "colorbar": {
              "outlinewidth": 0,
              "ticks": ""
             }
            },
            "type": "scatterternary"
           }
          ],
          "surface": [
           {
            "colorbar": {
             "outlinewidth": 0,
             "ticks": ""
            },
            "colorscale": [
             [
              0,
              "#0d0887"
             ],
             [
              0.1111111111111111,
              "#46039f"
             ],
             [
              0.2222222222222222,
              "#7201a8"
             ],
             [
              0.3333333333333333,
              "#9c179e"
             ],
             [
              0.4444444444444444,
              "#bd3786"
             ],
             [
              0.5555555555555556,
              "#d8576b"
             ],
             [
              0.6666666666666666,
              "#ed7953"
             ],
             [
              0.7777777777777778,
              "#fb9f3a"
             ],
             [
              0.8888888888888888,
              "#fdca26"
             ],
             [
              1,
              "#f0f921"
             ]
            ],
            "type": "surface"
           }
          ],
          "table": [
           {
            "cells": {
             "fill": {
              "color": "#EBF0F8"
             },
             "line": {
              "color": "white"
             }
            },
            "header": {
             "fill": {
              "color": "#C8D4E3"
             },
             "line": {
              "color": "white"
             }
            },
            "type": "table"
           }
          ]
         },
         "layout": {
          "annotationdefaults": {
           "arrowcolor": "#2a3f5f",
           "arrowhead": 0,
           "arrowwidth": 1
          },
          "autotypenumbers": "strict",
          "coloraxis": {
           "colorbar": {
            "outlinewidth": 0,
            "ticks": ""
           }
          },
          "colorscale": {
           "diverging": [
            [
             0,
             "#8e0152"
            ],
            [
             0.1,
             "#c51b7d"
            ],
            [
             0.2,
             "#de77ae"
            ],
            [
             0.3,
             "#f1b6da"
            ],
            [
             0.4,
             "#fde0ef"
            ],
            [
             0.5,
             "#f7f7f7"
            ],
            [
             0.6,
             "#e6f5d0"
            ],
            [
             0.7,
             "#b8e186"
            ],
            [
             0.8,
             "#7fbc41"
            ],
            [
             0.9,
             "#4d9221"
            ],
            [
             1,
             "#276419"
            ]
           ],
           "sequential": [
            [
             0,
             "#0d0887"
            ],
            [
             0.1111111111111111,
             "#46039f"
            ],
            [
             0.2222222222222222,
             "#7201a8"
            ],
            [
             0.3333333333333333,
             "#9c179e"
            ],
            [
             0.4444444444444444,
             "#bd3786"
            ],
            [
             0.5555555555555556,
             "#d8576b"
            ],
            [
             0.6666666666666666,
             "#ed7953"
            ],
            [
             0.7777777777777778,
             "#fb9f3a"
            ],
            [
             0.8888888888888888,
             "#fdca26"
            ],
            [
             1,
             "#f0f921"
            ]
           ],
           "sequentialminus": [
            [
             0,
             "#0d0887"
            ],
            [
             0.1111111111111111,
             "#46039f"
            ],
            [
             0.2222222222222222,
             "#7201a8"
            ],
            [
             0.3333333333333333,
             "#9c179e"
            ],
            [
             0.4444444444444444,
             "#bd3786"
            ],
            [
             0.5555555555555556,
             "#d8576b"
            ],
            [
             0.6666666666666666,
             "#ed7953"
            ],
            [
             0.7777777777777778,
             "#fb9f3a"
            ],
            [
             0.8888888888888888,
             "#fdca26"
            ],
            [
             1,
             "#f0f921"
            ]
           ]
          },
          "colorway": [
           "#636efa",
           "#EF553B",
           "#00cc96",
           "#ab63fa",
           "#FFA15A",
           "#19d3f3",
           "#FF6692",
           "#B6E880",
           "#FF97FF",
           "#FECB52"
          ],
          "font": {
           "color": "#2a3f5f"
          },
          "geo": {
           "bgcolor": "white",
           "lakecolor": "white",
           "landcolor": "#E5ECF6",
           "showlakes": true,
           "showland": true,
           "subunitcolor": "white"
          },
          "hoverlabel": {
           "align": "left"
          },
          "hovermode": "closest",
          "mapbox": {
           "style": "light"
          },
          "paper_bgcolor": "white",
          "plot_bgcolor": "#E5ECF6",
          "polar": {
           "angularaxis": {
            "gridcolor": "white",
            "linecolor": "white",
            "ticks": ""
           },
           "bgcolor": "#E5ECF6",
           "radialaxis": {
            "gridcolor": "white",
            "linecolor": "white",
            "ticks": ""
           }
          },
          "scene": {
           "xaxis": {
            "backgroundcolor": "#E5ECF6",
            "gridcolor": "white",
            "gridwidth": 2,
            "linecolor": "white",
            "showbackground": true,
            "ticks": "",
            "zerolinecolor": "white"
           },
           "yaxis": {
            "backgroundcolor": "#E5ECF6",
            "gridcolor": "white",
            "gridwidth": 2,
            "linecolor": "white",
            "showbackground": true,
            "ticks": "",
            "zerolinecolor": "white"
           },
           "zaxis": {
            "backgroundcolor": "#E5ECF6",
            "gridcolor": "white",
            "gridwidth": 2,
            "linecolor": "white",
            "showbackground": true,
            "ticks": "",
            "zerolinecolor": "white"
           }
          },
          "shapedefaults": {
           "line": {
            "color": "#2a3f5f"
           }
          },
          "ternary": {
           "aaxis": {
            "gridcolor": "white",
            "linecolor": "white",
            "ticks": ""
           },
           "baxis": {
            "gridcolor": "white",
            "linecolor": "white",
            "ticks": ""
           },
           "bgcolor": "#E5ECF6",
           "caxis": {
            "gridcolor": "white",
            "linecolor": "white",
            "ticks": ""
           }
          },
          "title": {
           "x": 0.05
          },
          "xaxis": {
           "automargin": true,
           "gridcolor": "white",
           "linecolor": "white",
           "ticks": "",
           "title": {
            "standoff": 15
           },
           "zerolinecolor": "white",
           "zerolinewidth": 2
          },
          "yaxis": {
           "automargin": true,
           "gridcolor": "white",
           "linecolor": "white",
           "ticks": "",
           "title": {
            "standoff": 15
           },
           "zerolinecolor": "white",
           "zerolinewidth": 2
          }
         }
        },
        "title": {
         "text": "Multiple 3D Scatter Plots Example"
        },
        "width": 800
       }
      }
     },
     "metadata": {},
     "output_type": "display_data"
    }
   ],
   "source": [
    "import plotly.graph_objects as go\n",
    "import numpy as np\n",
    "\n",
    "x1 = X_re[:, 0]\n",
    "y1 = X_re[:, 1]\n",
    "z1 = X_re[:, 2]\n",
    "\n",
    "x2 = X_than[:, 0]\n",
    "y2 = X_than[:, 1]\n",
    "z2 = X_than[:, 2]\n",
    "\n",
    "x3 = X_honhop[:, 0]\n",
    "y3 = X_honhop[:, 1]\n",
    "z3 = X_honhop[:, 2]\n",
    "\n",
    "hover_text_re = re[\"File name\"].values\n",
    "hover_text_than = than[\"File name\"].values\n",
    "hover_text_honhop = honhop[\"File name\"].values\n",
    "\n",
    "# Create a 3D scatter plot\n",
    "fig = go.Figure()\n",
    "# Add the first scatter trace\n",
    "fig.add_trace(go.Scatter3d(\n",
    "    x=x1,\n",
    "    y=y1,\n",
    "    z=z1,\n",
    "    mode='markers',\n",
    "    marker=dict(\n",
    "        size=5,\n",
    "        color='blue',  # Color for the first set\n",
    "        opacity=0.8\n",
    "    ),\n",
    "    hovertemplate = hover_text_re,\n",
    "    name='Rễ'  # Name for the legend\n",
    "))\n",
    "\n",
    "# Add the second scatter trace\n",
    "fig.add_trace(go.Scatter3d(\n",
    "    x=x2,\n",
    "    y=y2,\n",
    "    z=z2,\n",
    "    mode='markers',\n",
    "    marker=dict(\n",
    "        size=5,\n",
    "        color='red',  # Color for the second set\n",
    "        opacity=0.8\n",
    "    ),\n",
    "    hovertemplate = hover_text_than,\n",
    "    name='Thân'  # Name for the legend\n",
    "))\n",
    "\n",
    "fig.add_trace(go.Scatter3d(\n",
    "    x=x3,\n",
    "    y=y3,\n",
    "    z=z3,\n",
    "    mode='markers',\n",
    "    marker=dict(\n",
    "        size=5,\n",
    "        color='orange',  # Color for the second set\n",
    "        opacity=0.8\n",
    "    ),\n",
    "    hovertemplate = hover_text_honhop,\n",
    "    name='Hỗn hợp'  # Name for the legend\n",
    "))\n",
    "\n",
    "# Set the layout of the plot\n",
    "fig.update_layout(\n",
    "    scene=dict(\n",
    "        xaxis_title='X Axis',\n",
    "        yaxis_title='Y Axis',\n",
    "        zaxis_title='Z Axis'\n",
    "    ),\n",
    "    width = 800,\n",
    "    height = 600,\n",
    "    title='Multiple 3D Scatter Plots Example'\n",
    ")\n",
    "\n",
    "# Show the plot\n",
    "fig.show()"
   ]
  }
 ],
 "metadata": {
  "kernelspec": {
   "display_name": "Python 3",
   "language": "python",
   "name": "python3"
  },
  "language_info": {
   "codemirror_mode": {
    "name": "ipython",
    "version": 3
   },
   "file_extension": ".py",
   "mimetype": "text/x-python",
   "name": "python",
   "nbconvert_exporter": "python",
   "pygments_lexer": "ipython3",
   "version": "3.11.6"
  }
 },
 "nbformat": 4,
 "nbformat_minor": 2
}
