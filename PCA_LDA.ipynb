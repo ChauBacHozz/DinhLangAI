{
 "cells": [
  {
   "cell_type": "code",
   "execution_count": 111,
   "metadata": {},
   "outputs": [],
   "source": [
    "import os\n",
    "import pandas as pd\n",
    "import numpy as np\n",
    "import matplotlib.pyplot as plt\n",
    "from scipy.signal import savgol_filter\n",
    "import matplotlib.lines as mlines\n",
    "from sklearn.model_selection import cross_val_score\n",
    "from sklearn.metrics import mean_squared_error, r2_score\n",
    "from sklearn.decomposition import PCA\n",
    "from sys import stdout"
   ]
  },
  {
   "cell_type": "code",
   "execution_count": 112,
   "metadata": {},
   "outputs": [],
   "source": [
    "deriv_num = 0\n",
    "window_len = 25\n",
    "poly_or = 5"
   ]
  },
  {
   "cell_type": "markdown",
   "metadata": {},
   "source": [
    "### Hỗn hợp"
   ]
  },
  {
   "cell_type": "code",
   "execution_count": 113,
   "metadata": {},
   "outputs": [],
   "source": [
    "honhop_folder = \"data2/Honhop\"\n",
    "data_frames = []\n",
    "file_names = []\n",
    "for index, file_name in enumerate(os.listdir(honhop_folder)):\n",
    "    if file_name.endswith(\".CSV\"):  # Check if the file is a CSV\n",
    "        file_path = os.path.join(honhop_folder, file_name)\n",
    "        df = pd.read_csv(file_path, header=None).values\n",
    "        if index == 0:\n",
    "            data_frames.append(df[:, 0].reshape(1, -1))\n",
    "        data_frames.append(df[:, 1].reshape(1, -1))\n",
    "        file_names.append(file_name)\n",
    "honhop = pd.DataFrame(np.concatenate(data_frames[1:]), columns=list(data_frames[0]))\n",
    "honhop.columns = ['_'.join(map(str, col)) for col in honhop.columns]\n",
    "honhop[\"File name\"] = file_names\n",
    "honhop[\"Type\"] = honhop[\"File name\"].str.split(\"-\", expand=True)[0].str[0]"
   ]
  },
  {
   "cell_type": "markdown",
   "metadata": {},
   "source": [
    "### Rễ"
   ]
  },
  {
   "cell_type": "code",
   "execution_count": 114,
   "metadata": {},
   "outputs": [],
   "source": [
    "re_folder = \"data2/Re\"\n",
    "data_frames = []\n",
    "file_names = []\n",
    "for index, file_name in enumerate(os.listdir(re_folder)):\n",
    "    if file_name.endswith(\".CSV\"):  # Check if the file is a CSV\n",
    "        file_path = os.path.join(re_folder, file_name)\n",
    "        df = pd.read_csv(file_path, header=None).values\n",
    "        if index == 0:\n",
    "            data_frames.append(df[:, 0].reshape(1, -1))\n",
    "        data_frames.append(df[:, 1].reshape(1, -1))\n",
    "        file_names.append(file_name)\n",
    "re = pd.DataFrame(np.concatenate(data_frames[1:]), columns=list(data_frames[0]))\n",
    "re.columns = ['_'.join(map(str, col)) for col in re.columns]\n",
    "re[\"File name\"] = file_names\n",
    "re[\"Type\"] = re[\"File name\"].str.split(\"-\", expand=True)[0].str[0]"
   ]
  },
  {
   "cell_type": "markdown",
   "metadata": {},
   "source": [
    "### Thân"
   ]
  },
  {
   "cell_type": "code",
   "execution_count": 115,
   "metadata": {},
   "outputs": [],
   "source": [
    "than_folder = \"data2/Than\"\n",
    "data_frames = []\n",
    "file_names = []\n",
    "for index, file_name in enumerate(os.listdir(than_folder)):\n",
    "    if file_name.endswith(\".CSV\"):  # Check if the file is a CSV\n",
    "        file_path = os.path.join(than_folder, file_name)\n",
    "        df = pd.read_csv(file_path, header=None).values\n",
    "        if index == 0:\n",
    "            data_frames.append(df[:, 0].reshape(1, -1))\n",
    "        data_frames.append(df[:, 1].reshape(1, -1))\n",
    "        file_names.append(file_name)\n",
    "than = pd.DataFrame(np.concatenate(data_frames[1:]), columns=list(data_frames[0]))\n",
    "than.columns = ['_'.join(map(str, col)) for col in than.columns]\n",
    "than[\"File name\"] = file_names\n",
    "than[\"Type\"] = than[\"File name\"].str.split(\"-\", expand=True)[0].str[0]"
   ]
  },
  {
   "cell_type": "markdown",
   "metadata": {},
   "source": [
    "### Test honhop"
   ]
  },
  {
   "cell_type": "code",
   "execution_count": 116,
   "metadata": {},
   "outputs": [],
   "source": [
    "honhop_folder = \"data2/testHonhop\"\n",
    "data_frames = []\n",
    "file_names = []\n",
    "for index, file_name in enumerate(os.listdir(honhop_folder)):\n",
    "    if file_name.endswith(\".CSV\"):  # Check if the file is a CSV\n",
    "        file_path = os.path.join(honhop_folder, file_name)\n",
    "        df = pd.read_csv(file_path, header=None).values\n",
    "        if index == 0:\n",
    "            data_frames.append(df[:, 0].reshape(1, -1))\n",
    "        data_frames.append(df[:, 1].reshape(1, -1))\n",
    "        file_names.append(file_name + \"new\")\n",
    "honhop_test = pd.DataFrame(np.concatenate(data_frames[1:]), columns=list(data_frames[0]))\n",
    "honhop_test.columns = ['_'.join(map(str, col)) for col in honhop_test.columns]\n",
    "honhop_test[\"File name\"] = file_names\n",
    "honhop_test[\"Type\"] = honhop_test[\"File name\"].str.split(\"-\", expand=True)[0].str[0]"
   ]
  },
  {
   "cell_type": "code",
   "execution_count": 117,
   "metadata": {},
   "outputs": [
    {
     "data": {
      "text/plain": [
       "(159, 1871)"
      ]
     },
     "execution_count": 117,
     "metadata": {},
     "output_type": "execute_result"
    }
   ],
   "source": [
    "data = pd.concat([honhop, re, than, honhop_test], axis=0)\n",
    "data.shape"
   ]
  },
  {
   "cell_type": "code",
   "execution_count": 118,
   "metadata": {},
   "outputs": [],
   "source": [
    "# data[\"Type\"][data[\"Type\"] == \"D\"] = \"R\""
   ]
  },
  {
   "cell_type": "code",
   "execution_count": 119,
   "metadata": {},
   "outputs": [],
   "source": [
    "from sklearn.preprocessing import LabelEncoder\n",
    "le = LabelEncoder()\n",
    "y = le.fit_transform(data[\"Type\"])"
   ]
  },
  {
   "cell_type": "code",
   "execution_count": 120,
   "metadata": {},
   "outputs": [],
   "source": [
    "def snv(input_data):\n",
    "  \n",
    "    # Define a new array and populate it with the corrected data  \n",
    "    output_data = np.zeros_like(input_data)\n",
    "    for i in range(input_data.shape[0]):\n",
    " \n",
    "        # Apply correction\n",
    "        output_data[i,:] = (input_data[i,:] - np.mean(input_data[i,:])) / np.std(input_data[i,:])\n",
    " \n",
    "    return output_data"
   ]
  },
  {
   "cell_type": "code",
   "execution_count": 121,
   "metadata": {},
   "outputs": [
    {
     "data": {
      "image/png": "[encoded data removed]",
      "text/plain": [
       "<Figure size 640x480 with 1 Axes>"
      ]
     },
     "metadata": {},
     "output_type": "display_data"
    }
   ],
   "source": [
    "X = data.iloc[:, :-2]\n",
    "wl = X.columns\n",
    "X = snv(X.values)\n",
    "plt.plot(X.T, linewidth = 0.7)\n",
    "plt.show()"
   ]
  },
  {
   "cell_type": "code",
   "execution_count": 122,
   "metadata": {},
   "outputs": [],
   "source": [
    "X = savgol_filter(X, window_length = window_len,  polyorder=poly_or, deriv = deriv_num)"
   ]
  },
  {
   "cell_type": "code",
   "execution_count": 123,
   "metadata": {},
   "outputs": [
    {
     "data": {
      "image/png": "[encoded data removed]",
      "text/plain": [
       "<Figure size 1200x1200 with 2 Axes>"
      ]
     },
     "metadata": {},
     "output_type": "display_data"
    }
   ],
   "source": [
    "from sklearn.cross_decomposition import PLSRegression\n",
    "from sklearn.decomposition import PCA\n",
    "from sklearn.discriminant_analysis import LinearDiscriminantAnalysis\n",
    "pls = PLSRegression(8)\n",
    "pls.fit(X, y)\n",
    "\n",
    "\n",
    "# print(np.abs(pls.coef_)reshape(-1,1))\n",
    "plt.figure(figsize=(12,12))\n",
    "with plt.style.context(('ggplot')):\n",
    "    ax1 = plt.subplot(211)\n",
    "    plt.plot(wl, X.T)\n",
    "    plt.ylabel('First derivative absorbance spectra')\n",
    "    plt.gca().set_xticks(np.arange(0, len(wl), 100))\n",
    "    plt.xticks(rotation=90)\n",
    " \n",
    "    ax2 = plt.subplot(212, sharex=ax1)\n",
    "    plt.plot(wl, np.abs(pls.coef_).reshape(-1,1))\n",
    "    plt.xlabel('Wavelength (nm)')\n",
    "    plt.ylabel('Absolute value of PLS coefficients')\n",
    "    plt.gca().set_xticks(np.arange(0, len(wl), 100))\n",
    "    plt.xticks(rotation=90)\n",
    " \n",
    "    plt.show()"
   ]
  },
  {
   "cell_type": "code",
   "execution_count": 124,
   "metadata": {},
   "outputs": [],
   "source": [
    "from sklearn.preprocessing import StandardScaler\n",
    "scaler = StandardScaler()\n",
    "X = scaler.fit_transform(X)"
   ]
  },
  {
   "cell_type": "code",
   "execution_count": 125,
   "metadata": {},
   "outputs": [
    {
     "data": {
      "image/png": "[encoded data removed]",
      "text/plain": [
       "<Figure size 1200x400 with 1 Axes>"
      ]
     },
     "metadata": {},
     "output_type": "display_data"
    }
   ],
   "source": [
    "pca = PCA(n_components=0.95)\n",
    "X_pca = pca.fit_transform(X)\n",
    "explained_variance = pca.explained_variance_ratio_\n",
    "cumulative_explained_variance = np.cumsum(explained_variance)\n",
    "plt.figure(figsize=(12,4))\n",
    "plt.plot(np.arange(1, len(cumulative_explained_variance) + 1), cumulative_explained_variance, marker='o')\n",
    "plt.xticks(np.arange(1, len(cumulative_explained_variance) + 1))\n",
    "plt.xlabel('Number of Components')\n",
    "plt.ylabel('Cumulative Explained Variance')\n",
    "plt.show()"
   ]
  },
  {
   "cell_type": "code",
   "execution_count": 126,
   "metadata": {},
   "outputs": [],
   "source": [
    "\n",
    "lda = LinearDiscriminantAnalysis()\n",
    "X_lda = lda.fit_transform(X_pca, y)\n",
    "# pca = PCA()\n",
    "# X_lda = pca.fit_transform(X_opt)"
   ]
  },
  {
   "cell_type": "code",
   "execution_count": 127,
   "metadata": {},
   "outputs": [
    {
     "data": {
      "application/vnd.plotly.v1+json": {
       "config": {
        "plotlyServerURL": "https://plot.ly"
       },
       "data": [
        {
         "hovertemplate": [
          "D10_-1-1.CSV",
          "D10_-1-2.CSV",
          "D10_-1-3.CSV",
          "D10_-1-4.CSV",
          "D10_-1-5.CSV",
          "D10_-2-1.CSV",
          "D10_-2-2.CSV",
          "D10_-2-3.CSV",
          "D10_-2-4.CSV",
          "D10_-2-5.CSV",
          "D3-1-1.CSV",
          "D3-1-2.CSV",
          "D3-1-3.CSV",
          "D3-1-4.CSV",
          "D3-1-5.CSV",
          "D5_-1-1.CSV",
          "D5_-1-2.CSV",
          "D5_-1-3.CSV",
          "D5_-1-4.CSV",
          "D5_-1-5.CSV",
          "D5_-2-1.CSV",
          "D5_-2-2.CSV",
          "D5_-2-3.CSV",
          "D5_-2-4.CSV",
          "D5_-2-5.CSV",
          "R-DLS1-1.CSV",
          "R-DLS1-2.CSV",
          "R-DLS1-3.CSV",
          "R-DLS1-4.CSV",
          "R-DLS1-5.CSV",
          "R-PF1-1.CSV",
          "R-PF1-2.CSV",
          "R-PF1-3.CSV",
          "R-PF1-4.CSV",
          "R-PF1-5.CSV",
          "R1-DLS1-1.CSV",
          "R1-DLS1-2.CSV",
          "R1-DLS1-3.CSV",
          "R1-DLS1-4.CSV",
          "R1-DLS5-1.CSV",
          "R1-DLS5-2.CSV",
          "R1-DLS5-3.CSV",
          "R1-DLS5-4.CSV",
          "R1-DLS5-5.CSV",
          "R10-1.CSV",
          "R10-2.CSV",
          "R10-3.CSV",
          "R10-4.CSV",
          "R10-5.CSV",
          "R16-1.CSV",
          "R16-2.CSV",
          "R16-3.CSV",
          "R16-4.CSV",
          "R16-5.CSV",
          "R2-DLS1-1.CSV",
          "R2-DLS1-2.CSV",
          "R2-DLS1-3.CSV",
          "R2-DLS1-4.CSV",
          "R2-DLS1-5.CSV",
          "R3-1.CSV",
          "R3-2.CSV",
          "R3-3.CSV",
          "R3-4.CSV",
          "R3-5.CSV",
          "R3_New-1.CSV",
          "R3_New-2.CSV",
          "R3_New-3.CSV",
          "R3_New-4.CSV",
          "R3_New-5.CSV",
          "R4-1.CSV",
          "R4-2.CSV",
          "R4-3.CSV",
          "R4-4.CSV",
          "R4-5.CSV",
          "T1-1.CSV",
          "T1-2.CSV",
          "T1-3.CSV",
          "T1-4.CSV",
          "T1-5.CSV",
          "T10-1.CSV",
          "T10-2.CSV",
          "T10-3.CSV",
          "T10-4.CSV",
          "T10-5.CSV",
          "T2-1.CSV",
          "T2-2.CSV",
          "T2-3.CSV",
          "T2-4.CSV",
          "T2-5.CSV",
          "T4-1.CSV",
          "T4-2.CSV",
          "T4-3.CSV",
          "T4-4.CSV",
          "T4-5.CSV",
          "T5-1.CSV",
          "T5-2.CSV",
          "T5-3.CSV",
          "T5-4.CSV",
          "T5-5.CSV",
          "T6-1.CSV",
          "T6-2.CSV",
          "T6-3.CSV",
          "T6-4.CSV",
          "T6-5.CSV",
          "T7-1.CSV",
          "T7-2.CSV",
          "T7-3.CSV",
          "T7-4.CSV",
          "T7-5.CSV",
          "T9-1.CSV",
          "T9-2.CSV",
          "T9-3.CSV",
          "T9-4.CSV",
          "T9-5.CSV",
          "TC-DLS5-1.CSV",
          "TC-DLS5-2.CSV",
          "TC-DLS5-3.CSV",
          "TC-DLS5-4.CSV",
          "TC-DLS5-5.CSV",
          "D1-1.CSVnew",
          "D1-2.CSVnew",
          "D1-3.CSVnew",
          "D1-4.CSVnew",
          "D1-5.CSVnew",
          "D1_-1-1.CSVnew",
          "D1_-1-2.CSVnew",
          "D1_-1-3.CSVnew",
          "D1_-1-4.CSVnew",
          "D1_-1-5.CSVnew",
          "D1_-2-1.CSVnew",
          "D1_-2-2.CSVnew",
          "D1_-2-3.CSVnew",
          "D1_-2-4.CSVnew",
          "D1_-2-5.CSVnew",
          "D2_-1-1.CSVnew",
          "D2_-1-2.CSVnew",
          "D2_-1-3.CSVnew",
          "D2_-1-4.CSVnew",
          "D2_-1-5.CSVnew",
          "D2_-2-1.CSVnew",
          "D2_-2-2.CSVnew",
          "D2_-2-3.CSVnew",
          "D2_-2-4.CSVnew",
          "D2_-2-5.CSVnew",
          "D2_-3-1.CSVnew",
          "D2_-3-2.CSVnew",
          "D2_-3-3.CSVnew",
          "D2_-3-4.CSVnew",
          "D2_-3-5.CSVnew",
          "D5_-3-1.CSVnew",
          "D5_-3-2.CSVnew",
          "D5_-3-3.CSVnew",
          "D5_-3-4.CSVnew",
          "D5_-3-5.CSVnew",
          "D9_-1-1.CSVnew",
          "D9_-1-2.CSVnew",
          "D9_-1-3.CSVnew",
          "D9_-1-4.CSVnew",
          "D9_-1-5.CSVnew"
         ],
         "marker": {
          "color": [
           0,
           0,
           0,
           0,
           0,
           0,
           0,
           0,
           0,
           0,
           0,
           0,
           0,
           0,
           0,
           0,
           0,
           0,
           0,
           0,
           0,
           0,
           0,
           0,
           0,
           1,
           1,
           1,
           1,
           1,
           1,
           1,
           1,
           1,
           1,
           1,
           1,
           1,
           1,
           1,
           1,
           1,
           1,
           1,
           1,
           1,
           1,
           1,
           1,
           1,
           1,
           1,
           1,
           1,
           1,
           1,
           1,
           1,
           1,
           1,
           1,
           1,
           1,
           1,
           1,
           1,
           1,
           1,
           1,
           1,
           1,
           1,
           1,
           1,
           2,
           2,
           2,
           2,
           2,
           2,
           2,
           2,
           2,
           2,
           2,
           2,
           2,
           2,
           2,
           2,
           2,
           2,
           2,
           2,
           2,
           2,
           2,
           2,
           2,
           2,
           2,
           2,
           2,
           2,
           2,
           2,
           2,
           2,
           2,
           2,
           2,
           2,
           2,
           2,
           2,
           2,
           2,
           2,
           2,
           0,
           0,
           0,
           0,
           0,
           0,
           0,
           0,
           0,
           0,
           0,
           0,
           0,
           0,
           0,
           0,
           0,
           0,
           0,
           0,
           0,
           0,
           0,
           0,
           0,
           0,
           0,
           0,
           0,
           0,
           0,
           0,
           0,
           0,
           0,
           0,
           0,
           0,
           0,
           0
          ],
          "colorbar": {
           "ticktext": [
            "Hỗn hợp",
            "Rễ",
            "Thân"
           ],
           "tickvals": [
            0,
            1,
            2
           ],
           "title": {
            "text": "Type"
           }
          },
          "colorscale": [
           [
            0,
            "#440154"
           ],
           [
            0.1111111111111111,
            "#482878"
           ],
           [
            0.2222222222222222,
            "#3e4989"
           ],
           [
            0.3333333333333333,
            "#31688e"
           ],
           [
            0.4444444444444444,
            "#26828e"
           ],
           [
            0.5555555555555556,
            "#1f9e89"
           ],
           [
            0.6666666666666666,
            "#35b779"
           ],
           [
            0.7777777777777778,
            "#6ece58"
           ],
           [
            0.8888888888888888,
            "#b5de2b"
           ],
           [
            1,
            "#fde725"
           ]
          ],
          "line": {
           "color": "black",
           "width": 2
          },
          "showscale": true,
          "size": 10
         },
         "mode": "markers",
         "type": "scatter",
         "x": [
          -0.7614665417215344,
          -0.5775529722552633,
          -1.278956686933127,
          0.012887488484977264,
          -0.21637471298590072,
          -0.06406352090064567,
          -0.25063728092008053,
          -0.9163510167966059,
          -0.9256218141782294,
          -0.1553330922568535,
          -1.4251232800685145,
          -1.3672378214890697,
          -1.4416084976162284,
          -1.4123609255818212,
          0.21904411439999333,
          -0.9769911221658759,
          -1.74723237070525,
          -0.306786188798067,
          -2.159145881098917,
          -2.2717907255157663,
          -0.6180358764380357,
          -0.7364122159408472,
          -0.4247068465455539,
          -0.5192585399357559,
          -1.1569192990660808,
          2.7795690855347486,
          1.9394603606101797,
          1.9752935548447252,
          3.1876439022906293,
          2.6723428394885413,
          1.343197772375922,
          2.701727726747204,
          1.942375637344136,
          1.4098134971075575,
          2.4035233599725068,
          3.2754595229089594,
          1.3574006957346556,
          2.8110240002445663,
          2.775310393514406,
          3.8881310377526095,
          3.7828391514217046,
          4.289647527245049,
          4.057026946665286,
          4.249555933092133,
          4.068990943175706,
          2.8049876069192643,
          2.814941180481682,
          3.591348572391348,
          3.3509734933602164,
          3.3509734933602164,
          3.64337715226297,
          5.1274192297660335,
          4.308041507814797,
          4.05272334403621,
          2.2809833291837127,
          2.2762445197959575,
          1.2767886307116485,
          1.5432959523929284,
          1.7165621284412655,
          1.7410681730130046,
          1.4942578596058873,
          1.9759314246383772,
          1.6084473514765212,
          1.8746854853076405,
          1.24773421972312,
          0.5514682580515472,
          0.7593690890512973,
          0.6560682736196366,
          0.6436439713167778,
          2.2473943079103322,
          2.1555814466432364,
          1.6193082013301263,
          2.0493358921884113,
          2.267493867798071,
          -0.129955894496042,
          0.12595297771696135,
          -0.5167433915443296,
          -0.2895876989336502,
          -0.8589229637485326,
          -1.3349700887786315,
          -0.10769297341265543,
          0.3823713375704759,
          0.9463995377826427,
          -0.1116854803429501,
          -1.2622130046865976,
          -0.798191661792068,
          -1.939588916522281,
          0.07315601743463615,
          -0.98963895943467,
          -0.8946709162079123,
          -1.6444595599689091,
          -0.1129367674229677,
          -0.490779574734224,
          -0.7651592716929319,
          -2.926345250963321,
          -1.2757437302124561,
          -0.691345502279648,
          -1.4560004708842897,
          -2.2868602098010165,
          -0.5553616748347677,
          -0.6836904227371602,
          -1.160501529311475,
          -0.9272701312461665,
          -0.25258123087425305,
          -1.0367638437153142,
          -0.12363459555589347,
          -0.25358319297476134,
          -0.3289999816664154,
          0.26141821050424086,
          -0.6132754365069779,
          0.5041488054318792,
          -0.5508271503056399,
          -0.6067815526410313,
          -0.8296431940566654,
          -1.6788266432031935,
          -1.6233261201757099,
          -1.4485054954206897,
          -1.3935490413394922,
          -1.6264588316820028,
          -2.029555889411482,
          -2.0357252111836672,
          -0.6668540981137988,
          -0.7604781891433471,
          -1.0640388619591883,
          -1.441243105860018,
          -1.498793153302103,
          0.015284072812234583,
          -0.10205430635341017,
          -2.653484730708843,
          -2.4811934314418433,
          -2.6747148759056993,
          -2.800861652666459,
          -2.807719942690867,
          -3.2522242783411626,
          -3.587708961973183,
          -3.58083814235611,
          -2.496087779005807,
          -2.4635131065033713,
          -2.4427541086846105,
          -0.11053280237757422,
          -0.26602003521293044,
          -0.2405006434894444,
          -0.23562170663522602,
          0.14535417469400477,
          -3.164094783325164,
          -3.1957555525875216,
          -2.6506076601187267,
          -2.61018330303326,
          -2.5783125049240434,
          -1.1285977298494292,
          -1.4362178747611656,
          -0.46072686314372513,
          -0.3605772236902357,
          -1.0973521288588401,
          -0.8540561964290382,
          -1.8003742302220278,
          -0.7983480501033519,
          -1.660064321512441,
          -0.8519715655946531
         ],
         "y": [
          -1.6873128608416172,
          0.6999171921219449,
          1.5180162814513913,
          1.3242226556120653,
          1.4068248573217061,
          -0.08234765704329274,
          -0.061007252805736656,
          -0.3478012560617035,
          -0.3140156785069581,
          -0.5062122544735833,
          -2.5684140438154963,
          -2.5925145491195445,
          -1.7244162982588118,
          -1.7334388309387039,
          -3.3750126158236826,
          0.5516392570397741,
          0.25976084483166434,
          1.1297721669609455,
          0.5859381100695265,
          0.4921521372186945,
          -0.3777776040516037,
          -0.4579587276578508,
          -1.012525189967261,
          -1.0211224225281879,
          -2.245168405312447,
          -1.3331489113188568,
          -1.480786163388808,
          -1.7556789594619902,
          -1.0914017356493528,
          -1.044278968175754,
          0.12261610096914141,
          -0.39202191837456957,
          -0.16616853663990327,
          0.051259337761653416,
          0.266050406045392,
          -0.954506636689929,
          0.05329178702403792,
          -0.8707966871653054,
          -0.8379577191651847,
          0.8496358141021052,
          0.9634894588210946,
          1.2015060892100229,
          1.2837043707421922,
          1.166255713376673,
          -0.1366678960045589,
          -0.32730947327142174,
          0.16771778834990206,
          0.06066646133570438,
          -0.01870928747969339,
          -0.01870928747969339,
          -0.8181944015713202,
          -0.21907076289336536,
          -0.3453638519960866,
          -0.06255750202100065,
          0.49138973570743244,
          0.48755058349114716,
          1.1158055250631174,
          1.2385286249183687,
          0.06750829022041213,
          -0.2578329671338635,
          -0.9902858462412182,
          -0.21242274359434962,
          -0.7260681196031811,
          -0.33120170863899134,
          -0.012415000732776115,
          0.07143791062721322,
          0.48005636383826056,
          0.4951025137940939,
          0.0012835640473181286,
          -0.714948851976669,
          -0.834908773672624,
          -0.9029123604311862,
          -0.9275174399731471,
          -0.6744682848484185,
          0.002386219413302262,
          -0.5261561956903519,
          -0.6602005407677071,
          -0.5925527243121226,
          -0.05908279401848739,
          -0.03220855257319904,
          1.0200350166965113,
          0.76259730230799,
          0.16627275246709328,
          1.035187066853187,
          1.347863395113151,
          2.3413519200634023,
          1.3082106659609594,
          1.5570742621248375,
          2.1923351173603116,
          1.9476678974543193,
          1.5407768604695447,
          1.5573932717341439,
          1.6148195060842467,
          1.4119767535398484,
          1.566248811274029,
          1.685552983072409,
          2.104622811924692,
          3.364751113066786,
          3.1157679586111113,
          0.29560222568627664,
          0.2871588627523772,
          0.9448820225172103,
          0.36327345724415866,
          1.0635385886525934,
          0.09886734955888717,
          0.403141812082239,
          0.47396026759465887,
          0.353166092781246,
          0.3717048713581976,
          0.8533950394039361,
          0.17294345467229572,
          0.2713964971465272,
          0.27411895091782185,
          0.32294182491093354,
          2.620044131558784,
          2.6349563738931012,
          3.3075708763657374,
          3.320756245775991,
          2.9600028694653475,
          -0.9113303799104443,
          -0.8964982957610133,
          -0.6046988294774613,
          -0.6086840533692244,
          -1.5367129377777065,
          0.1406333860467661,
          0.18575441988046015,
          0.4494939556309105,
          0.4720792509615393,
          -0.6244103150095354,
          -1.4177019629194334,
          -1.4316048257668519,
          -1.5128581138292447,
          -1.554572295669004,
          -1.725806291138705,
          -0.44530547087269573,
          -0.47051524062225364,
          0.44494090397889435,
          0.39802223152496635,
          0.4275162584964429,
          -0.2874896099188295,
          -0.28431583249238623,
          -0.04783095606067042,
          -0.07680718504202276,
          0.41802354880355325,
          -1.2931694500757573,
          -1.3227580128739271,
          -1.4831555310440703,
          -1.5404536068337262,
          -1.0567838658508237,
          -0.4787916579949457,
          -0.5949361355185874,
          -1.071799096389722,
          -1.2191956065758338,
          -0.6535827810132833,
          -1.2195028045232996,
          -2.998391527450564,
          -1.3537032141244494,
          -3.1453516567947783,
          -0.2716026044639139
         ]
        }
       ],
       "layout": {
        "height": 600,
        "template": {
         "data": {
          "bar": [
           {
            "error_x": {
             "color": "#2a3f5f"
            },
            "error_y": {
             "color": "#2a3f5f"
            },
            "marker": {
             "line": {
              "color": "#E5ECF6",
              "width": 0.5
             },
             "pattern": {
              "fillmode": "overlay",
              "size": 10,
              "solidity": 0.2
             }
            },
            "type": "bar"
           }
          ],
          "barpolar": [
           {
            "marker": {
             "line": {
              "color": "#E5ECF6",
              "width": 0.5
             },
             "pattern": {
              "fillmode": "overlay",
              "size": 10,
              "solidity": 0.2
             }
            },
            "type": "barpolar"
           }
          ],
          "carpet": [
           {
            "aaxis": {
             "endlinecolor": "#2a3f5f",
             "gridcolor": "white",
             "linecolor": "white",
             "minorgridcolor": "white",
             "startlinecolor": "#2a3f5f"
            },
            "baxis": {
             "endlinecolor": "#2a3f5f",
             "gridcolor": "white",
             "linecolor": "white",
             "minorgridcolor": "white",
             "startlinecolor": "#2a3f5f"
            },
            "type": "carpet"
           }
          ],
          "choropleth": [
           {
            "colorbar": {
             "outlinewidth": 0,
             "ticks": ""
            },
            "type": "choropleth"
           }
          ],
          "contour": [
           {
            "colorbar": {
             "outlinewidth": 0,
             "ticks": ""
            },
            "colorscale": [
             [
              0,
              "#0d0887"
             ],
             [
              0.1111111111111111,
              "#46039f"
             ],
             [
              0.2222222222222222,
              "#7201a8"
             ],
             [
              0.3333333333333333,
              "#9c179e"
             ],
             [
              0.4444444444444444,
              "#bd3786"
             ],
             [
              0.5555555555555556,
              "#d8576b"
             ],
             [
              0.6666666666666666,
              "#ed7953"
             ],
             [
              0.7777777777777778,
              "#fb9f3a"
             ],
             [
              0.8888888888888888,
              "#fdca26"
             ],
             [
              1,
              "#f0f921"
             ]
            ],
            "type": "contour"
           }
          ],
          "contourcarpet": [
           {
            "colorbar": {
             "outlinewidth": 0,
             "ticks": ""
            },
            "type": "contourcarpet"
           }
          ],
          "heatmap": [
           {
            "colorbar": {
             "outlinewidth": 0,
             "ticks": ""
            },
            "colorscale": [
             [
              0,
              "#0d0887"
             ],
             [
              0.1111111111111111,
              "#46039f"
             ],
             [
              0.2222222222222222,
              "#7201a8"
             ],
             [
              0.3333333333333333,
              "#9c179e"
             ],
             [
              0.4444444444444444,
              "#bd3786"
             ],
             [
              0.5555555555555556,
              "#d8576b"
             ],
             [
              0.6666666666666666,
              "#ed7953"
             ],
             [
              0.7777777777777778,
              "#fb9f3a"
             ],
             [
              0.8888888888888888,
              "#fdca26"
             ],
             [
              1,
              "#f0f921"
             ]
            ],
            "type": "heatmap"
           }
          ],
          "heatmapgl": [
           {
            "colorbar": {
             "outlinewidth": 0,
             "ticks": ""
            },
            "colorscale": [
             [
              0,
              "#0d0887"
             ],
             [
              0.1111111111111111,
              "#46039f"
             ],
             [
              0.2222222222222222,
              "#7201a8"
             ],
             [
              0.3333333333333333,
              "#9c179e"
             ],
             [
              0.4444444444444444,
              "#bd3786"
             ],
             [
              0.5555555555555556,
              "#d8576b"
             ],
             [
              0.6666666666666666,
              "#ed7953"
             ],
             [
              0.7777777777777778,
              "#fb9f3a"
             ],
             [
              0.8888888888888888,
              "#fdca26"
             ],
             [
              1,
              "#f0f921"
             ]
            ],
            "type": "heatmapgl"
           }
          ],
          "histogram": [
           {
            "marker": {
             "pattern": {
              "fillmode": "overlay",
              "size": 10,
              "solidity": 0.2
             }
            },
            "type": "histogram"
           }
          ],
          "histogram2d": [
           {
            "colorbar": {
             "outlinewidth": 0,
             "ticks": ""
            },
            "colorscale": [
             [
              0,
              "#0d0887"
             ],
             [
              0.1111111111111111,
              "#46039f"
             ],
             [
              0.2222222222222222,
              "#7201a8"
             ],
             [
              0.3333333333333333,
              "#9c179e"
             ],
             [
              0.4444444444444444,
              "#bd3786"
             ],
             [
              0.5555555555555556,
              "#d8576b"
             ],
             [
              0.6666666666666666,
              "#ed7953"
             ],
             [
              0.7777777777777778,
              "#fb9f3a"
             ],
             [
              0.8888888888888888,
              "#fdca26"
             ],
             [
              1,
              "#f0f921"
             ]
            ],
            "type": "histogram2d"
           }
          ],
          "histogram2dcontour": [
           {
            "colorbar": {
             "outlinewidth": 0,
             "ticks": ""
            },
            "colorscale": [
             [
              0,
              "#0d0887"
             ],
             [
              0.1111111111111111,
              "#46039f"
             ],
             [
              0.2222222222222222,
              "#7201a8"
             ],
             [
              0.3333333333333333,
              "#9c179e"
             ],
             [
              0.4444444444444444,
              "#bd3786"
             ],
             [
              0.5555555555555556,
              "#d8576b"
             ],
             [
              0.6666666666666666,
              "#ed7953"
             ],
             [
              0.7777777777777778,
              "#fb9f3a"
             ],
             [
              0.8888888888888888,
              "#fdca26"
             ],
             [
              1,
              "#f0f921"
             ]
            ],
            "type": "histogram2dcontour"
           }
          ],
          "mesh3d": [
           {
            "colorbar": {
             "outlinewidth": 0,
             "ticks": ""
            },
            "type": "mesh3d"
           }
          ],
          "parcoords": [
           {
            "line": {
             "colorbar": {
              "outlinewidth": 0,
              "ticks": ""
             }
            },
            "type": "parcoords"
           }
          ],
          "pie": [
           {
            "automargin": true,
            "type": "pie"
           }
          ],
          "scatter": [
           {
            "fillpattern": {
             "fillmode": "overlay",
             "size": 10,
             "solidity": 0.2
            },
            "type": "scatter"
           }
          ],
          "scatter3d": [
           {
            "line": {
             "colorbar": {
              "outlinewidth": 0,
              "ticks": ""
             }
            },
            "marker": {
             "colorbar": {
              "outlinewidth": 0,
              "ticks": ""
             }
            },
            "type": "scatter3d"
           }
          ],
          "scattercarpet": [
           {
            "marker": {
             "colorbar": {
              "outlinewidth": 0,
              "ticks": ""
             }
            },
            "type": "scattercarpet"
           }
          ],
          "scattergeo": [
           {
            "marker": {
             "colorbar": {
              "outlinewidth": 0,
              "ticks": ""
             }
            },
            "type": "scattergeo"
           }
          ],
          "scattergl": [
           {
            "marker": {
             "colorbar": {
              "outlinewidth": 0,
              "ticks": ""
             }
            },
            "type": "scattergl"
           }
          ],
          "scattermapbox": [
           {
            "marker": {
             "colorbar": {
              "outlinewidth": 0,
              "ticks": ""
             }
            },
            "type": "scattermapbox"
           }
          ],
          "scatterpolar": [
           {
            "marker": {
             "colorbar": {
              "outlinewidth": 0,
              "ticks": ""
             }
            },
            "type": "scatterpolar"
           }
          ],
          "scatterpolargl": [
           {
            "marker": {
             "colorbar": {
              "outlinewidth": 0,
              "ticks": ""
             }
            },
            "type": "scatterpolargl"
           }
          ],
          "scatterternary": [
           {
            "marker": {
             "colorbar": {
              "outlinewidth": 0,
              "ticks": ""
             }
            },
            "type": "scatterternary"
           }
          ],
          "surface": [
           {
            "colorbar": {
             "outlinewidth": 0,
             "ticks": ""
            },
            "colorscale": [
             [
              0,
              "#0d0887"
             ],
             [
              0.1111111111111111,
              "#46039f"
             ],
             [
              0.2222222222222222,
              "#7201a8"
             ],
             [
              0.3333333333333333,
              "#9c179e"
             ],
             [
              0.4444444444444444,
              "#bd3786"
             ],
             [
              0.5555555555555556,
              "#d8576b"
             ],
             [
              0.6666666666666666,
              "#ed7953"
             ],
             [
              0.7777777777777778,
              "#fb9f3a"
             ],
             [
              0.8888888888888888,
              "#fdca26"
             ],
             [
              1,
              "#f0f921"
             ]
            ],
            "type": "surface"
           }
          ],
          "table": [
           {
            "cells": {
             "fill": {
              "color": "#EBF0F8"
             },
             "line": {
              "color": "white"
             }
            },
            "header": {
             "fill": {
              "color": "#C8D4E3"
             },
             "line": {
              "color": "white"
             }
            },
            "type": "table"
           }
          ]
         },
         "layout": {
          "annotationdefaults": {
           "arrowcolor": "#2a3f5f",
           "arrowhead": 0,
           "arrowwidth": 1
          },
          "autotypenumbers": "strict",
          "coloraxis": {
           "colorbar": {
            "outlinewidth": 0,
            "ticks": ""
           }
          },
          "colorscale": {
           "diverging": [
            [
             0,
             "#8e0152"
            ],
            [
             0.1,
             "#c51b7d"
            ],
            [
             0.2,
             "#de77ae"
            ],
            [
             0.3,
             "#f1b6da"
            ],
            [
             0.4,
             "#fde0ef"
            ],
            [
             0.5,
             "#f7f7f7"
            ],
            [
             0.6,
             "#e6f5d0"
            ],
            [
             0.7,
             "#b8e186"
            ],
            [
             0.8,
             "#7fbc41"
            ],
            [
             0.9,
             "#4d9221"
            ],
            [
             1,
             "#276419"
            ]
           ],
           "sequential": [
            [
             0,
             "#0d0887"
            ],
            [
             0.1111111111111111,
             "#46039f"
            ],
            [
             0.2222222222222222,
             "#7201a8"
            ],
            [
             0.3333333333333333,
             "#9c179e"
            ],
            [
             0.4444444444444444,
             "#bd3786"
            ],
            [
             0.5555555555555556,
             "#d8576b"
            ],
            [
             0.6666666666666666,
             "#ed7953"
            ],
            [
             0.7777777777777778,
             "#fb9f3a"
            ],
            [
             0.8888888888888888,
             "#fdca26"
            ],
            [
             1,
             "#f0f921"
            ]
           ],
           "sequentialminus": [
            [
             0,
             "#0d0887"
            ],
            [
             0.1111111111111111,
             "#46039f"
            ],
            [
             0.2222222222222222,
             "#7201a8"
            ],
            [
             0.3333333333333333,
             "#9c179e"
            ],
            [
             0.4444444444444444,
             "#bd3786"
            ],
            [
             0.5555555555555556,
             "#d8576b"
            ],
            [
             0.6666666666666666,
             "#ed7953"
            ],
            [
             0.7777777777777778,
             "#fb9f3a"
            ],
            [
             0.8888888888888888,
             "#fdca26"
            ],
            [
             1,
             "#f0f921"
            ]
           ]
          },
          "colorway": [
           "#636efa",
           "#EF553B",
           "#00cc96",
           "#ab63fa",
           "#FFA15A",
           "#19d3f3",
           "#FF6692",
           "#B6E880",
           "#FF97FF",
           "#FECB52"
          ],
          "font": {
           "color": "#2a3f5f"
          },
          "geo": {
           "bgcolor": "white",
           "lakecolor": "white",
           "landcolor": "#E5ECF6",
           "showlakes": true,
           "showland": true,
           "subunitcolor": "white"
          },
          "hoverlabel": {
           "align": "left"
          },
          "hovermode": "closest",
          "mapbox": {
           "style": "light"
          },
          "paper_bgcolor": "white",
          "plot_bgcolor": "#E5ECF6",
          "polar": {
           "angularaxis": {
            "gridcolor": "white",
            "linecolor": "white",
            "ticks": ""
           },
           "bgcolor": "#E5ECF6",
           "radialaxis": {
            "gridcolor": "white",
            "linecolor": "white",
            "ticks": ""
           }
          },
          "scene": {
           "xaxis": {
            "backgroundcolor": "#E5ECF6",
            "gridcolor": "white",
            "gridwidth": 2,
            "linecolor": "white",
            "showbackground": true,
            "ticks": "",
            "zerolinecolor": "white"
           },
           "yaxis": {
            "backgroundcolor": "#E5ECF6",
            "gridcolor": "white",
            "gridwidth": 2,
            "linecolor": "white",
            "showbackground": true,
            "ticks": "",
            "zerolinecolor": "white"
           },
           "zaxis": {
            "backgroundcolor": "#E5ECF6",
            "gridcolor": "white",
            "gridwidth": 2,
            "linecolor": "white",
            "showbackground": true,
            "ticks": "",
            "zerolinecolor": "white"
           }
          },
          "shapedefaults": {
           "line": {
            "color": "#2a3f5f"
           }
          },
          "ternary": {
           "aaxis": {
            "gridcolor": "white",
            "linecolor": "white",
            "ticks": ""
           },
           "baxis": {
            "gridcolor": "white",
            "linecolor": "white",
            "ticks": ""
           },
           "bgcolor": "#E5ECF6",
           "caxis": {
            "gridcolor": "white",
            "linecolor": "white",
            "ticks": ""
           }
          },
          "title": {
           "x": 0.05
          },
          "xaxis": {
           "automargin": true,
           "gridcolor": "white",
           "linecolor": "white",
           "ticks": "",
           "title": {
            "standoff": 15
           },
           "zerolinecolor": "white",
           "zerolinewidth": 2
          },
          "yaxis": {
           "automargin": true,
           "gridcolor": "white",
           "linecolor": "white",
           "ticks": "",
           "title": {
            "standoff": 15
           },
           "zerolinecolor": "white",
           "zerolinewidth": 2
          }
         }
        },
        "title": {
         "text": "2D Scatter Plot Example"
        },
        "width": 600,
        "xaxis": {
         "title": {
          "text": "X Axis"
         }
        },
        "yaxis": {
         "title": {
          "text": "Y Axis"
         }
        }
       }
      }
     },
     "metadata": {},
     "output_type": "display_data"
    }
   ],
   "source": [
    "import plotly.graph_objects as go\n",
    "\n",
    "\n",
    "# Create a scatter plot\n",
    "fig = go.Figure()\n",
    "hover_text = data[\"File name\"].values\n",
    "color_map = {\n",
    "    0: 'orange',\n",
    "    1: 'blue',\n",
    "    2: 'red'\n",
    "}\n",
    "# Add scatter trace\n",
    "fig.add_trace(go.Scatter(\n",
    "    x=X_lda[:, 0],\n",
    "    y=X_lda[:, 1],\n",
    "    mode='markers',  # Display markers and text\n",
    "    marker=dict(\n",
    "        size=10, \n",
    "        color = y,\n",
    "        colorscale='Viridis', \n",
    "        colorbar=dict(title='Type', tickvals = [0,1,2], ticktext = ['Hỗn hợp', 'Rễ', 'Thân']),  \n",
    "        showscale=True,\n",
    "        line=dict(\n",
    "            width=2,  # Width of the border\n",
    "            color='black'  # Border color\n",
    "        )\n",
    "        ),\n",
    "    hovertemplate = hover_text,\n",
    "\n",
    "))\n",
    "\n",
    "# Update layout\n",
    "fig.update_layout(\n",
    "    title='2D Scatter Plot Example',\n",
    "    xaxis_title='X Axis',\n",
    "    yaxis_title='Y Axis',\n",
    "    width = 600,\n",
    "    height = 600,\n",
    ")\n",
    "\n",
    "# Show the plot\n",
    "fig.show()"
   ]
  },
  {
   "cell_type": "code",
   "execution_count": 128,
   "metadata": {},
   "outputs": [],
   "source": [
    "test_folder = \"data2/Test\"\n",
    "data_frames = []\n",
    "file_names = []\n",
    "for index, file_name in enumerate(os.listdir(test_folder)):\n",
    "    if file_name.endswith(\".CSV\"):  # Check if the file is a CSV\n",
    "        file_path = os.path.join(test_folder, file_name)\n",
    "        df = pd.read_csv(file_path, header=None).values\n",
    "        if index == 0:\n",
    "            data_frames.append(df[:, 0].reshape(1, -1))\n",
    "        data_frames.append(df[:, 1].reshape(1, -1))\n",
    "        file_names.append(file_name)\n",
    "test = pd.DataFrame(np.concatenate(data_frames[1:]), columns=list(data_frames[0]))\n",
    "test.columns = ['_'.join(map(str, col)) for col in test.columns]\n",
    "test[\"File name\"] = file_names\n",
    "test[\"Type\"] = test[\"File name\"].str.split(\"-\", expand=True)[0].str[0]"
   ]
  },
  {
   "cell_type": "code",
   "execution_count": 129,
   "metadata": {},
   "outputs": [
    {
     "data": {
      "text/html": [
       "<div>\n",
       "<style scoped>\n",
       "    .dataframe tbody tr th:only-of-type {\n",
       "        vertical-align: middle;\n",
       "    }\n",
       "\n",
       "    .dataframe tbody tr th {\n",
       "        vertical-align: top;\n",
       "    }\n",
       "\n",
       "    .dataframe thead th {\n",
       "        text-align: right;\n",
       "    }\n",
       "</style>\n",
       "<table border=\"1\" class=\"dataframe\">\n",
       "  <thead>\n",
       "    <tr style=\"text-align: right;\">\n",
       "      <th></th>\n",
       "      <th>399.2123</th>\n",
       "      <th>401.1409</th>\n",
       "      <th>403.0695</th>\n",
       "      <th>404.998</th>\n",
       "      <th>406.9266</th>\n",
       "      <th>408.8552</th>\n",
       "      <th>410.7837</th>\n",
       "      <th>412.7123</th>\n",
       "      <th>414.6408</th>\n",
       "      <th>416.5694</th>\n",
       "      <th>...</th>\n",
       "      <th>3988.266</th>\n",
       "      <th>3990.195</th>\n",
       "      <th>3992.123</th>\n",
       "      <th>3994.052</th>\n",
       "      <th>3995.98</th>\n",
       "      <th>3997.909</th>\n",
       "      <th>3999.837</th>\n",
       "      <th>4001.766</th>\n",
       "      <th>File name</th>\n",
       "      <th>Type</th>\n",
       "    </tr>\n",
       "  </thead>\n",
       "  <tbody>\n",
       "    <tr>\n",
       "      <th>0</th>\n",
       "      <td>47.91322</td>\n",
       "      <td>44.72962</td>\n",
       "      <td>44.43270</td>\n",
       "      <td>45.82262</td>\n",
       "      <td>45.55671</td>\n",
       "      <td>44.43973</td>\n",
       "      <td>44.72673</td>\n",
       "      <td>45.07159</td>\n",
       "      <td>43.98170</td>\n",
       "      <td>43.47054</td>\n",
       "      <td>...</td>\n",
       "      <td>49.24923</td>\n",
       "      <td>49.24908</td>\n",
       "      <td>49.24609</td>\n",
       "      <td>49.23628</td>\n",
       "      <td>49.27656</td>\n",
       "      <td>49.30932</td>\n",
       "      <td>49.33203</td>\n",
       "      <td>0.0</td>\n",
       "      <td>M1.CSV</td>\n",
       "      <td>M</td>\n",
       "    </tr>\n",
       "    <tr>\n",
       "      <th>1</th>\n",
       "      <td>43.01068</td>\n",
       "      <td>41.89880</td>\n",
       "      <td>41.78723</td>\n",
       "      <td>40.79509</td>\n",
       "      <td>39.92355</td>\n",
       "      <td>40.89822</td>\n",
       "      <td>40.52527</td>\n",
       "      <td>40.96305</td>\n",
       "      <td>39.90686</td>\n",
       "      <td>39.59190</td>\n",
       "      <td>...</td>\n",
       "      <td>47.99864</td>\n",
       "      <td>47.99638</td>\n",
       "      <td>48.01379</td>\n",
       "      <td>48.01406</td>\n",
       "      <td>48.04306</td>\n",
       "      <td>48.02804</td>\n",
       "      <td>48.02218</td>\n",
       "      <td>0.0</td>\n",
       "      <td>M2.CSV</td>\n",
       "      <td>M</td>\n",
       "    </tr>\n",
       "    <tr>\n",
       "      <th>2</th>\n",
       "      <td>49.31813</td>\n",
       "      <td>49.64507</td>\n",
       "      <td>49.94800</td>\n",
       "      <td>50.10004</td>\n",
       "      <td>49.58234</td>\n",
       "      <td>48.98740</td>\n",
       "      <td>48.90690</td>\n",
       "      <td>49.26768</td>\n",
       "      <td>49.80587</td>\n",
       "      <td>50.03410</td>\n",
       "      <td>...</td>\n",
       "      <td>48.10555</td>\n",
       "      <td>48.17324</td>\n",
       "      <td>48.20655</td>\n",
       "      <td>48.17601</td>\n",
       "      <td>48.18417</td>\n",
       "      <td>48.16763</td>\n",
       "      <td>48.17384</td>\n",
       "      <td>0.0</td>\n",
       "      <td>M3.CSV</td>\n",
       "      <td>M</td>\n",
       "    </tr>\n",
       "    <tr>\n",
       "      <th>3</th>\n",
       "      <td>45.79926</td>\n",
       "      <td>46.09223</td>\n",
       "      <td>45.70929</td>\n",
       "      <td>45.70539</td>\n",
       "      <td>45.87705</td>\n",
       "      <td>45.66919</td>\n",
       "      <td>45.83305</td>\n",
       "      <td>46.00776</td>\n",
       "      <td>45.84216</td>\n",
       "      <td>45.48048</td>\n",
       "      <td>...</td>\n",
       "      <td>39.69290</td>\n",
       "      <td>39.74885</td>\n",
       "      <td>39.77573</td>\n",
       "      <td>39.74401</td>\n",
       "      <td>39.74039</td>\n",
       "      <td>39.72898</td>\n",
       "      <td>39.75054</td>\n",
       "      <td>0.0</td>\n",
       "      <td>M4.CSV</td>\n",
       "      <td>M</td>\n",
       "    </tr>\n",
       "    <tr>\n",
       "      <th>4</th>\n",
       "      <td>55.87132</td>\n",
       "      <td>55.23475</td>\n",
       "      <td>54.91975</td>\n",
       "      <td>54.81831</td>\n",
       "      <td>54.29011</td>\n",
       "      <td>54.28499</td>\n",
       "      <td>54.51881</td>\n",
       "      <td>54.82055</td>\n",
       "      <td>54.91263</td>\n",
       "      <td>54.36546</td>\n",
       "      <td>...</td>\n",
       "      <td>52.82410</td>\n",
       "      <td>52.85090</td>\n",
       "      <td>52.82244</td>\n",
       "      <td>52.80397</td>\n",
       "      <td>52.86528</td>\n",
       "      <td>52.83565</td>\n",
       "      <td>52.81130</td>\n",
       "      <td>0.0</td>\n",
       "      <td>M5-1.CSV</td>\n",
       "      <td>M</td>\n",
       "    </tr>\n",
       "    <tr>\n",
       "      <th>5</th>\n",
       "      <td>56.58463</td>\n",
       "      <td>57.09010</td>\n",
       "      <td>57.04803</td>\n",
       "      <td>57.13952</td>\n",
       "      <td>56.15062</td>\n",
       "      <td>56.13530</td>\n",
       "      <td>56.69629</td>\n",
       "      <td>56.83397</td>\n",
       "      <td>56.65569</td>\n",
       "      <td>56.07261</td>\n",
       "      <td>...</td>\n",
       "      <td>58.05157</td>\n",
       "      <td>58.08049</td>\n",
       "      <td>58.11422</td>\n",
       "      <td>58.11776</td>\n",
       "      <td>58.10531</td>\n",
       "      <td>58.07270</td>\n",
       "      <td>58.05911</td>\n",
       "      <td>0.0</td>\n",
       "      <td>M5-2.CSV</td>\n",
       "      <td>M</td>\n",
       "    </tr>\n",
       "    <tr>\n",
       "      <th>6</th>\n",
       "      <td>56.60339</td>\n",
       "      <td>56.23095</td>\n",
       "      <td>56.13525</td>\n",
       "      <td>56.50729</td>\n",
       "      <td>56.20774</td>\n",
       "      <td>56.25411</td>\n",
       "      <td>56.71189</td>\n",
       "      <td>56.77676</td>\n",
       "      <td>56.56879</td>\n",
       "      <td>56.03354</td>\n",
       "      <td>...</td>\n",
       "      <td>57.57919</td>\n",
       "      <td>57.62685</td>\n",
       "      <td>57.59036</td>\n",
       "      <td>57.58477</td>\n",
       "      <td>57.62533</td>\n",
       "      <td>57.59757</td>\n",
       "      <td>57.57706</td>\n",
       "      <td>0.0</td>\n",
       "      <td>M5-3.CSV</td>\n",
       "      <td>M</td>\n",
       "    </tr>\n",
       "    <tr>\n",
       "      <th>7</th>\n",
       "      <td>57.16325</td>\n",
       "      <td>56.03078</td>\n",
       "      <td>54.45307</td>\n",
       "      <td>54.10740</td>\n",
       "      <td>53.99395</td>\n",
       "      <td>54.49600</td>\n",
       "      <td>55.84809</td>\n",
       "      <td>55.19974</td>\n",
       "      <td>55.76630</td>\n",
       "      <td>55.88248</td>\n",
       "      <td>...</td>\n",
       "      <td>54.08372</td>\n",
       "      <td>54.09273</td>\n",
       "      <td>54.08028</td>\n",
       "      <td>54.09514</td>\n",
       "      <td>54.10740</td>\n",
       "      <td>54.09743</td>\n",
       "      <td>54.08543</td>\n",
       "      <td>0.0</td>\n",
       "      <td>M5-4.CSV</td>\n",
       "      <td>M</td>\n",
       "    </tr>\n",
       "    <tr>\n",
       "      <th>8</th>\n",
       "      <td>57.21651</td>\n",
       "      <td>56.95964</td>\n",
       "      <td>56.52177</td>\n",
       "      <td>55.68295</td>\n",
       "      <td>54.74205</td>\n",
       "      <td>55.08786</td>\n",
       "      <td>55.29156</td>\n",
       "      <td>55.52596</td>\n",
       "      <td>55.62667</td>\n",
       "      <td>55.10399</td>\n",
       "      <td>...</td>\n",
       "      <td>54.11256</td>\n",
       "      <td>54.14736</td>\n",
       "      <td>54.14464</td>\n",
       "      <td>54.15881</td>\n",
       "      <td>54.20229</td>\n",
       "      <td>54.17402</td>\n",
       "      <td>54.15868</td>\n",
       "      <td>0.0</td>\n",
       "      <td>M5-5.CSV</td>\n",
       "      <td>M</td>\n",
       "    </tr>\n",
       "  </tbody>\n",
       "</table>\n",
       "<p>9 rows × 1871 columns</p>\n",
       "</div>"
      ],
      "text/plain": [
       "   399.2123  401.1409  403.0695   404.998  406.9266  408.8552  410.7837  \\\n",
       "0  47.91322  44.72962  44.43270  45.82262  45.55671  44.43973  44.72673   \n",
       "1  43.01068  41.89880  41.78723  40.79509  39.92355  40.89822  40.52527   \n",
       "2  49.31813  49.64507  49.94800  50.10004  49.58234  48.98740  48.90690   \n",
       "3  45.79926  46.09223  45.70929  45.70539  45.87705  45.66919  45.83305   \n",
       "4  55.87132  55.23475  54.91975  54.81831  54.29011  54.28499  54.51881   \n",
       "5  56.58463  57.09010  57.04803  57.13952  56.15062  56.13530  56.69629   \n",
       "6  56.60339  56.23095  56.13525  56.50729  56.20774  56.25411  56.71189   \n",
       "7  57.16325  56.03078  54.45307  54.10740  53.99395  54.49600  55.84809   \n",
       "8  57.21651  56.95964  56.52177  55.68295  54.74205  55.08786  55.29156   \n",
       "\n",
       "   412.7123  414.6408  416.5694  ...  3988.266  3990.195  3992.123  3994.052  \\\n",
       "0  45.07159  43.98170  43.47054  ...  49.24923  49.24908  49.24609  49.23628   \n",
       "1  40.96305  39.90686  39.59190  ...  47.99864  47.99638  48.01379  48.01406   \n",
       "2  49.26768  49.80587  50.03410  ...  48.10555  48.17324  48.20655  48.17601   \n",
       "3  46.00776  45.84216  45.48048  ...  39.69290  39.74885  39.77573  39.74401   \n",
       "4  54.82055  54.91263  54.36546  ...  52.82410  52.85090  52.82244  52.80397   \n",
       "5  56.83397  56.65569  56.07261  ...  58.05157  58.08049  58.11422  58.11776   \n",
       "6  56.77676  56.56879  56.03354  ...  57.57919  57.62685  57.59036  57.58477   \n",
       "7  55.19974  55.76630  55.88248  ...  54.08372  54.09273  54.08028  54.09514   \n",
       "8  55.52596  55.62667  55.10399  ...  54.11256  54.14736  54.14464  54.15881   \n",
       "\n",
       "    3995.98  3997.909  3999.837  4001.766  File name  Type  \n",
       "0  49.27656  49.30932  49.33203       0.0     M1.CSV     M  \n",
       "1  48.04306  48.02804  48.02218       0.0     M2.CSV     M  \n",
       "2  48.18417  48.16763  48.17384       0.0     M3.CSV     M  \n",
       "3  39.74039  39.72898  39.75054       0.0     M4.CSV     M  \n",
       "4  52.86528  52.83565  52.81130       0.0   M5-1.CSV     M  \n",
       "5  58.10531  58.07270  58.05911       0.0   M5-2.CSV     M  \n",
       "6  57.62533  57.59757  57.57706       0.0   M5-3.CSV     M  \n",
       "7  54.10740  54.09743  54.08543       0.0   M5-4.CSV     M  \n",
       "8  54.20229  54.17402  54.15868       0.0   M5-5.CSV     M  \n",
       "\n",
       "[9 rows x 1871 columns]"
      ]
     },
     "execution_count": 129,
     "metadata": {},
     "output_type": "execute_result"
    }
   ],
   "source": [
    "test"
   ]
  },
  {
   "cell_type": "code",
   "execution_count": 130,
   "metadata": {},
   "outputs": [],
   "source": [
    "test_folder = \"data2/Test\"\n",
    "data_frames = []\n",
    "file_names = []\n",
    "for index, file_name in enumerate(os.listdir(test_folder)):\n",
    "    if file_name.endswith(\".CSV\"):  # Check if the file is a CSV\n",
    "        file_path = os.path.join(test_folder, file_name)\n",
    "        df = pd.read_csv(file_path, header=None).values\n",
    "        if index == 0:\n",
    "            data_frames.append(df[:, 0].reshape(1, -1))\n",
    "        data_frames.append(df[:, 1].reshape(1, -1))\n",
    "        file_names.append(file_name)\n",
    "test = pd.DataFrame(np.concatenate(data_frames[1:]), columns=list(data_frames[0]))\n",
    "test.columns = ['_'.join(map(str, col)) for col in test.columns]\n",
    "test[\"File name\"] = file_names\n",
    "test[\"Type\"] = test[\"File name\"].str.split(\"-\", expand=True)[0].str[0]"
   ]
  },
  {
   "cell_type": "code",
   "execution_count": 131,
   "metadata": {},
   "outputs": [],
   "source": [
    "X_test = test.iloc[:, :-2]\n",
    "X_test_snv = snv(X_test.values)\n",
    "X_test = savgol_filter(X_test_snv, window_length = window_len,  polyorder=poly_or, deriv = deriv_num)\n",
    "\n",
    "X_test_scaled = scaler.transform(X_test)\n",
    "X_test_pca = pca.transform(X_test_scaled)\n",
    "X_test_lda = lda.transform(X_test_pca)"
   ]
  },
  {
   "cell_type": "code",
   "execution_count": null,
   "metadata": {},
   "outputs": [],
   "source": []
  },
  {
   "cell_type": "code",
   "execution_count": 132,
   "metadata": {},
   "outputs": [
    {
     "data": {
      "application/vnd.plotly.v1+json": {
       "config": {
        "plotlyServerURL": "https://plot.ly"
       },
       "data": [
        {
         "hovertemplate": [
          "D10_-1-1.CSV",
          "D10_-1-2.CSV",
          "D10_-1-3.CSV",
          "D10_-1-4.CSV",
          "D10_-1-5.CSV",
          "D10_-2-1.CSV",
          "D10_-2-2.CSV",
          "D10_-2-3.CSV",
          "D10_-2-4.CSV",
          "D10_-2-5.CSV",
          "D3-1-1.CSV",
          "D3-1-2.CSV",
          "D3-1-3.CSV",
          "D3-1-4.CSV",
          "D3-1-5.CSV",
          "D5_-1-1.CSV",
          "D5_-1-2.CSV",
          "D5_-1-3.CSV",
          "D5_-1-4.CSV",
          "D5_-1-5.CSV",
          "D5_-2-1.CSV",
          "D5_-2-2.CSV",
          "D5_-2-3.CSV",
          "D5_-2-4.CSV",
          "D5_-2-5.CSV",
          "R-DLS1-1.CSV",
          "R-DLS1-2.CSV",
          "R-DLS1-3.CSV",
          "R-DLS1-4.CSV",
          "R-DLS1-5.CSV",
          "R-PF1-1.CSV",
          "R-PF1-2.CSV",
          "R-PF1-3.CSV",
          "R-PF1-4.CSV",
          "R-PF1-5.CSV",
          "R1-DLS1-1.CSV",
          "R1-DLS1-2.CSV",
          "R1-DLS1-3.CSV",
          "R1-DLS1-4.CSV",
          "R1-DLS5-1.CSV",
          "R1-DLS5-2.CSV",
          "R1-DLS5-3.CSV",
          "R1-DLS5-4.CSV",
          "R1-DLS5-5.CSV",
          "R10-1.CSV",
          "R10-2.CSV",
          "R10-3.CSV",
          "R10-4.CSV",
          "R10-5.CSV",
          "R16-1.CSV",
          "R16-2.CSV",
          "R16-3.CSV",
          "R16-4.CSV",
          "R16-5.CSV",
          "R2-DLS1-1.CSV",
          "R2-DLS1-2.CSV",
          "R2-DLS1-3.CSV",
          "R2-DLS1-4.CSV",
          "R2-DLS1-5.CSV",
          "R3-1.CSV",
          "R3-2.CSV",
          "R3-3.CSV",
          "R3-4.CSV",
          "R3-5.CSV",
          "R3_New-1.CSV",
          "R3_New-2.CSV",
          "R3_New-3.CSV",
          "R3_New-4.CSV",
          "R3_New-5.CSV",
          "R4-1.CSV",
          "R4-2.CSV",
          "R4-3.CSV",
          "R4-4.CSV",
          "R4-5.CSV",
          "T1-1.CSV",
          "T1-2.CSV",
          "T1-3.CSV",
          "T1-4.CSV",
          "T1-5.CSV",
          "T10-1.CSV",
          "T10-2.CSV",
          "T10-3.CSV",
          "T10-4.CSV",
          "T10-5.CSV",
          "T2-1.CSV",
          "T2-2.CSV",
          "T2-3.CSV",
          "T2-4.CSV",
          "T2-5.CSV",
          "T4-1.CSV",
          "T4-2.CSV",
          "T4-3.CSV",
          "T4-4.CSV",
          "T4-5.CSV",
          "T5-1.CSV",
          "T5-2.CSV",
          "T5-3.CSV",
          "T5-4.CSV",
          "T5-5.CSV",
          "T6-1.CSV",
          "T6-2.CSV",
          "T6-3.CSV",
          "T6-4.CSV",
          "T6-5.CSV",
          "T7-1.CSV",
          "T7-2.CSV",
          "T7-3.CSV",
          "T7-4.CSV",
          "T7-5.CSV",
          "T9-1.CSV",
          "T9-2.CSV",
          "T9-3.CSV",
          "T9-4.CSV",
          "T9-5.CSV",
          "TC-DLS5-1.CSV",
          "TC-DLS5-2.CSV",
          "TC-DLS5-3.CSV",
          "TC-DLS5-4.CSV",
          "TC-DLS5-5.CSV",
          "D1-1.CSVnew",
          "D1-2.CSVnew",
          "D1-3.CSVnew",
          "D1-4.CSVnew",
          "D1-5.CSVnew",
          "D1_-1-1.CSVnew",
          "D1_-1-2.CSVnew",
          "D1_-1-3.CSVnew",
          "D1_-1-4.CSVnew",
          "D1_-1-5.CSVnew",
          "D1_-2-1.CSVnew",
          "D1_-2-2.CSVnew",
          "D1_-2-3.CSVnew",
          "D1_-2-4.CSVnew",
          "D1_-2-5.CSVnew",
          "D2_-1-1.CSVnew",
          "D2_-1-2.CSVnew",
          "D2_-1-3.CSVnew",
          "D2_-1-4.CSVnew",
          "D2_-1-5.CSVnew",
          "D2_-2-1.CSVnew",
          "D2_-2-2.CSVnew",
          "D2_-2-3.CSVnew",
          "D2_-2-4.CSVnew",
          "D2_-2-5.CSVnew",
          "D2_-3-1.CSVnew",
          "D2_-3-2.CSVnew",
          "D2_-3-3.CSVnew",
          "D2_-3-4.CSVnew",
          "D2_-3-5.CSVnew",
          "D5_-3-1.CSVnew",
          "D5_-3-2.CSVnew",
          "D5_-3-3.CSVnew",
          "D5_-3-4.CSVnew",
          "D5_-3-5.CSVnew",
          "D9_-1-1.CSVnew",
          "D9_-1-2.CSVnew",
          "D9_-1-3.CSVnew",
          "D9_-1-4.CSVnew",
          "D9_-1-5.CSVnew"
         ],
         "marker": {
          "color": [
           0,
           0,
           0,
           0,
           0,
           0,
           0,
           0,
           0,
           0,
           0,
           0,
           0,
           0,
           0,
           0,
           0,
           0,
           0,
           0,
           0,
           0,
           0,
           0,
           0,
           1,
           1,
           1,
           1,
           1,
           1,
           1,
           1,
           1,
           1,
           1,
           1,
           1,
           1,
           1,
           1,
           1,
           1,
           1,
           1,
           1,
           1,
           1,
           1,
           1,
           1,
           1,
           1,
           1,
           1,
           1,
           1,
           1,
           1,
           1,
           1,
           1,
           1,
           1,
           1,
           1,
           1,
           1,
           1,
           1,
           1,
           1,
           1,
           1,
           2,
           2,
           2,
           2,
           2,
           2,
           2,
           2,
           2,
           2,
           2,
           2,
           2,
           2,
           2,
           2,
           2,
           2,
           2,
           2,
           2,
           2,
           2,
           2,
           2,
           2,
           2,
           2,
           2,
           2,
           2,
           2,
           2,
           2,
           2,
           2,
           2,
           2,
           2,
           2,
           2,
           2,
           2,
           2,
           2,
           0,
           0,
           0,
           0,
           0,
           0,
           0,
           0,
           0,
           0,
           0,
           0,
           0,
           0,
           0,
           0,
           0,
           0,
           0,
           0,
           0,
           0,
           0,
           0,
           0,
           0,
           0,
           0,
           0,
           0,
           0,
           0,
           0,
           0,
           0,
           0,
           0,
           0,
           0,
           0
          ],
          "colorbar": {
           "ticktext": [
            "Hỗn hợp",
            "Rễ",
            "Thân"
           ],
           "tickvals": [
            0,
            1,
            2
           ],
           "title": {
            "text": "Type"
           }
          },
          "colorscale": [
           [
            0,
            "#440154"
           ],
           [
            0.1111111111111111,
            "#482878"
           ],
           [
            0.2222222222222222,
            "#3e4989"
           ],
           [
            0.3333333333333333,
            "#31688e"
           ],
           [
            0.4444444444444444,
            "#26828e"
           ],
           [
            0.5555555555555556,
            "#1f9e89"
           ],
           [
            0.6666666666666666,
            "#35b779"
           ],
           [
            0.7777777777777778,
            "#6ece58"
           ],
           [
            0.8888888888888888,
            "#b5de2b"
           ],
           [
            1,
            "#fde725"
           ]
          ],
          "line": {
           "color": "black",
           "width": 2
          },
          "showscale": true,
          "size": 10
         },
         "mode": "markers",
         "type": "scatter",
         "x": [
          -0.7614665417215344,
          -0.5775529722552633,
          -1.278956686933127,
          0.012887488484977264,
          -0.21637471298590072,
          -0.06406352090064567,
          -0.25063728092008053,
          -0.9163510167966059,
          -0.9256218141782294,
          -0.1553330922568535,
          -1.4251232800685145,
          -1.3672378214890697,
          -1.4416084976162284,
          -1.4123609255818212,
          0.21904411439999333,
          -0.9769911221658759,
          -1.74723237070525,
          -0.306786188798067,
          -2.159145881098917,
          -2.2717907255157663,
          -0.6180358764380357,
          -0.7364122159408472,
          -0.4247068465455539,
          -0.5192585399357559,
          -1.1569192990660808,
          2.7795690855347486,
          1.9394603606101797,
          1.9752935548447252,
          3.1876439022906293,
          2.6723428394885413,
          1.343197772375922,
          2.701727726747204,
          1.942375637344136,
          1.4098134971075575,
          2.4035233599725068,
          3.2754595229089594,
          1.3574006957346556,
          2.8110240002445663,
          2.775310393514406,
          3.8881310377526095,
          3.7828391514217046,
          4.289647527245049,
          4.057026946665286,
          4.249555933092133,
          4.068990943175706,
          2.8049876069192643,
          2.814941180481682,
          3.591348572391348,
          3.3509734933602164,
          3.3509734933602164,
          3.64337715226297,
          5.1274192297660335,
          4.308041507814797,
          4.05272334403621,
          2.2809833291837127,
          2.2762445197959575,
          1.2767886307116485,
          1.5432959523929284,
          1.7165621284412655,
          1.7410681730130046,
          1.4942578596058873,
          1.9759314246383772,
          1.6084473514765212,
          1.8746854853076405,
          1.24773421972312,
          0.5514682580515472,
          0.7593690890512973,
          0.6560682736196366,
          0.6436439713167778,
          2.2473943079103322,
          2.1555814466432364,
          1.6193082013301263,
          2.0493358921884113,
          2.267493867798071,
          -0.129955894496042,
          0.12595297771696135,
          -0.5167433915443296,
          -0.2895876989336502,
          -0.8589229637485326,
          -1.3349700887786315,
          -0.10769297341265543,
          0.3823713375704759,
          0.9463995377826427,
          -0.1116854803429501,
          -1.2622130046865976,
          -0.798191661792068,
          -1.939588916522281,
          0.07315601743463615,
          -0.98963895943467,
          -0.8946709162079123,
          -1.6444595599689091,
          -0.1129367674229677,
          -0.490779574734224,
          -0.7651592716929319,
          -2.926345250963321,
          -1.2757437302124561,
          -0.691345502279648,
          -1.4560004708842897,
          -2.2868602098010165,
          -0.5553616748347677,
          -0.6836904227371602,
          -1.160501529311475,
          -0.9272701312461665,
          -0.25258123087425305,
          -1.0367638437153142,
          -0.12363459555589347,
          -0.25358319297476134,
          -0.3289999816664154,
          0.26141821050424086,
          -0.6132754365069779,
          0.5041488054318792,
          -0.5508271503056399,
          -0.6067815526410313,
          -0.8296431940566654,
          -1.6788266432031935,
          -1.6233261201757099,
          -1.4485054954206897,
          -1.3935490413394922,
          -1.6264588316820028,
          -2.029555889411482,
          -2.0357252111836672,
          -0.6668540981137988,
          -0.7604781891433471,
          -1.0640388619591883,
          -1.441243105860018,
          -1.498793153302103,
          0.015284072812234583,
          -0.10205430635341017,
          -2.653484730708843,
          -2.4811934314418433,
          -2.6747148759056993,
          -2.800861652666459,
          -2.807719942690867,
          -3.2522242783411626,
          -3.587708961973183,
          -3.58083814235611,
          -2.496087779005807,
          -2.4635131065033713,
          -2.4427541086846105,
          -0.11053280237757422,
          -0.26602003521293044,
          -0.2405006434894444,
          -0.23562170663522602,
          0.14535417469400477,
          -3.164094783325164,
          -3.1957555525875216,
          -2.6506076601187267,
          -2.61018330303326,
          -2.5783125049240434,
          -1.1285977298494292,
          -1.4362178747611656,
          -0.46072686314372513,
          -0.3605772236902357,
          -1.0973521288588401,
          -0.8540561964290382,
          -1.8003742302220278,
          -0.7983480501033519,
          -1.660064321512441,
          -0.8519715655946531
         ],
         "y": [
          -1.6873128608416172,
          0.6999171921219449,
          1.5180162814513913,
          1.3242226556120653,
          1.4068248573217061,
          -0.08234765704329274,
          -0.061007252805736656,
          -0.3478012560617035,
          -0.3140156785069581,
          -0.5062122544735833,
          -2.5684140438154963,
          -2.5925145491195445,
          -1.7244162982588118,
          -1.7334388309387039,
          -3.3750126158236826,
          0.5516392570397741,
          0.25976084483166434,
          1.1297721669609455,
          0.5859381100695265,
          0.4921521372186945,
          -0.3777776040516037,
          -0.4579587276578508,
          -1.012525189967261,
          -1.0211224225281879,
          -2.245168405312447,
          -1.3331489113188568,
          -1.480786163388808,
          -1.7556789594619902,
          -1.0914017356493528,
          -1.044278968175754,
          0.12261610096914141,
          -0.39202191837456957,
          -0.16616853663990327,
          0.051259337761653416,
          0.266050406045392,
          -0.954506636689929,
          0.05329178702403792,
          -0.8707966871653054,
          -0.8379577191651847,
          0.8496358141021052,
          0.9634894588210946,
          1.2015060892100229,
          1.2837043707421922,
          1.166255713376673,
          -0.1366678960045589,
          -0.32730947327142174,
          0.16771778834990206,
          0.06066646133570438,
          -0.01870928747969339,
          -0.01870928747969339,
          -0.8181944015713202,
          -0.21907076289336536,
          -0.3453638519960866,
          -0.06255750202100065,
          0.49138973570743244,
          0.48755058349114716,
          1.1158055250631174,
          1.2385286249183687,
          0.06750829022041213,
          -0.2578329671338635,
          -0.9902858462412182,
          -0.21242274359434962,
          -0.7260681196031811,
          -0.33120170863899134,
          -0.012415000732776115,
          0.07143791062721322,
          0.48005636383826056,
          0.4951025137940939,
          0.0012835640473181286,
          -0.714948851976669,
          -0.834908773672624,
          -0.9029123604311862,
          -0.9275174399731471,
          -0.6744682848484185,
          0.002386219413302262,
          -0.5261561956903519,
          -0.6602005407677071,
          -0.5925527243121226,
          -0.05908279401848739,
          -0.03220855257319904,
          1.0200350166965113,
          0.76259730230799,
          0.16627275246709328,
          1.035187066853187,
          1.347863395113151,
          2.3413519200634023,
          1.3082106659609594,
          1.5570742621248375,
          2.1923351173603116,
          1.9476678974543193,
          1.5407768604695447,
          1.5573932717341439,
          1.6148195060842467,
          1.4119767535398484,
          1.566248811274029,
          1.685552983072409,
          2.104622811924692,
          3.364751113066786,
          3.1157679586111113,
          0.29560222568627664,
          0.2871588627523772,
          0.9448820225172103,
          0.36327345724415866,
          1.0635385886525934,
          0.09886734955888717,
          0.403141812082239,
          0.47396026759465887,
          0.353166092781246,
          0.3717048713581976,
          0.8533950394039361,
          0.17294345467229572,
          0.2713964971465272,
          0.27411895091782185,
          0.32294182491093354,
          2.620044131558784,
          2.6349563738931012,
          3.3075708763657374,
          3.320756245775991,
          2.9600028694653475,
          -0.9113303799104443,
          -0.8964982957610133,
          -0.6046988294774613,
          -0.6086840533692244,
          -1.5367129377777065,
          0.1406333860467661,
          0.18575441988046015,
          0.4494939556309105,
          0.4720792509615393,
          -0.6244103150095354,
          -1.4177019629194334,
          -1.4316048257668519,
          -1.5128581138292447,
          -1.554572295669004,
          -1.725806291138705,
          -0.44530547087269573,
          -0.47051524062225364,
          0.44494090397889435,
          0.39802223152496635,
          0.4275162584964429,
          -0.2874896099188295,
          -0.28431583249238623,
          -0.04783095606067042,
          -0.07680718504202276,
          0.41802354880355325,
          -1.2931694500757573,
          -1.3227580128739271,
          -1.4831555310440703,
          -1.5404536068337262,
          -1.0567838658508237,
          -0.4787916579949457,
          -0.5949361355185874,
          -1.071799096389722,
          -1.2191956065758338,
          -0.6535827810132833,
          -1.2195028045232996,
          -2.998391527450564,
          -1.3537032141244494,
          -3.1453516567947783,
          -0.2716026044639139
         ]
        },
        {
         "marker": {
          "color": "green",
          "line": {
           "color": "black",
           "width": 2
          },
          "size": 10
         },
         "mode": "markers+text",
         "text": [
          "M1.CSV",
          "M2.CSV",
          "M3.CSV",
          "M4.CSV",
          "M5-1.CSV",
          "M5-2.CSV",
          "M5-3.CSV",
          "M5-4.CSV",
          "M5-5.CSV"
         ],
         "textfont": {
          "color": "red",
          "family": "Arial, sans-serif",
          "size": 14
         },
         "textposition": "top right",
         "type": "scatter",
         "x": [
          0.8835587101633846,
          4.183543502481422,
          -2.6360609463120452,
          -1.7990290944976104,
          -1.5320109881506774,
          -1.8644030568457133,
          -2.0751207201380226,
          -1.9012340716811806,
          -1.9308974882368601
         ],
         "y": [
          -0.04117887275019924,
          -0.9562374659110098,
          -0.19781491280933322,
          -0.7503184376957642,
          0.22985794290377642,
          0.3133116538789755,
          0.3088366263316724,
          0.33172042988882855,
          0.2981852681810552
         ]
        }
       ],
       "layout": {
        "height": 600,
        "showlegend": false,
        "template": {
         "data": {
          "bar": [
           {
            "error_x": {
             "color": "#2a3f5f"
            },
            "error_y": {
             "color": "#2a3f5f"
            },
            "marker": {
             "line": {
              "color": "#E5ECF6",
              "width": 0.5
             },
             "pattern": {
              "fillmode": "overlay",
              "size": 10,
              "solidity": 0.2
             }
            },
            "type": "bar"
           }
          ],
          "barpolar": [
           {
            "marker": {
             "line": {
              "color": "#E5ECF6",
              "width": 0.5
             },
             "pattern": {
              "fillmode": "overlay",
              "size": 10,
              "solidity": 0.2
             }
            },
            "type": "barpolar"
           }
          ],
          "carpet": [
           {
            "aaxis": {
             "endlinecolor": "#2a3f5f",
             "gridcolor": "white",
             "linecolor": "white",
             "minorgridcolor": "white",
             "startlinecolor": "#2a3f5f"
            },
            "baxis": {
             "endlinecolor": "#2a3f5f",
             "gridcolor": "white",
             "linecolor": "white",
             "minorgridcolor": "white",
             "startlinecolor": "#2a3f5f"
            },
            "type": "carpet"
           }
          ],
          "choropleth": [
           {
            "colorbar": {
             "outlinewidth": 0,
             "ticks": ""
            },
            "type": "choropleth"
           }
          ],
          "contour": [
           {
            "colorbar": {
             "outlinewidth": 0,
             "ticks": ""
            },
            "colorscale": [
             [
              0,
              "#0d0887"
             ],
             [
              0.1111111111111111,
              "#46039f"
             ],
             [
              0.2222222222222222,
              "#7201a8"
             ],
             [
              0.3333333333333333,
              "#9c179e"
             ],
             [
              0.4444444444444444,
              "#bd3786"
             ],
             [
              0.5555555555555556,
              "#d8576b"
             ],
             [
              0.6666666666666666,
              "#ed7953"
             ],
             [
              0.7777777777777778,
              "#fb9f3a"
             ],
             [
              0.8888888888888888,
              "#fdca26"
             ],
             [
              1,
              "#f0f921"
             ]
            ],
            "type": "contour"
           }
          ],
          "contourcarpet": [
           {
            "colorbar": {
             "outlinewidth": 0,
             "ticks": ""
            },
            "type": "contourcarpet"
           }
          ],
          "heatmap": [
           {
            "colorbar": {
             "outlinewidth": 0,
             "ticks": ""
            },
            "colorscale": [
             [
              0,
              "#0d0887"
             ],
             [
              0.1111111111111111,
              "#46039f"
             ],
             [
              0.2222222222222222,
              "#7201a8"
             ],
             [
              0.3333333333333333,
              "#9c179e"
             ],
             [
              0.4444444444444444,
              "#bd3786"
             ],
             [
              0.5555555555555556,
              "#d8576b"
             ],
             [
              0.6666666666666666,
              "#ed7953"
             ],
             [
              0.7777777777777778,
              "#fb9f3a"
             ],
             [
              0.8888888888888888,
              "#fdca26"
             ],
             [
              1,
              "#f0f921"
             ]
            ],
            "type": "heatmap"
           }
          ],
          "heatmapgl": [
           {
            "colorbar": {
             "outlinewidth": 0,
             "ticks": ""
            },
            "colorscale": [
             [
              0,
              "#0d0887"
             ],
             [
              0.1111111111111111,
              "#46039f"
             ],
             [
              0.2222222222222222,
              "#7201a8"
             ],
             [
              0.3333333333333333,
              "#9c179e"
             ],
             [
              0.4444444444444444,
              "#bd3786"
             ],
             [
              0.5555555555555556,
              "#d8576b"
             ],
             [
              0.6666666666666666,
              "#ed7953"
             ],
             [
              0.7777777777777778,
              "#fb9f3a"
             ],
             [
              0.8888888888888888,
              "#fdca26"
             ],
             [
              1,
              "#f0f921"
             ]
            ],
            "type": "heatmapgl"
           }
          ],
          "histogram": [
           {
            "marker": {
             "pattern": {
              "fillmode": "overlay",
              "size": 10,
              "solidity": 0.2
             }
            },
            "type": "histogram"
           }
          ],
          "histogram2d": [
           {
            "colorbar": {
             "outlinewidth": 0,
             "ticks": ""
            },
            "colorscale": [
             [
              0,
              "#0d0887"
             ],
             [
              0.1111111111111111,
              "#46039f"
             ],
             [
              0.2222222222222222,
              "#7201a8"
             ],
             [
              0.3333333333333333,
              "#9c179e"
             ],
             [
              0.4444444444444444,
              "#bd3786"
             ],
             [
              0.5555555555555556,
              "#d8576b"
             ],
             [
              0.6666666666666666,
              "#ed7953"
             ],
             [
              0.7777777777777778,
              "#fb9f3a"
             ],
             [
              0.8888888888888888,
              "#fdca26"
             ],
             [
              1,
              "#f0f921"
             ]
            ],
            "type": "histogram2d"
           }
          ],
          "histogram2dcontour": [
           {
            "colorbar": {
             "outlinewidth": 0,
             "ticks": ""
            },
            "colorscale": [
             [
              0,
              "#0d0887"
             ],
             [
              0.1111111111111111,
              "#46039f"
             ],
             [
              0.2222222222222222,
              "#7201a8"
             ],
             [
              0.3333333333333333,
              "#9c179e"
             ],
             [
              0.4444444444444444,
              "#bd3786"
             ],
             [
              0.5555555555555556,
              "#d8576b"
             ],
             [
              0.6666666666666666,
              "#ed7953"
             ],
             [
              0.7777777777777778,
              "#fb9f3a"
             ],
             [
              0.8888888888888888,
              "#fdca26"
             ],
             [
              1,
              "#f0f921"
             ]
            ],
            "type": "histogram2dcontour"
           }
          ],
          "mesh3d": [
           {
            "colorbar": {
             "outlinewidth": 0,
             "ticks": ""
            },
            "type": "mesh3d"
           }
          ],
          "parcoords": [
           {
            "line": {
             "colorbar": {
              "outlinewidth": 0,
              "ticks": ""
             }
            },
            "type": "parcoords"
           }
          ],
          "pie": [
           {
            "automargin": true,
            "type": "pie"
           }
          ],
          "scatter": [
           {
            "fillpattern": {
             "fillmode": "overlay",
             "size": 10,
             "solidity": 0.2
            },
            "type": "scatter"
           }
          ],
          "scatter3d": [
           {
            "line": {
             "colorbar": {
              "outlinewidth": 0,
              "ticks": ""
             }
            },
            "marker": {
             "colorbar": {
              "outlinewidth": 0,
              "ticks": ""
             }
            },
            "type": "scatter3d"
           }
          ],
          "scattercarpet": [
           {
            "marker": {
             "colorbar": {
              "outlinewidth": 0,
              "ticks": ""
             }
            },
            "type": "scattercarpet"
           }
          ],
          "scattergeo": [
           {
            "marker": {
             "colorbar": {
              "outlinewidth": 0,
              "ticks": ""
             }
            },
            "type": "scattergeo"
           }
          ],
          "scattergl": [
           {
            "marker": {
             "colorbar": {
              "outlinewidth": 0,
              "ticks": ""
             }
            },
            "type": "scattergl"
           }
          ],
          "scattermapbox": [
           {
            "marker": {
             "colorbar": {
              "outlinewidth": 0,
              "ticks": ""
             }
            },
            "type": "scattermapbox"
           }
          ],
          "scatterpolar": [
           {
            "marker": {
             "colorbar": {
              "outlinewidth": 0,
              "ticks": ""
             }
            },
            "type": "scatterpolar"
           }
          ],
          "scatterpolargl": [
           {
            "marker": {
             "colorbar": {
              "outlinewidth": 0,
              "ticks": ""
             }
            },
            "type": "scatterpolargl"
           }
          ],
          "scatterternary": [
           {
            "marker": {
             "colorbar": {
              "outlinewidth": 0,
              "ticks": ""
             }
            },
            "type": "scatterternary"
           }
          ],
          "surface": [
           {
            "colorbar": {
             "outlinewidth": 0,
             "ticks": ""
            },
            "colorscale": [
             [
              0,
              "#0d0887"
             ],
             [
              0.1111111111111111,
              "#46039f"
             ],
             [
              0.2222222222222222,
              "#7201a8"
             ],
             [
              0.3333333333333333,
              "#9c179e"
             ],
             [
              0.4444444444444444,
              "#bd3786"
             ],
             [
              0.5555555555555556,
              "#d8576b"
             ],
             [
              0.6666666666666666,
              "#ed7953"
             ],
             [
              0.7777777777777778,
              "#fb9f3a"
             ],
             [
              0.8888888888888888,
              "#fdca26"
             ],
             [
              1,
              "#f0f921"
             ]
            ],
            "type": "surface"
           }
          ],
          "table": [
           {
            "cells": {
             "fill": {
              "color": "#EBF0F8"
             },
             "line": {
              "color": "white"
             }
            },
            "header": {
             "fill": {
              "color": "#C8D4E3"
             },
             "line": {
              "color": "white"
             }
            },
            "type": "table"
           }
          ]
         },
         "layout": {
          "annotationdefaults": {
           "arrowcolor": "#2a3f5f",
           "arrowhead": 0,
           "arrowwidth": 1
          },
          "autotypenumbers": "strict",
          "coloraxis": {
           "colorbar": {
            "outlinewidth": 0,
            "ticks": ""
           }
          },
          "colorscale": {
           "diverging": [
            [
             0,
             "#8e0152"
            ],
            [
             0.1,
             "#c51b7d"
            ],
            [
             0.2,
             "#de77ae"
            ],
            [
             0.3,
             "#f1b6da"
            ],
            [
             0.4,
             "#fde0ef"
            ],
            [
             0.5,
             "#f7f7f7"
            ],
            [
             0.6,
             "#e6f5d0"
            ],
            [
             0.7,
             "#b8e186"
            ],
            [
             0.8,
             "#7fbc41"
            ],
            [
             0.9,
             "#4d9221"
            ],
            [
             1,
             "#276419"
            ]
           ],
           "sequential": [
            [
             0,
             "#0d0887"
            ],
            [
             0.1111111111111111,
             "#46039f"
            ],
            [
             0.2222222222222222,
             "#7201a8"
            ],
            [
             0.3333333333333333,
             "#9c179e"
            ],
            [
             0.4444444444444444,
             "#bd3786"
            ],
            [
             0.5555555555555556,
             "#d8576b"
            ],
            [
             0.6666666666666666,
             "#ed7953"
            ],
            [
             0.7777777777777778,
             "#fb9f3a"
            ],
            [
             0.8888888888888888,
             "#fdca26"
            ],
            [
             1,
             "#f0f921"
            ]
           ],
           "sequentialminus": [
            [
             0,
             "#0d0887"
            ],
            [
             0.1111111111111111,
             "#46039f"
            ],
            [
             0.2222222222222222,
             "#7201a8"
            ],
            [
             0.3333333333333333,
             "#9c179e"
            ],
            [
             0.4444444444444444,
             "#bd3786"
            ],
            [
             0.5555555555555556,
             "#d8576b"
            ],
            [
             0.6666666666666666,
             "#ed7953"
            ],
            [
             0.7777777777777778,
             "#fb9f3a"
            ],
            [
             0.8888888888888888,
             "#fdca26"
            ],
            [
             1,
             "#f0f921"
            ]
           ]
          },
          "colorway": [
           "#636efa",
           "#EF553B",
           "#00cc96",
           "#ab63fa",
           "#FFA15A",
           "#19d3f3",
           "#FF6692",
           "#B6E880",
           "#FF97FF",
           "#FECB52"
          ],
          "font": {
           "color": "#2a3f5f"
          },
          "geo": {
           "bgcolor": "white",
           "lakecolor": "white",
           "landcolor": "#E5ECF6",
           "showlakes": true,
           "showland": true,
           "subunitcolor": "white"
          },
          "hoverlabel": {
           "align": "left"
          },
          "hovermode": "closest",
          "mapbox": {
           "style": "light"
          },
          "paper_bgcolor": "white",
          "plot_bgcolor": "#E5ECF6",
          "polar": {
           "angularaxis": {
            "gridcolor": "white",
            "linecolor": "white",
            "ticks": ""
           },
           "bgcolor": "#E5ECF6",
           "radialaxis": {
            "gridcolor": "white",
            "linecolor": "white",
            "ticks": ""
           }
          },
          "scene": {
           "xaxis": {
            "backgroundcolor": "#E5ECF6",
            "gridcolor": "white",
            "gridwidth": 2,
            "linecolor": "white",
            "showbackground": true,
            "ticks": "",
            "zerolinecolor": "white"
           },
           "yaxis": {
            "backgroundcolor": "#E5ECF6",
            "gridcolor": "white",
            "gridwidth": 2,
            "linecolor": "white",
            "showbackground": true,
            "ticks": "",
            "zerolinecolor": "white"
           },
           "zaxis": {
            "backgroundcolor": "#E5ECF6",
            "gridcolor": "white",
            "gridwidth": 2,
            "linecolor": "white",
            "showbackground": true,
            "ticks": "",
            "zerolinecolor": "white"
           }
          },
          "shapedefaults": {
           "line": {
            "color": "#2a3f5f"
           }
          },
          "ternary": {
           "aaxis": {
            "gridcolor": "white",
            "linecolor": "white",
            "ticks": ""
           },
           "baxis": {
            "gridcolor": "white",
            "linecolor": "white",
            "ticks": ""
           },
           "bgcolor": "#E5ECF6",
           "caxis": {
            "gridcolor": "white",
            "linecolor": "white",
            "ticks": ""
           }
          },
          "title": {
           "x": 0.05
          },
          "xaxis": {
           "automargin": true,
           "gridcolor": "white",
           "linecolor": "white",
           "ticks": "",
           "title": {
            "standoff": 15
           },
           "zerolinecolor": "white",
           "zerolinewidth": 2
          },
          "yaxis": {
           "automargin": true,
           "gridcolor": "white",
           "linecolor": "white",
           "ticks": "",
           "title": {
            "standoff": 15
           },
           "zerolinecolor": "white",
           "zerolinewidth": 2
          }
         }
        },
        "title": {
         "text": "2D Scatter Plot Example"
        },
        "width": 600,
        "xaxis": {
         "range": [
          -24,
          24
         ],
         "title": {
          "text": "X Axis"
         }
        },
        "yaxis": {
         "range": [
          -12,
          12
         ],
         "title": {
          "text": "Y Axis"
         }
        }
       }
      }
     },
     "metadata": {},
     "output_type": "display_data"
    }
   ],
   "source": [
    "import plotly.graph_objects as go\n",
    "\n",
    "\n",
    "# Create a scatter plot\n",
    "fig = go.Figure()\n",
    "hover_text1 = data[\"File name\"].values\n",
    "hover_text2 = test[\"File name\"].values\n",
    "color_map = {\n",
    "    0: 'orange',\n",
    "    1: 'blue',\n",
    "    2: 'red'\n",
    "}\n",
    "# Add scatter trace\n",
    "fig.add_trace(go.Scatter(\n",
    "    x=X_lda[:, 0],\n",
    "    y=X_lda[:, 1],\n",
    "    mode='markers',  # Display markers and text\n",
    "    marker=dict(\n",
    "        size=10, \n",
    "        color = y,\n",
    "        colorscale='Viridis', \n",
    "        colorbar=dict(title='Type', tickvals = [0,1,2], ticktext = ['Hỗn hợp', 'Rễ', 'Thân']),  \n",
    "        showscale=True,\n",
    "        line=dict(\n",
    "            width=2,  # Width of the border\n",
    "            color='black'  # Border color\n",
    "        )\n",
    "        ),\n",
    "    hovertemplate = hover_text1,\n",
    "\n",
    "))\n",
    "fig.add_trace(go.Scatter(\n",
    "    x=X_test_lda[:, 0],\n",
    "    y=X_test_lda[:, 1],\n",
    "    mode='markers + text',  # Display markers and text\n",
    "    marker=dict(\n",
    "        size=10, \n",
    "        color = 'green',\n",
    "        line=dict(\n",
    "            width=2,  # Width of the border\n",
    "            color='black'  # Border color\n",
    "        )\n",
    "        ),\n",
    "    # hovertemplate = hover_text2,\n",
    "    text = hover_text2,\n",
    "    textposition=\"top right\",\n",
    "    textfont=dict(\n",
    "        color='red',  # Change the text color\n",
    "        size=14,      # Change the text size\n",
    "        family='Arial, sans-serif',  # Change the font family\n",
    "        # Set the text to bold\n",
    "        # weight='bold'  \n",
    "    )\n",
    "\n",
    "))\n",
    "fig.update_yaxes(range=[-12, 12])  # Set x-axis limits from 0 to 6\n",
    "fig.update_xaxes(range=[-24, 24])  # Set y-axis limits from 9 to 15\n",
    "# Update layout\n",
    "fig.update_layout(\n",
    "    title='2D Scatter Plot Example',\n",
    "    xaxis_title='X Axis',\n",
    "    yaxis_title='Y Axis',\n",
    "    width = 600,\n",
    "    height = 600,\n",
    "    showlegend=False\n",
    ")\n",
    "\n",
    "# Show the plot\n",
    "fig.show()"
   ]
  }
 ],
 "metadata": {
  "kernelspec": {
   "display_name": "Python 3",
   "language": "python",
   "name": "python3"
  },
  "language_info": {
   "codemirror_mode": {
    "name": "ipython",
    "version": 3
   },
   "file_extension": ".py",
   "mimetype": "text/x-python",
   "name": "python",
   "nbconvert_exporter": "python",
   "pygments_lexer": "ipython3",
   "version": "3.11.6"
  }
 },
 "nbformat": 4,
 "nbformat_minor": 2
}
